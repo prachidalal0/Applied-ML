{
 "cells": [
  {
   "cell_type": "code",
   "execution_count": 1,
   "id": "c0a2752e",
   "metadata": {},
   "outputs": [],
   "source": [
    "%matplotlib inline\n",
    "import matplotlib.pyplot as plt\n",
    "import numpy as np\n",
    "import warnings\n",
    "warnings.filterwarnings(\"ignore\")\n",
    "from sklearn.model_selection import train_test_split\n",
    "from sklearn.model_selection import GridSearchCV"
   ]
  },
  {
   "cell_type": "markdown",
   "id": "203ea8ef",
   "metadata": {},
   "source": [
    "# Lecture 8 Decision Trees"
   ]
  },
  {
   "cell_type": "markdown",
   "id": "db640d66",
   "metadata": {},
   "source": [
    "To train a decision tree model, use syntax:\n",
    "\n",
    "**<center>sklearn.tree.DecisionTreeClassifier()</center>**\n",
    "\n",
    "**Key Inputs and Methods:**\n",
    "- criterion: the function to measure the quality of a split. Manually set to \"entropy\" for ID3-like algorithm.\n",
    "    - entropy(min): measure of disorder / randomness. The information gain achieved by splitting \n",
    "    - gini (min): probability of incorrectly classifying a randomly chosen element in the dataset \n",
    "- Set random_state for replication purposes (technical). [in case of a tie]\n",
    "- Use .fit to train the model, .score to obtain the performance measure (accuracy), and .predict for prediction.\n",
    "- automatically set to Gini index: default\n",
    "- random state - tossing a coin \n",
    "- Less credible when Xs correlate\n",
    "\n",
    "**Other Inputs (when not growing the full tree):Hyperparameters**\n",
    "- max_depth: depth of the tree. depth = 1 if split once.\n",
    "- max_leaf_nodes: the maximum number of leaves in a tree.\n",
    "- min_samples_leaf: minimum sample size in a leave node. \n",
    "- min_samples_split: the minimum sample size for a subset to be further split.\n",
    "\n",
    "**Attributes**\n",
    "\n",
    "- max_features(hyperparameter):  is a hyperparameter that determines the maximum number of features considered for splitting a node in a decision tree. It controls the diversity of each split by limiting the subset of features that can be evaluated for the best split.\n",
    "    - increasing: consider more features, more complex\n",
    "    - decreasing: forces fewer features, less complex --> good for overfitting\n",
    "- feature_importances_: the importance of each feature (based on entropy reduction). This may not be reliable if variables have high correlation. Reduction in impurity that feature provides. \n",
    "    - higher: featured played a more crucial role in decision making process during tree construction \n",
    "    - might not be accurate when features are correlated\n",
    "    - Feature importance will be influenced by tree structure (DT is not robust)\n",
    "    - lots of 0s--> 0 values mean they are not on the tree (not contributing to reduction of gini index)\n",
    "    - decision tree is not that robust, you can change 1 or 2 feature and entire tree will be different --> \n",
    "    - by itself its pretty volatile\n",
    "    - feature importance will be influenced by tree structure (DT is not robust)\n",
    "    - less credible when Xs are correlated\n",
    "\n",
    "**Practice:**\n",
    "\n",
    "- Train a decision tree classifier. Set random state to 0. Use entropy as the impurity measure.\n",
    "\n",
    "- Report the train and test accuracy.\n",
    "- Report the feature importance\n",
    "- Based on the feature importance, create a bar plot. (Use syntax: plt.bar(x, y). x is the label of bars, y is the height of bars. You may want to change \"bar\" to \"barh\" for better representation).\n",
    "- Create a bar plot of feature importance. Include only those with importance > 0 (Hint: logical indexing).\n",
    "- decision tree is a regressor too "
   ]
  },
  {
   "cell_type": "code",
   "execution_count": 93,
   "id": "902b5a47",
   "metadata": {},
   "outputs": [],
   "source": [
    "########################################### Dataset ######################################\n",
    "from sklearn.datasets import load_breast_cancer\n",
    "cancer = load_breast_cancer()\n",
    "\n",
    "#print(\"The dataset has\", cancer.data.shape[0], \"observations, and\", cancer.data.shape[1], \"variables\") \n",
    "#print(\"We have\", cancer.target.shape[0], \"records for target\")\n",
    "#print(\"The variables are\", list(cancer.feature_names))\n",
    "#print(\"The targets are\", list(cancer.target_names))\n",
    "# Note: to map the y value with the y label(i.e., target_names):\n",
    "### => The index of each y label in the target_names is the y value\n",
    "### => for cancer dataset, malignant = 0, and benign = 1 --> ALWAYS BASED ON INDEXING "
   ]
  },
  {
   "cell_type": "code",
   "execution_count": 94,
   "id": "19292a39",
   "metadata": {},
   "outputs": [],
   "source": [
    "########################################### Split ######################################\n",
    "from sklearn.model_selection import train_test_split\n",
    "\n",
    "# Split data into training and test, if test size is not specified, default value  of 0.25 is applied\n",
    "X_train, X_test, y_train, y_test = train_test_split(cancer.data, \n",
    "                                                    cancer.target, test_size = 0.25, \n",
    "                                                    random_state=42)"
   ]
  },
  {
   "cell_type": "code",
   "execution_count": 95,
   "id": "68f9c161",
   "metadata": {},
   "outputs": [
    {
     "data": {
      "text/plain": [
       "(1.0, 0.958041958041958)"
      ]
     },
     "execution_count": 95,
     "metadata": {},
     "output_type": "execute_result"
    }
   ],
   "source": [
    "from sklearn.tree import DecisionTreeClassifier\n",
    "dt_full = DecisionTreeClassifier(random_state = 0, criterion = 'entropy')\n",
    "dt_full.fit(X_train, y_train)\n",
    "dt_full.score(X_train, y_train), dt_full.score(X_test, y_test)\n",
    "\n",
    "#100% in training\n",
    "#1) overfitting\n",
    "#2) mechanical issue in data: y: loan or not x: loan amount (correlation between x & y`b)\n",
    "#not a huge difference between training & test\n",
    "#we still need to consider overfitting bc a 100% in training: always a red flag "
   ]
  },
  {
   "cell_type": "code",
   "execution_count": 96,
   "id": "69d79f07",
   "metadata": {},
   "outputs": [
    {
     "ename": "TypeError",
     "evalue": "float() argument must be a string or a number, not 'ellipsis'",
     "output_type": "error",
     "traceback": [
      "\u001b[0;31m---------------------------------------------------------------------------\u001b[0m",
      "\u001b[0;31mTypeError\u001b[0m                                 Traceback (most recent call last)",
      "\u001b[0;32m/var/folders/6y/8nbtlwpn2lv05l3yxc5kznnr0000gn/T/ipykernel_83088/3708972668.py\u001b[0m in \u001b[0;36m<module>\u001b[0;34m\u001b[0m\n\u001b[1;32m      4\u001b[0m \u001b[0;34m\u001b[0m\u001b[0m\n\u001b[1;32m      5\u001b[0m \u001b[0;31m# Make predictions using the trained model\u001b[0m\u001b[0;34m\u001b[0m\u001b[0;34m\u001b[0m\u001b[0m\n\u001b[0;32m----> 6\u001b[0;31m \u001b[0mpredictions\u001b[0m \u001b[0;34m=\u001b[0m \u001b[0mdt_full\u001b[0m\u001b[0;34m.\u001b[0m\u001b[0mpredict\u001b[0m\u001b[0;34m(\u001b[0m\u001b[0mX_new\u001b[0m\u001b[0;34m)\u001b[0m\u001b[0;34m\u001b[0m\u001b[0;34m\u001b[0m\u001b[0m\n\u001b[0m\u001b[1;32m      7\u001b[0m \u001b[0mprint\u001b[0m\u001b[0;34m(\u001b[0m\u001b[0mpredictions\u001b[0m\u001b[0;34m)\u001b[0m\u001b[0;34m\u001b[0m\u001b[0;34m\u001b[0m\u001b[0m\n",
      "\u001b[0;32m~/opt/anaconda3/lib/python3.9/site-packages/sklearn/tree/_classes.py\u001b[0m in \u001b[0;36mpredict\u001b[0;34m(self, X, check_input)\u001b[0m\n\u001b[1;32m    465\u001b[0m         \"\"\"\n\u001b[1;32m    466\u001b[0m         \u001b[0mcheck_is_fitted\u001b[0m\u001b[0;34m(\u001b[0m\u001b[0mself\u001b[0m\u001b[0;34m)\u001b[0m\u001b[0;34m\u001b[0m\u001b[0;34m\u001b[0m\u001b[0m\n\u001b[0;32m--> 467\u001b[0;31m         \u001b[0mX\u001b[0m \u001b[0;34m=\u001b[0m \u001b[0mself\u001b[0m\u001b[0;34m.\u001b[0m\u001b[0m_validate_X_predict\u001b[0m\u001b[0;34m(\u001b[0m\u001b[0mX\u001b[0m\u001b[0;34m,\u001b[0m \u001b[0mcheck_input\u001b[0m\u001b[0;34m)\u001b[0m\u001b[0;34m\u001b[0m\u001b[0;34m\u001b[0m\u001b[0m\n\u001b[0m\u001b[1;32m    468\u001b[0m         \u001b[0mproba\u001b[0m \u001b[0;34m=\u001b[0m \u001b[0mself\u001b[0m\u001b[0;34m.\u001b[0m\u001b[0mtree_\u001b[0m\u001b[0;34m.\u001b[0m\u001b[0mpredict\u001b[0m\u001b[0;34m(\u001b[0m\u001b[0mX\u001b[0m\u001b[0;34m)\u001b[0m\u001b[0;34m\u001b[0m\u001b[0;34m\u001b[0m\u001b[0m\n\u001b[1;32m    469\u001b[0m         \u001b[0mn_samples\u001b[0m \u001b[0;34m=\u001b[0m \u001b[0mX\u001b[0m\u001b[0;34m.\u001b[0m\u001b[0mshape\u001b[0m\u001b[0;34m[\u001b[0m\u001b[0;36m0\u001b[0m\u001b[0;34m]\u001b[0m\u001b[0;34m\u001b[0m\u001b[0;34m\u001b[0m\u001b[0m\n",
      "\u001b[0;32m~/opt/anaconda3/lib/python3.9/site-packages/sklearn/tree/_classes.py\u001b[0m in \u001b[0;36m_validate_X_predict\u001b[0;34m(self, X, check_input)\u001b[0m\n\u001b[1;32m    431\u001b[0m         \u001b[0;34m\"\"\"Validate the training data on predict (probabilities).\"\"\"\u001b[0m\u001b[0;34m\u001b[0m\u001b[0;34m\u001b[0m\u001b[0m\n\u001b[1;32m    432\u001b[0m         \u001b[0;32mif\u001b[0m \u001b[0mcheck_input\u001b[0m\u001b[0;34m:\u001b[0m\u001b[0;34m\u001b[0m\u001b[0;34m\u001b[0m\u001b[0m\n\u001b[0;32m--> 433\u001b[0;31m             \u001b[0mX\u001b[0m \u001b[0;34m=\u001b[0m \u001b[0mself\u001b[0m\u001b[0;34m.\u001b[0m\u001b[0m_validate_data\u001b[0m\u001b[0;34m(\u001b[0m\u001b[0mX\u001b[0m\u001b[0;34m,\u001b[0m \u001b[0mdtype\u001b[0m\u001b[0;34m=\u001b[0m\u001b[0mDTYPE\u001b[0m\u001b[0;34m,\u001b[0m \u001b[0maccept_sparse\u001b[0m\u001b[0;34m=\u001b[0m\u001b[0;34m\"csr\"\u001b[0m\u001b[0;34m,\u001b[0m \u001b[0mreset\u001b[0m\u001b[0;34m=\u001b[0m\u001b[0;32mFalse\u001b[0m\u001b[0;34m)\u001b[0m\u001b[0;34m\u001b[0m\u001b[0;34m\u001b[0m\u001b[0m\n\u001b[0m\u001b[1;32m    434\u001b[0m             if issparse(X) and (\n\u001b[1;32m    435\u001b[0m                 \u001b[0mX\u001b[0m\u001b[0;34m.\u001b[0m\u001b[0mindices\u001b[0m\u001b[0;34m.\u001b[0m\u001b[0mdtype\u001b[0m \u001b[0;34m!=\u001b[0m \u001b[0mnp\u001b[0m\u001b[0;34m.\u001b[0m\u001b[0mintc\u001b[0m \u001b[0;32mor\u001b[0m \u001b[0mX\u001b[0m\u001b[0;34m.\u001b[0m\u001b[0mindptr\u001b[0m\u001b[0;34m.\u001b[0m\u001b[0mdtype\u001b[0m \u001b[0;34m!=\u001b[0m \u001b[0mnp\u001b[0m\u001b[0;34m.\u001b[0m\u001b[0mintc\u001b[0m\u001b[0;34m\u001b[0m\u001b[0;34m\u001b[0m\u001b[0m\n",
      "\u001b[0;32m~/opt/anaconda3/lib/python3.9/site-packages/sklearn/base.py\u001b[0m in \u001b[0;36m_validate_data\u001b[0;34m(self, X, y, reset, validate_separately, **check_params)\u001b[0m\n\u001b[1;32m    564\u001b[0m             \u001b[0;32mraise\u001b[0m \u001b[0mValueError\u001b[0m\u001b[0;34m(\u001b[0m\u001b[0;34m\"Validation should be done on X, y or both.\"\u001b[0m\u001b[0;34m)\u001b[0m\u001b[0;34m\u001b[0m\u001b[0;34m\u001b[0m\u001b[0m\n\u001b[1;32m    565\u001b[0m         \u001b[0;32melif\u001b[0m \u001b[0;32mnot\u001b[0m \u001b[0mno_val_X\u001b[0m \u001b[0;32mand\u001b[0m \u001b[0mno_val_y\u001b[0m\u001b[0;34m:\u001b[0m\u001b[0;34m\u001b[0m\u001b[0;34m\u001b[0m\u001b[0m\n\u001b[0;32m--> 566\u001b[0;31m             \u001b[0mX\u001b[0m \u001b[0;34m=\u001b[0m \u001b[0mcheck_array\u001b[0m\u001b[0;34m(\u001b[0m\u001b[0mX\u001b[0m\u001b[0;34m,\u001b[0m \u001b[0;34m**\u001b[0m\u001b[0mcheck_params\u001b[0m\u001b[0;34m)\u001b[0m\u001b[0;34m\u001b[0m\u001b[0;34m\u001b[0m\u001b[0m\n\u001b[0m\u001b[1;32m    567\u001b[0m             \u001b[0mout\u001b[0m \u001b[0;34m=\u001b[0m \u001b[0mX\u001b[0m\u001b[0;34m\u001b[0m\u001b[0;34m\u001b[0m\u001b[0m\n\u001b[1;32m    568\u001b[0m         \u001b[0;32melif\u001b[0m \u001b[0mno_val_X\u001b[0m \u001b[0;32mand\u001b[0m \u001b[0;32mnot\u001b[0m \u001b[0mno_val_y\u001b[0m\u001b[0;34m:\u001b[0m\u001b[0;34m\u001b[0m\u001b[0;34m\u001b[0m\u001b[0m\n",
      "\u001b[0;32m~/opt/anaconda3/lib/python3.9/site-packages/sklearn/utils/validation.py\u001b[0m in \u001b[0;36mcheck_array\u001b[0;34m(array, accept_sparse, accept_large_sparse, dtype, order, copy, force_all_finite, ensure_2d, allow_nd, ensure_min_samples, ensure_min_features, estimator)\u001b[0m\n\u001b[1;32m    744\u001b[0m                     \u001b[0marray\u001b[0m \u001b[0;34m=\u001b[0m \u001b[0marray\u001b[0m\u001b[0;34m.\u001b[0m\u001b[0mastype\u001b[0m\u001b[0;34m(\u001b[0m\u001b[0mdtype\u001b[0m\u001b[0;34m,\u001b[0m \u001b[0mcasting\u001b[0m\u001b[0;34m=\u001b[0m\u001b[0;34m\"unsafe\"\u001b[0m\u001b[0;34m,\u001b[0m \u001b[0mcopy\u001b[0m\u001b[0;34m=\u001b[0m\u001b[0;32mFalse\u001b[0m\u001b[0;34m)\u001b[0m\u001b[0;34m\u001b[0m\u001b[0;34m\u001b[0m\u001b[0m\n\u001b[1;32m    745\u001b[0m                 \u001b[0;32melse\u001b[0m\u001b[0;34m:\u001b[0m\u001b[0;34m\u001b[0m\u001b[0;34m\u001b[0m\u001b[0m\n\u001b[0;32m--> 746\u001b[0;31m                     \u001b[0marray\u001b[0m \u001b[0;34m=\u001b[0m \u001b[0mnp\u001b[0m\u001b[0;34m.\u001b[0m\u001b[0masarray\u001b[0m\u001b[0;34m(\u001b[0m\u001b[0marray\u001b[0m\u001b[0;34m,\u001b[0m \u001b[0morder\u001b[0m\u001b[0;34m=\u001b[0m\u001b[0morder\u001b[0m\u001b[0;34m,\u001b[0m \u001b[0mdtype\u001b[0m\u001b[0;34m=\u001b[0m\u001b[0mdtype\u001b[0m\u001b[0;34m)\u001b[0m\u001b[0;34m\u001b[0m\u001b[0;34m\u001b[0m\u001b[0m\n\u001b[0m\u001b[1;32m    747\u001b[0m             \u001b[0;32mexcept\u001b[0m \u001b[0mComplexWarning\u001b[0m \u001b[0;32mas\u001b[0m \u001b[0mcomplex_warning\u001b[0m\u001b[0;34m:\u001b[0m\u001b[0;34m\u001b[0m\u001b[0;34m\u001b[0m\u001b[0m\n\u001b[1;32m    748\u001b[0m                 raise ValueError(\n",
      "\u001b[0;31mTypeError\u001b[0m: float() argument must be a string or a number, not 'ellipsis'"
     ]
    }
   ],
   "source": [
    "#prediction \n",
    "# You can use .predict to get predictions for this new data\n",
    "X_new = ...  # Your new data\n",
    "\n",
    "# Make predictions using the trained model\n",
    "predictions = dt_full.predict(X_new)\n",
    "print(predictions)"
   ]
  },
  {
   "cell_type": "markdown",
   "id": "9b4f14f7",
   "metadata": {},
   "source": [
    "### Overfitting ^\n",
    "\n",
    "- 100% in training\n",
    "- 1) overfitting\n",
    "- 2) mechanical issue in data: y: loan or not x: loan amount (correlation between x & y`b)\n",
    "- not a huge difference between training & test\n",
    "- we still need to consider overfitting bc a 100% in training: always a red flag \n",
    "\n",
    "### Addressing Overfitting \n",
    "\n",
    "We twist the \"additional inputs\" from the Decision Tree to address the overfitting issue. Setting proper values for these parameters can be hard. We use GridSearchCV to search for the best combination of these parameter values.\n",
    "\n",
    "We can tell there is overfitting if the test score stays the same the the training score drops\n",
    "    \n",
    "**example**: \n",
    "- Let maximum depth be 3 (or 5) \n",
    "    - increasing: more complex decisions, risk of overfitting\n",
    "    - decreasing: less complex, addresses overfitting\n",
    "    - avoid overfitting = less splits = lower depth & lower lead nodes --> prefer lower numbers \n",
    "- min_samples_leaf: minimum sample size required to be in a leave node --> how many records to we rely on \n",
    "    - increasing: more conservative tree, leaves need to have more samples, more records leads to less noise, so we prefer bigger numbers, increasing helps create leaves with more samples, reducing overfitting by preventing the model from capturing noise \n",
    "    - decreasing: fewer samples leads to more specific and noisy patterns \n",
    "- min_samples_split: the minimum sample size for a subset to be further split (min required to split internal node) --> we prefer larger values \n",
    "    - increasing: larger number of samples to split nodes, leading to fewer splits, helps control growth of tree & prevents it from splitting too much & overfitting the training data \n",
    "    - decreasing: smaller subsets to be split, leads to more splits and complex models \n",
    "\n",
    "**random state**\n",
    "- random state specified --> everytime you run the model, ensuring you get the same result "
   ]
  },
  {
   "cell_type": "code",
   "execution_count": 97,
   "id": "fe1a178c",
   "metadata": {},
   "outputs": [
    {
     "name": "stdout",
     "output_type": "stream",
     "text": [
      "[0.         0.02295084 0.         0.         0.         0.\n",
      " 0.         0.59201781 0.00679754 0.         0.02270496 0.\n",
      " 0.         0.         0.         0.01101566 0.         0.01986781\n",
      " 0.         0.         0.0855317  0.09815693 0.09342687 0.\n",
      " 0.01072974 0.         0.01404099 0.02275913 0.         0.        ]\n"
     ]
    },
    {
     "data": {
      "text/plain": [
       "<BarContainer object of 30 artists>"
      ]
     },
     "execution_count": 97,
     "metadata": {},
     "output_type": "execute_result"
    },
    {
     "data": {
      "image/png": "[encoded data removed]",
      "text/plain": [
       "<Figure size 640x480 with 1 Axes>"
      ]
     },
     "metadata": {},
     "output_type": "display_data"
    }
   ],
   "source": [
    "print(dt_full.feature_importances_) \n",
    "tree_x = cancer.feature_names\n",
    "tree_y = dt_full.feature_importances_\n",
    "plt.barh(tree_x, tree_y) #bar horizontal to see labels clearer\n",
    "\n",
    "# 0 values: not on the tree"
   ]
  },
  {
   "cell_type": "code",
   "execution_count": 98,
   "id": "6ffc447d",
   "metadata": {},
   "outputs": [
    {
     "data": {
      "text/plain": [
       "<BarContainer object of 12 artists>"
      ]
     },
     "execution_count": 98,
     "metadata": {},
     "output_type": "execute_result"
    },
    {
     "data": {
      "image/png": "[encoded data removed]",
      "text/plain": [
       "<Figure size 640x480 with 1 Axes>"
      ]
     },
     "metadata": {},
     "output_type": "display_data"
    }
   ],
   "source": [
    "# Bar plot, excluding variables with feature importance = 0\n",
    "## Hint: consider logical indexing\n",
    "idx = dt_full.feature_importances_>0\n",
    "tree_xpos = tree_x[idx]\n",
    "tree_ypos = tree_y[idx]\n",
    "plt.barh(tree_xpos, tree_ypos)"
   ]
  },
  {
   "cell_type": "markdown",
   "id": "8a523b59",
   "metadata": {},
   "source": [
    "### Practice\n",
    "###################################################\n",
    "- Train a decision tree with maximum depth = 3. Then report the test accuracy.\n",
    "- Train a decision tree with GridSearchCV, report the best model's hyperparameters, as well as the test accuracy [The model can take several seconds to run]. Set random state to 0 for replication purpose.\n",
    "    - Choose max_depth from all positive integers below 10\n",
    "    - Choose min_samples_split from all integers between 2 and 10 (inclusive)\n",
    "    - Choose max_leaf_nodes from be integers between 2 and 10 (inclusive)"
   ]
  },
  {
   "cell_type": "code",
   "execution_count": 99,
   "id": "135e0a3a",
   "metadata": {},
   "outputs": [
    {
     "name": "stdout",
     "output_type": "stream",
     "text": [
      "0.971830985915493\n",
      "0.958041958041958\n"
     ]
    }
   ],
   "source": [
    "# Let maximum depth be 3\n",
    "\n",
    "from sklearn.tree import DecisionTreeClassifier\n",
    "\n",
    "# A Basic Tree\n",
    "tree_3 = DecisionTreeClassifier(max_depth = 3, random_state = 0)\n",
    "tree_3.fit(X_train, y_train)\n",
    "print(tree_3.score(X_train, y_train))\n",
    "print(tree_3.score(X_test, y_test))\n",
    "\n",
    "#test performance is the same as previous model & training score drops --> proves there was overfitting\n"
   ]
  },
  {
   "cell_type": "markdown",
   "id": "f4ebc31a",
   "metadata": {},
   "source": [
    "### GridSearch + CV\n",
    "\n",
    "- decision tree set of hyperparameters - jointly tuning multiple hyperparameters (was commas,)\n",
    "- walks through all possible combinations: 9 potential max depths (1-9),9 potential values for split, 9 values for leaf nodes \n",
    "- (9*9*9*5 = 5,000 models / 5,000 trainings) (5 - 5 fold cross validation)"
   ]
  },
  {
   "cell_type": "code",
   "execution_count": 100,
   "id": "8c5eaaee",
   "metadata": {},
   "outputs": [
    {
     "data": {
      "text/plain": [
       "GridSearchCV(cv=5, estimator=DecisionTreeClassifier(random_state=0),\n",
       "             param_grid={'max_depth': range(1, 10),\n",
       "                         'max_leaf_nodes': range(2, 11),\n",
       "                         'min_samples_split': range(2, 11)})"
      ]
     },
     "execution_count": 100,
     "metadata": {},
     "output_type": "execute_result"
    }
   ],
   "source": [
    "opt_tree = DecisionTreeClassifier(random_state = 0) # Gini index (default), random state specified\n",
    "\n",
    "# A set of hyperparams: separate elements with ,\n",
    "# Walk through all possible combinations: 9*9*9: roughly 1000 models, 5000 trainings (5-fold cv)\n",
    "\n",
    "dt_params = {'max_depth':  range(1,10)         , # reduce max_depth\n",
    "             'min_samples_split':   range(2,11), # meaningless value: consider sample size, can be 100, 500, or greater values\n",
    "             'max_leaf_nodes':    range(2,11)   } #meaning integers 2-10 inclusive\n",
    "\n",
    "grid_tree = GridSearchCV(opt_tree, dt_params, cv = 5)\n",
    "\n",
    "grid_tree.fit(X_train, y_train)"
   ]
  },
  {
   "cell_type": "markdown",
   "id": "a6bc7c18",
   "metadata": {},
   "source": [
    "### Hyperparameters\n",
    "- Report the best hyperparameters chosen\n",
    "- optimal combination \n",
    "- having these requirements doesn't mean these requirements are binding meaning \"=\"\n",
    "- depth <= 3, leaver <= 6, min sample >= 9 (most samples will be greater than 9, does not mean you will have a subrecord with only 9)"
   ]
  },
  {
   "cell_type": "code",
   "execution_count": 101,
   "id": "6fb0e470",
   "metadata": {},
   "outputs": [
    {
     "name": "stdout",
     "output_type": "stream",
     "text": [
      "{'max_depth': 3, 'max_leaf_nodes': 6, 'min_samples_split': 9}\n"
     ]
    }
   ],
   "source": [
    "# Report the best hyperparameters chosen\n",
    "\n",
    "print(grid_tree.best_params_) # different from requirements binding. \"=\"\n",
    "\n",
    "## depth <= 3, leaves <= 6 , min samples >= 9 does not mean you will have a subsample with 9 records"
   ]
  },
  {
   "cell_type": "code",
   "execution_count": 102,
   "id": "d1ddc57e",
   "metadata": {},
   "outputs": [
    {
     "name": "stdout",
     "output_type": "stream",
     "text": [
      "Best Parameters:  {'max_depth': 3, 'max_leaf_nodes': 6, 'min_samples_split': 9}\n",
      "Best Score:  0.958041958041958\n",
      "Best Model:  0.9318467852257182\n"
     ]
    }
   ],
   "source": [
    "#QUESTION 1 (b)\n",
    "best_depth = grid_tree.best_params_\n",
    "best_model = grid_tree.best_estimator_\n",
    "test_accuracy = best_model.score(X_test, y_test)  \n",
    "validation_accuracy = grid_tree.best_score_\n",
    "\n",
    "print(\"Best Parameters: \", best_depth)\n",
    "print(\"Best Score: \", test_accuracy)\n",
    "print(\"Best Model: \", validation_accuracy)\n"
   ]
  },
  {
   "cell_type": "markdown",
   "id": "e5ccdb86",
   "metadata": {},
   "source": [
    "## Post Pruning\n",
    "\n",
    "Post pruning controls the size of the tree after its been fully grown, so it uses cost complexity (ccp) to prune the three. Recall that when computing cost complexity, alpha is introduced. When alpha is larger, the tree we obtain will be smaller.\n",
    "\n",
    "### The General Process\n",
    "\n",
    "To conduct post pruning, we need to first determine a handful of alphas. Then, train decision tree models with different alphas, and choose the best model. \n",
    "- The key concept in post pruning is the use of cost complexity (ccp) to quantify the trade-off between the complexity of the tree (size) and its goodness of fit to the training data. A hyperparameter called alpha is introduced, and by adjusting its value, we can control the size of the resulting pruned tree.\n",
    "\n",
    "#### Step 1: Obtaining the Alphas\n",
    "\n",
    "Instead of setting alphas manually, there exists math proof showing that a set of effective alphas can be obtained through the model training process. Instead of blindly choosing by ourselves, we can use these alphas as the choices of hyperparameters. (For technical details of how effective alphas are calculated, check https://scikit-learn.org/stable/modules/tree.html#minimal-cost-complexity-pruning and references therein.)\n",
    "\n",
    "\n",
    "To obtain effective alphas, instead of using MODEL_NAME.fit() to train the decision tree, now use syntax:\n",
    "\n",
    "**<center>MODEL_NAME.cost_complexity_pruning_path </center>**\n",
    "\n",
    "In other words, the syntax would be: MODEL_NAME.cost_complexity_pruning_path(X_train, y_train). It will help obtain the paths (intuitively, the ways to get subtrees) of the post-pruning process. \n",
    "\n",
    "The syntax will provide two outputs: ccp_alphas, and impurities. Use multiple assignment to collect the two outputs.\n",
    "\n",
    "#### Hyperparameters: \n",
    "- ccp_alphas: Set of effective alphas obtained from the pruning process.\n",
    "    - Larger alpha values lead to smaller tree sizes and larger total impurity in the leaf nodes. The more aggressively the tree is pruned, leading to a simpler tree.\n",
    "- impurities: The total impurity of the leaf nodes at each step of the pruning process.\n",
    "    - The impurity measure is used to quantify the uncertainty or disorder in the leaf nodes, and larger impurity values indicate less purity --> higher impurity values lead to LESS overfitting (and more underfitting) \n",
    "    - low impurity: more overfitting \n",
    "- The goal is to find the best model that achieves a good balance between simplicity (small tree) and accuracy on the training data."
   ]
  },
  {
   "cell_type": "markdown",
   "id": "78534ab7",
   "metadata": {},
   "source": [
    "The syntax below will train the decision tree classifier and save the alphas."
   ]
  },
  {
   "cell_type": "code",
   "execution_count": 11,
   "id": "2f1824ea",
   "metadata": {},
   "outputs": [
    {
     "data": {
      "text/plain": [
       "GridSearchCV(cv=5, estimator=DecisionTreeClassifier(random_state=0),\n",
       "             param_grid={'ccp_alpha': array([0.        , 0.00232826, 0.00312989, 0.00459972, 0.00596017,\n",
       "       0.00794511, 0.01213836, 0.01341382, 0.01516793, 0.01610939,\n",
       "       0.02658769, 0.02752968, 0.32476748])})"
      ]
     },
     "execution_count": 11,
     "metadata": {},
     "output_type": "execute_result"
    }
   ],
   "source": [
    "from sklearn.tree import DecisionTreeClassifier\n",
    "\n",
    "# decision tree model\n",
    "clf = DecisionTreeClassifier(random_state=0)\n",
    "\n",
    "# model training - obtain the path of post-pruning\n",
    "path = clf.cost_complexity_pruning_path(X_train, y_train)\n",
    "\n",
    "effective_alphas, impurities = path.ccp_alphas, path.impurities\n",
    "\n",
    "from sklearn.model_selection import GridSearchCV\n",
    "\n",
    "dt = DecisionTreeClassifier(random_state=0)\n",
    "\n",
    "dt_params = {'ccp_alpha': effective_alphas}\n",
    "\n",
    "dt_grid = GridSearchCV(dt, dt_params, cv = 5)\n",
    "dt_grid.fit(X_train, y_train)"
   ]
  },
  {
   "cell_type": "code",
   "execution_count": 12,
   "id": "dfd9161c",
   "metadata": {},
   "outputs": [
    {
     "data": {
      "text/plain": [
       "{'ccp_alpha': 0.012138357208779744}"
      ]
     },
     "execution_count": 12,
     "metadata": {},
     "output_type": "execute_result"
    }
   ],
   "source": [
    "dt_grid.best_params_"
   ]
  },
  {
   "cell_type": "markdown",
   "id": "4bcda5a4",
   "metadata": {},
   "source": [
    "# Lecture 8 SVM and Naive Bayes\n",
    "\n",
    "## Support Vector Machine\n",
    "SVM aims to find a hyperplane that best separates the data points of different classes while maximizing the margin between them. Based on whether the separator is linear (i.e., using kernel function or not), we classify the SVM approach into two types: linear SVM and kernel SVM. These two approaches are realized through different syntax in Scikit-Learn. \n",
    "\n",
    "Recall that we also mentioned hard/soft-SVM, based on whether the classifier allows for noisy data points. This difference will be accommodated using different values of hyperparameter C. We set C to a very large number as an approximation of hard-margin SVM.\n",
    "\n",
    "### Linear SVM\n",
    "For a baisc Linear SVM classifier, we use syntax:\n",
    "**<center>sklearn.svm.LinearSVC()</center>**\n",
    "- **C:** Hyperparameter of how acceptable the model is for margin violations. Smaller C indicates more acceptability. Default value is 1.\n",
    "- Set random state for technical reasons.\n",
    "\n",
    "#### Practice \n",
    "############################################################################\n",
    "- Load cancer data (sklearn.datasets.load_breast_cancer), use all variables (except the target) as predictors, split the data.\n",
    "- Train a linear SVC, leave all settings as default. \n",
    "    - What is the training and test score?\n",
    "- Train a linear SVC with grid search and 5-fold cross validation. *(Hint: You may want to set n_jobs = 2 as an input parameter for GridSearchCV. This saves some time for computation)*\n",
    "    - Let choices of C be: [0.001, 0.01, 0.1, 1, 10, 100, 100000]. \n",
    "    - What is the the best C? \n",
    "        - Categorization Based on C Hyperparameter: \n",
    "        - Hard-margin SVM: Large C values; the model is less tolerant of margin violations, aiming for a more strict separation of classes. infinite = hard margin\n",
    "        - Soft-margin SVM: Small C values; the model is more tolerant of margin violations, accommodating noisy or overlapping data points.\n",
    "    - Under this case, what is the training and test score? \n",
    "    \n",
    "### SVM with Kernel Functions: Hyperparameters\n",
    "In most cases, SVM comes together with kernel functions, so that the classifier can handle non-linear separable cases. For implementation, we use syntax:\n",
    "**<center>sklearn.svm.SVC()</center>**\n",
    "- First, be aware that the last three letters, SVC, are capitalized.\n",
    "- **C:** used to specify how acceptable for margin violations. Same as linear case. Similar to linear SVM, it controls the trade-off between a smooth decision boundary and classifying training points correctly.\n",
    "- **kernel:** used to specify the kernel function. Choose from {'linear', 'poly', 'rbf', 'sigmoid', 'recomputed'}. These are different kernel functions. We introduced only two of them (i.e., poly and rbf). The default value is 'rbf'.\n",
    "- **degree:** used when kernel='poly', to specify the polynomial degree. Default value = 3.\n",
    "- **gamma:** used when kernel = 'rbf', we can set it manually. Default is relevant to feature number and feature variations.\n",
    "- Set random state for technical reasons.\n",
    "\n",
    "- default choice is RBF \n",
    "- degree is active based on which kernal you are using \n",
    "- default kernal: specify gamma\n",
    "\n",
    "To explore other details, check https://scikit-learn.org/stable/modules/generated/sklearn.svm.SVC.html\n",
    "\n",
    "#### Practice  \n",
    "############################################################################\n",
    "- Use the same cancer data and training-test splittion. Train an SVM model, let kernel function be rbf, leave other parameters and hyperparameters as default. What is the accuracy for training set and test set?\n",
    "- Train an SVM model, let kernel function be rbf. \n",
    "    - Apply grid search with 5-fold CV. Let choices of C be: [0.001, 0.01, 0.1, 1, 10, 100, 10000]. \n",
    "    - Let choices of gamma be: [0.0001, 0.001,0.001,0.1,1,10]. \n",
    "    - Which model is the best? \n",
    "    - What is the performance of the training and test set?"
   ]
  },
  {
   "cell_type": "code",
   "execution_count": 103,
   "id": "6afe641c",
   "metadata": {},
   "outputs": [
    {
     "name": "stdout",
     "output_type": "stream",
     "text": [
      "Key Elements dict_keys(['data', 'target', 'frame', 'target_names', 'DESCR', 'feature_names', 'filename', 'data_module'])\n"
     ]
    }
   ],
   "source": [
    "########################################### Dataset ######################################\n",
    "from sklearn.datasets import load_breast_cancer # Loading all info of cancer dataset\n",
    "cancer = load_breast_cancer()\n",
    "print(\"Key Elements\", cancer.keys())\n",
    "# cancer.target_names\n",
    "# cancer.feature_names\n",
    "# print(cancer.DESCR)\n",
    "\n",
    "########################################### Split ######################################\n",
    "\n",
    "# Splitting Data\n",
    "from sklearn.model_selection import train_test_split\n",
    "X_train, X_test, y_train, y_test = train_test_split(cancer.data, cancer.target, random_state = 42)"
   ]
  },
  {
   "cell_type": "markdown",
   "id": "cdf71fa3",
   "metadata": {},
   "source": [
    "### Basic SVC: Naive Model & Grid Search "
   ]
  },
  {
   "cell_type": "code",
   "execution_count": 104,
   "id": "4bd558d3",
   "metadata": {
    "scrolled": true
   },
   "outputs": [
    {
     "name": "stdout",
     "output_type": "stream",
     "text": [
      "Linear SVC with Default Settings - Test Score: 0.965034965034965\n",
      "Linear SVC with Default Settings - Training Score: 0.9225352112676056\n"
     ]
    },
    {
     "name": "stderr",
     "output_type": "stream",
     "text": [
      "/Users/prachidalal/opt/anaconda3/lib/python3.9/site-packages/sklearn/svm/_base.py:1206: ConvergenceWarning: Liblinear failed to converge, increase the number of iterations.\n",
      "  warnings.warn(\n",
      "/Users/prachidalal/opt/anaconda3/lib/python3.9/site-packages/sklearn/svm/_base.py:1206: ConvergenceWarning: Liblinear failed to converge, increase the number of iterations.\n",
      "  warnings.warn(\n",
      "/Users/prachidalal/opt/anaconda3/lib/python3.9/site-packages/sklearn/svm/_base.py:1206: ConvergenceWarning: Liblinear failed to converge, increase the number of iterations.\n",
      "  warnings.warn(\n",
      "/Users/prachidalal/opt/anaconda3/lib/python3.9/site-packages/sklearn/svm/_base.py:1206: ConvergenceWarning: Liblinear failed to converge, increase the number of iterations.\n",
      "  warnings.warn(\n",
      "/Users/prachidalal/opt/anaconda3/lib/python3.9/site-packages/sklearn/svm/_base.py:1206: ConvergenceWarning: Liblinear failed to converge, increase the number of iterations.\n",
      "  warnings.warn(\n",
      "/Users/prachidalal/opt/anaconda3/lib/python3.9/site-packages/sklearn/svm/_base.py:1206: ConvergenceWarning: Liblinear failed to converge, increase the number of iterations.\n",
      "  warnings.warn(\n",
      "/Users/prachidalal/opt/anaconda3/lib/python3.9/site-packages/sklearn/svm/_base.py:1206: ConvergenceWarning: Liblinear failed to converge, increase the number of iterations.\n",
      "  warnings.warn(\n",
      "/Users/prachidalal/opt/anaconda3/lib/python3.9/site-packages/sklearn/svm/_base.py:1206: ConvergenceWarning: Liblinear failed to converge, increase the number of iterations.\n",
      "  warnings.warn(\n",
      "/Users/prachidalal/opt/anaconda3/lib/python3.9/site-packages/sklearn/svm/_base.py:1206: ConvergenceWarning: Liblinear failed to converge, increase the number of iterations.\n",
      "  warnings.warn(\n",
      "/Users/prachidalal/opt/anaconda3/lib/python3.9/site-packages/sklearn/svm/_base.py:1206: ConvergenceWarning: Liblinear failed to converge, increase the number of iterations.\n",
      "  warnings.warn(\n",
      "/Users/prachidalal/opt/anaconda3/lib/python3.9/site-packages/sklearn/svm/_base.py:1206: ConvergenceWarning: Liblinear failed to converge, increase the number of iterations.\n",
      "  warnings.warn(\n",
      "/Users/prachidalal/opt/anaconda3/lib/python3.9/site-packages/sklearn/svm/_base.py:1206: ConvergenceWarning: Liblinear failed to converge, increase the number of iterations.\n",
      "  warnings.warn(\n",
      "/Users/prachidalal/opt/anaconda3/lib/python3.9/site-packages/sklearn/svm/_base.py:1206: ConvergenceWarning: Liblinear failed to converge, increase the number of iterations.\n",
      "  warnings.warn(\n",
      "/Users/prachidalal/opt/anaconda3/lib/python3.9/site-packages/sklearn/svm/_base.py:1206: ConvergenceWarning: Liblinear failed to converge, increase the number of iterations.\n",
      "  warnings.warn(\n",
      "/Users/prachidalal/opt/anaconda3/lib/python3.9/site-packages/sklearn/svm/_base.py:1206: ConvergenceWarning: Liblinear failed to converge, increase the number of iterations.\n",
      "  warnings.warn(\n",
      "/Users/prachidalal/opt/anaconda3/lib/python3.9/site-packages/sklearn/svm/_base.py:1206: ConvergenceWarning: Liblinear failed to converge, increase the number of iterations.\n",
      "  warnings.warn(\n",
      "/Users/prachidalal/opt/anaconda3/lib/python3.9/site-packages/sklearn/svm/_base.py:1206: ConvergenceWarning: Liblinear failed to converge, increase the number of iterations.\n",
      "  warnings.warn(\n",
      "/Users/prachidalal/opt/anaconda3/lib/python3.9/site-packages/sklearn/svm/_base.py:1206: ConvergenceWarning: Liblinear failed to converge, increase the number of iterations.\n",
      "  warnings.warn(\n",
      "/Users/prachidalal/opt/anaconda3/lib/python3.9/site-packages/sklearn/svm/_base.py:1206: ConvergenceWarning: Liblinear failed to converge, increase the number of iterations.\n",
      "  warnings.warn(\n",
      "/Users/prachidalal/opt/anaconda3/lib/python3.9/site-packages/sklearn/svm/_base.py:1206: ConvergenceWarning: Liblinear failed to converge, increase the number of iterations.\n",
      "  warnings.warn(\n",
      "/Users/prachidalal/opt/anaconda3/lib/python3.9/site-packages/sklearn/svm/_base.py:1206: ConvergenceWarning: Liblinear failed to converge, increase the number of iterations.\n",
      "  warnings.warn(\n",
      "/Users/prachidalal/opt/anaconda3/lib/python3.9/site-packages/sklearn/svm/_base.py:1206: ConvergenceWarning: Liblinear failed to converge, increase the number of iterations.\n",
      "  warnings.warn(\n",
      "/Users/prachidalal/opt/anaconda3/lib/python3.9/site-packages/sklearn/svm/_base.py:1206: ConvergenceWarning: Liblinear failed to converge, increase the number of iterations.\n",
      "  warnings.warn(\n",
      "/Users/prachidalal/opt/anaconda3/lib/python3.9/site-packages/sklearn/svm/_base.py:1206: ConvergenceWarning: Liblinear failed to converge, increase the number of iterations.\n",
      "  warnings.warn(\n",
      "/Users/prachidalal/opt/anaconda3/lib/python3.9/site-packages/sklearn/svm/_base.py:1206: ConvergenceWarning: Liblinear failed to converge, increase the number of iterations.\n",
      "  warnings.warn(\n",
      "/Users/prachidalal/opt/anaconda3/lib/python3.9/site-packages/sklearn/svm/_base.py:1206: ConvergenceWarning: Liblinear failed to converge, increase the number of iterations.\n",
      "  warnings.warn(\n",
      "/Users/prachidalal/opt/anaconda3/lib/python3.9/site-packages/sklearn/svm/_base.py:1206: ConvergenceWarning: Liblinear failed to converge, increase the number of iterations.\n",
      "  warnings.warn(\n",
      "/Users/prachidalal/opt/anaconda3/lib/python3.9/site-packages/sklearn/svm/_base.py:1206: ConvergenceWarning: Liblinear failed to converge, increase the number of iterations.\n",
      "  warnings.warn(\n",
      "/Users/prachidalal/opt/anaconda3/lib/python3.9/site-packages/sklearn/svm/_base.py:1206: ConvergenceWarning: Liblinear failed to converge, increase the number of iterations.\n",
      "  warnings.warn(\n",
      "/Users/prachidalal/opt/anaconda3/lib/python3.9/site-packages/sklearn/svm/_base.py:1206: ConvergenceWarning: Liblinear failed to converge, increase the number of iterations.\n",
      "  warnings.warn(\n",
      "/Users/prachidalal/opt/anaconda3/lib/python3.9/site-packages/sklearn/svm/_base.py:1206: ConvergenceWarning: Liblinear failed to converge, increase the number of iterations.\n",
      "  warnings.warn(\n",
      "/Users/prachidalal/opt/anaconda3/lib/python3.9/site-packages/sklearn/svm/_base.py:1206: ConvergenceWarning: Liblinear failed to converge, increase the number of iterations.\n",
      "  warnings.warn(\n",
      "/Users/prachidalal/opt/anaconda3/lib/python3.9/site-packages/sklearn/svm/_base.py:1206: ConvergenceWarning: Liblinear failed to converge, increase the number of iterations.\n",
      "  warnings.warn(\n",
      "/Users/prachidalal/opt/anaconda3/lib/python3.9/site-packages/sklearn/svm/_base.py:1206: ConvergenceWarning: Liblinear failed to converge, increase the number of iterations.\n",
      "  warnings.warn(\n",
      "/Users/prachidalal/opt/anaconda3/lib/python3.9/site-packages/sklearn/svm/_base.py:1206: ConvergenceWarning: Liblinear failed to converge, increase the number of iterations.\n",
      "  warnings.warn(\n"
     ]
    },
    {
     "data": {
      "text/plain": [
       "GridSearchCV(estimator=LinearSVC(random_state=22), n_jobs=2,\n",
       "             param_grid={'C': [0.001, 0.01, 0.1, 1, 10, 100, 100000]})"
      ]
     },
     "execution_count": 104,
     "metadata": {},
     "output_type": "execute_result"
    }
   ],
   "source": [
    "# Linear SVC \n",
    "from sklearn.svm import LinearSVC\n",
    "lr_svc = LinearSVC(random_state = 0) #default C = 1\n",
    "lr_svc.fit(X_train, y_train)\n",
    "print(\"Linear SVC with Default Settings - Test Score:\", lr_svc.score(X_test, y_test))\n",
    "print(\"Linear SVC with Default Settings - Training Score:\", lr_svc.score(X_train, y_train))\n",
    "\n",
    "# Linear SVC with GridSearchCV\n",
    "from sklearn.model_selection import GridSearchCV\n",
    "\n",
    "# Define Function\n",
    "linear_svc = LinearSVC(random_state = 22) # must specify random state here, always fix random state so you are comparing models fairly\n",
    "\n",
    "# Define a list of hyperparameters\n",
    "params_svc = {'C': [0.001, 0.01, 0.1, 1, 10, 100, 100000] }\n",
    "grid_lrsvc = GridSearchCV(linear_svc, params_svc, n_jobs = 2)\n",
    "grid_lrsvc.fit(X_train, y_train)"
   ]
  },
  {
   "cell_type": "markdown",
   "id": "16c8dd15",
   "metadata": {},
   "source": [
    "### Best Hyperparameters with Grid Search"
   ]
  },
  {
   "cell_type": "code",
   "execution_count": 105,
   "id": "498192f1",
   "metadata": {},
   "outputs": [
    {
     "name": "stdout",
     "output_type": "stream",
     "text": [
      "\n",
      "Linear SVC with GridSearchCV - Best C: 0.001\n",
      "Linear SVC with GridSearchCV - Training Accuracy: 0.9178403755868545\n",
      "Linear SVC with GridSearchCV - Test Accuracy: 0.9300699300699301\n",
      "{'C': 0.001}\n"
     ]
    }
   ],
   "source": [
    "train_accuracy_grid_lrsvc = grid_lrsvc.best_estimator_.score(X_train, y_train)\n",
    "test_accuracy_grid_lrsvc = grid_lrsvc.best_estimator_.score(X_test, y_test)\n",
    "\n",
    "print(\"\\nLinear SVC with GridSearchCV - Best C:\", grid_lrsvc.best_params_['C'])\n",
    "print(\"Linear SVC with GridSearchCV - Training Accuracy:\", train_accuracy_grid_lrsvc)\n",
    "print(\"Linear SVC with GridSearchCV - Test Accuracy:\", test_accuracy_grid_lrsvc)\n",
    "print(grid_lrsvc.best_params_)"
   ]
  },
  {
   "cell_type": "markdown",
   "id": "1caad1d7",
   "metadata": {},
   "source": [
    "### CPU available"
   ]
  },
  {
   "cell_type": "code",
   "execution_count": 106,
   "id": "478d4631",
   "metadata": {},
   "outputs": [
    {
     "data": {
      "text/plain": [
       "8"
      ]
     },
     "execution_count": 106,
     "metadata": {},
     "output_type": "execute_result"
    }
   ],
   "source": [
    "import os\n",
    "n_cpu = os.cpu_count()\n",
    "n_cpu"
   ]
  },
  {
   "cell_type": "markdown",
   "id": "f7e1858b",
   "metadata": {},
   "source": [
    "### Kernel SVC: Tuned Model"
   ]
  },
  {
   "cell_type": "code",
   "execution_count": 107,
   "id": "2350e9b8",
   "metadata": {},
   "outputs": [
    {
     "data": {
      "text/plain": [
       "0.951048951048951"
      ]
     },
     "execution_count": 107,
     "metadata": {},
     "output_type": "execute_result"
    }
   ],
   "source": [
    "from sklearn.svm import SVC\n",
    "k_svc = SVC(random_state = 0, kernel = 'rbf')\n",
    "k_svc.fit(X_train, y_train)\n",
    "k_svc.score(X_test, y_test)\n",
    "#not much better"
   ]
  },
  {
   "cell_type": "code",
   "execution_count": 108,
   "id": "36770b17",
   "metadata": {},
   "outputs": [
    {
     "data": {
      "text/plain": [
       "GridSearchCV(cv=5, estimator=SVC(random_state=0), n_jobs=2,\n",
       "             param_grid={'C': [0.001, 0.01, 0.1, 1, 10, 100, 10000],\n",
       "                         'gamma': [0.0001, 0.001, 0.001, 0.1, 1, 10]})"
      ]
     },
     "execution_count": 108,
     "metadata": {},
     "output_type": "execute_result"
    }
   ],
   "source": [
    "#tune model \n",
    "from sklearn.svm import SVC\n",
    "from sklearn.model_selection import GridSearchCV\n",
    "# Define Function\n",
    "base_svc = SVC(random_state = 0, kernel = 'rbf') #have to specify kernal if it is a polynomial kernal\n",
    "\n",
    "#define a list of parameters\n",
    "param_svc_kernel = {'C':    [0.001, 0.01, 0.1, 1, 10, 100, 10000] ,\n",
    "                    'gamma':   [0.0001, 0.001,0.001,0.1,1,10]   } # C = 10,000 mimics hard-margin SVM\n",
    "\n",
    "#large c mimics hard margin \n",
    "\n",
    "#apply grid search\n",
    "grid_ksvc = GridSearchCV(base_svc, param_svc_kernel, cv = 5, n_jobs=2)\n",
    "grid_ksvc.fit(X_train, y_train)"
   ]
  },
  {
   "cell_type": "markdown",
   "id": "1fbe6c1d",
   "metadata": {},
   "source": [
    "### Best Hyperparameters"
   ]
  },
  {
   "cell_type": "code",
   "execution_count": 114,
   "id": "670a58b2",
   "metadata": {},
   "outputs": [
    {
     "name": "stdout",
     "output_type": "stream",
     "text": [
      "{'C': 10, 'gamma': 0.0001}\n",
      "0.9741784037558685\n"
     ]
    }
   ],
   "source": [
    "print(grid_ksvc.best_params_)\n",
    "print(grid_ksvc.score(X_train, y_train))"
   ]
  },
  {
   "cell_type": "code",
   "execution_count": 115,
   "id": "0469d61f",
   "metadata": {},
   "outputs": [
    {
     "name": "stdout",
     "output_type": "stream",
     "text": [
      "Best Parameters:  {'C': 10, 'gamma': 0.0001}\n",
      "Best Score:  0.958041958041958\n",
      "Best Model:  0.9412311901504788\n"
     ]
    }
   ],
   "source": [
    "best_depth = grid_ksvc.best_params_\n",
    "best_model = grid_ksvc.best_estimator_\n",
    "test_accuracy = best_model.score(X_test, y_test)  \n",
    "validation_accuracy = grid_ksvc.best_score_\n",
    "\n",
    "print(\"Best Parameters: \", best_depth)\n",
    "print(\"Best Score: \", test_accuracy)\n",
    "print(\"Best Model: \", validation_accuracy)"
   ]
  },
  {
   "cell_type": "markdown",
   "id": "9a3c6f91",
   "metadata": {},
   "source": [
    "### svm with bagging "
   ]
  },
  {
   "cell_type": "code",
   "execution_count": 112,
   "id": "88e4d88f",
   "metadata": {},
   "outputs": [
    {
     "name": "stdout",
     "output_type": "stream",
     "text": [
      "Test score for Bagging with SVM: 0.9370629370629371\n"
     ]
    }
   ],
   "source": [
    "#know how to use svm with bagging \n",
    "# Create an SVM model\n",
    "svm_model = SVC(kernel='rbf', random_state=42)\n",
    "\n",
    "# Create a BaggingClassifier with SVM as the base estimator\n",
    "bag_svm_clf = BaggingClassifier(svm_model, n_estimators=200, max_samples=100, \n",
    "                                random_state=42)\n",
    "\n",
    "# Fit the BaggingClassifier on the training data\n",
    "bag_svm_clf.fit(X_train, y_train)\n",
    "\n",
    "# Evaluate the performance on the test set\n",
    "score = bag_svm_clf.score(X_test, y_test)\n",
    "print(\"Test score for Bagging with SVM:\", score)"
   ]
  },
  {
   "cell_type": "markdown",
   "id": "aeb276f8",
   "metadata": {},
   "source": [
    "## Lecture 8: Naive Bayes\n",
    "\n",
    "Naive Bayes can be implemented in several ways. We discuss two specific cases in today's class: (1) If all predictors are categorical, and (2) If some or all predictors are continuous.\n",
    "\n",
    "#### Categorical Features\n",
    "If all predictors are categorical, use syntax:\n",
    "\n",
    "**<center>sklearn.naive_bayes.CategoricalNB()</center>**\n",
    "- alpha: A smoothing factor. \n",
    "    - The default value is 1. To get the same result as manually calculated, set alpha = 0. \n",
    "    - Setting alpha to 0 is equivalent to not applying any smoothing.\n",
    "\n",
    "#### Continuous Features\n",
    "If all predictors are continuous, we would need to use one of the methods below: Bin the continuous variable into discrete categories.\n",
    "1. Bin the continuous variable first, then use the previously mentioned syntax, sklearn.naive_bayes.CategoricalNB(). *We do not discuss on this method in here.*\n",
    "\n",
    "2. Assume the data follows a normal distribution. Then we can use the syntax below: \n",
    "\n",
    "**<center>sklearn.naive_bayes.GaussianNB()</center>**\n",
    "\n",
    "For both models (i.e., categorical NB and Gaussian NB), we can obtain predicted probability for each class using .predict_proba. \n",
    "\n",
    "#### Practice 1\n",
    "############################################################################\n",
    "Replicate the result of the in-class practice (i.e., firm report example, probability = 0.47)."
   ]
  },
  {
   "cell_type": "code",
   "execution_count": 26,
   "id": "b5ac17cf",
   "metadata": {},
   "outputs": [],
   "source": [
    "# Plug in data: \n",
    "## Charges: =1 if yes, =0 if no.\n",
    "## Size: =1 if large, =0 if small\n",
    "## Y: =1 if T, =0 if F\n",
    "#alpha = 0, not specifying anything \n",
    "#probability based approach \n",
    "X = np.array([[1,0], [0,0], [0,1], [0, 1], [0,0], [0,0], [1,0], [1,1], [0,1], [1,1]])\n",
    "Y = np.array([1,1,1,1,1,1,0,0,0,0])"
   ]
  },
  {
   "cell_type": "code",
   "execution_count": 27,
   "id": "9eb9a3c4",
   "metadata": {},
   "outputs": [
    {
     "data": {
      "text/plain": [
       "0.8"
      ]
     },
     "execution_count": 27,
     "metadata": {},
     "output_type": "execute_result"
    }
   ],
   "source": [
    "from sklearn.naive_bayes import CategoricalNB\n",
    "cat_nb = CategoricalNB(alpha = 0) #alpha = 0 because not smoothing \n",
    "cat_nb.fit(X,Y) #throwing all Xs and Ys because in class practice is used using all the Xs and Ys (not splitting)\n",
    "cat_nb.score(X,Y)\n",
    "# New Record: Yes, Small"
   ]
  },
  {
   "cell_type": "markdown",
   "id": "d5f8c5bc",
   "metadata": {},
   "source": [
    "### Predict Proba of a new X [0,1]"
   ]
  },
  {
   "cell_type": "code",
   "execution_count": 29,
   "id": "dbd4afa0",
   "metadata": {},
   "outputs": [
    {
     "name": "stdout",
     "output_type": "stream",
     "text": [
      "[0]\n",
      "[[0.52941176 0.47058824]]\n"
     ]
    },
    {
     "data": {
      "text/plain": [
       "0.4705882353003458"
      ]
     },
     "execution_count": 29,
     "metadata": {},
     "output_type": "execute_result"
    }
   ],
   "source": [
    "#categorical naive bayes \n",
    "X_new = [[1,0]]\n",
    "print(cat_nb.predict(X_new))\n",
    "#y pred = array[0] --> y being truthful is smaller than 0.5 given the results \n",
    "print(cat_nb.predict_proba(X_new)) #first probability is y = 0 and second column is y = 1 (y being truthful)\n",
    "cat_nb.predict_proba(X_new)[0,1]"
   ]
  },
  {
   "cell_type": "markdown",
   "id": "846b2025",
   "metadata": {},
   "source": [
    "### Gaussian Naive Bayes"
   ]
  },
  {
   "cell_type": "code",
   "execution_count": 30,
   "id": "75d8499f",
   "metadata": {},
   "outputs": [],
   "source": [
    "from sklearn.datasets import load_iris\n",
    "iris = load_iris() \n",
    "# load the complete data information in. It consists both data and descriptive info.\n",
    "iris.keys()\n",
    "\n",
    "# Splitting data\n",
    "from sklearn.model_selection import train_test_split\n",
    "X_train, X_test, y_train, y_test = train_test_split(iris.data, iris.target, random_state=22)\n",
    "#multiclassification - multiple types of flowers "
   ]
  },
  {
   "cell_type": "code",
   "execution_count": 31,
   "id": "35940dc9",
   "metadata": {},
   "outputs": [
    {
     "data": {
      "text/plain": [
       "0.9736842105263158"
      ]
     },
     "execution_count": 31,
     "metadata": {},
     "output_type": "execute_result"
    }
   ],
   "source": [
    "# Training the Model\n",
    "from sklearn.naive_bayes import GaussianNB\n",
    "g_nb = GaussianNB()\n",
    "g_nb.fit(X_train, y_train)\n",
    "g_nb.score(X_test, y_test)"
   ]
  },
  {
   "cell_type": "markdown",
   "id": "a2b008f4",
   "metadata": {},
   "source": [
    "## the predicted probabilities for each class (setosa, versicolor, and virginica) generated by a Naive Bayes classifier (likely Gaussian Naive Bayes) on the Iris dataset\n",
    "- Each row corresponds to a different sample in the test set.\n",
    "- Each column corresponds to a different class ('setosa', 'versicolor', 'virginica').\n",
    "- The values in each row represent the predicted probability of the corresponding class for that sample.\n",
    "- For example, in the first row:\n",
    "    - Probability of 'setosa': 1.00000000e+000 (approximately 1, or 100%)\n",
    "    - Probability of 'versicolor': 1.46393987e-015 (very close to zero)\n",
    "    - Probability of 'virginica': 1.72483299e-025 (very close to zero)"
   ]
  },
  {
   "cell_type": "code",
   "execution_count": 32,
   "id": "78815320",
   "metadata": {},
   "outputs": [
    {
     "name": "stdout",
     "output_type": "stream",
     "text": [
      "['setosa' 'versicolor' 'virginica']\n"
     ]
    }
   ],
   "source": [
    "print(iris.target_names)\n",
    "#g_nb.predict_proba(X_test)"
   ]
  },
  {
   "cell_type": "markdown",
   "id": "21032ab0",
   "metadata": {},
   "source": [
    "# Lecture 9 Ensemble Methods"
   ]
  },
  {
   "cell_type": "markdown",
   "id": "e8211f40",
   "metadata": {},
   "source": [
    "## 1. Ensemble Methods\n",
    "\n",
    "We will work on four topics under ensemble methods: \n",
    "- (1) voting classifier, \n",
    "- (2) bagging, \n",
    "- (3) random forest, and \n",
    "- (4) AdaBoost. \n",
    "To show the value of ensemble methods, we use with a classification problem that is NOT linear separable. In below, we first generate and split the data."
   ]
  },
  {
   "cell_type": "code",
   "execution_count": 33,
   "id": "58c784ce",
   "metadata": {},
   "outputs": [
    {
     "data": {
      "text/plain": [
       "<matplotlib.collections.PathCollection at 0x7fd5b0fb6df0>"
      ]
     },
     "execution_count": 33,
     "metadata": {},
     "output_type": "execute_result"
    },
    {
     "data": {
      "image/png": "[encoded data removed]",
      "text/plain": [
       "<Figure size 640x480 with 1 Axes>"
      ]
     },
     "metadata": {},
     "output_type": "display_data"
    }
   ],
   "source": [
    "########################################### Dataset ######################################\n",
    "# Data Generation\n",
    "from sklearn.datasets import make_moons\n",
    "X, y = make_moons(n_samples=500, noise=0.30, random_state=42)\n",
    "#test when noise is really small (0.03)\n",
    "# make_moons will generate two moon-shaped datasets\n",
    "\n",
    "########################################### Split ######################################\n",
    "# Data Splittion\n",
    "from sklearn.model_selection import train_test_split\n",
    "X_train, X_test, y_train, y_test = train_test_split(X, y, random_state=42)\n",
    "\n",
    "# Visualize our data\n",
    "plt.scatter(X_train[:,0], X_train[:, 1], c=y_train)"
   ]
  },
  {
   "cell_type": "markdown",
   "id": "b3e46c84",
   "metadata": {},
   "source": [
    "### Lecture 9: Voting Classifier\n",
    "\n",
    "Voting classifier will take the result of multiple classification models to make the final prediction (based on majority vote). Therefore, we need to specify a couple of classification models first. Note that in practice, this process is more natural. Suppose we try different models and are debating on which one to choose. Voting classifier is saying that, we can combine the result instead of choosing only one of them.\n",
    "\n",
    "The process is realized through syntax: \n",
    "**<center>sklearn.ensemble.VotingClassifier</center>**\n",
    "- estimators: the models to use. You need to define a list to store all the models. Each element of a list should include two elements: ('MODEL_NAME', model). The 'MODEL_NAME' is a string.\n",
    "- voting: the voting method. If \"hard\", then vote based on predicted label. If \"soft\", then vote based on predicted probability (i.e., mean of P(y=1)). Default is \"hard\".\n",
    "\n",
    "Hard Voting:\n",
    "\n",
    "- The final prediction is based on the majority vote of the individual classifiers.\n",
    "- For example, if two out of three classifiers predict class A, the voting classifier will predict class A.\n",
    "\n",
    "Soft Voting:\n",
    "\n",
    "- The final prediction is based on the average predicted probabilities across all classifiers.\n",
    "- This is relevant when classifiers provide probability estimates.\n",
    "- For example, if two classifiers predict probabilities [0.6, 0.4] and - [0.7, 0.3], the soft voting classifier will predict the average probabilities [0.65, 0.35].\n",
    "\n",
    "- The choice between \"hard\" and \"soft\" voting depends on the characteristics of the individual classifiers and the nature of the problem.\n",
    "\n",
    "- Mean of Pihats: (pihats ≈ predicted probabilities), then soft voting involves calculating the mean of these probability estimates for each class from all the models.\n",
    "\n",
    "Choosing Model Accordingly:\n",
    "\n",
    "- In soft voting, the model with the highest average probability for a given class is chosen as the final prediction.\n",
    "\n",
    "Individual Classifier Performance:\n",
    "\n",
    "- Evaluate the performance of each classifier separately.\n",
    "- Each individual classifier contributes to the ensemble, and their individual performance impacts the overall performance of the voting classifier.\n",
    "- Understanding how well each classifier performs in isolation provides insights into their individual strengths and weaknesses.\n",
    "\n",
    "Considerations: Correlated classifiers may affect performance\n",
    "\n",
    "- If individual classifiers have diverse strengths and weaknesses, the ensemble model may achieve better generalization.\n",
    "- If the classifiers are highly correlated or similar, the ensemble may not provide significant improvement.\n",
    "\n",
    "\n",
    "**Practice:**\n",
    "############################################################################\n",
    "\n",
    "Suppose we want to combine the result of three classifiers: (1) Logistic Regression, (2) SVM, and (3) Naive Bayes. \n",
    "- What is the model performance of my voting classifier? \n",
    "- What is the model performance of each classifier by itself?"
   ]
  },
  {
   "cell_type": "code",
   "execution_count": 36,
   "id": "2889e28e",
   "metadata": {},
   "outputs": [],
   "source": [
    "# S1: Define Functions/Estimators\n",
    "\n",
    "from sklearn.linear_model import LogisticRegression\n",
    "from sklearn.svm import SVC\n",
    "from sklearn.naive_bayes import GaussianNB\n",
    "\n",
    "log_clf = LogisticRegression(random_state=42)\n",
    "svm_clf = SVC(kernel = 'rbf', random_state=42) \n",
    "nbg_clf = GaussianNB()\n",
    "\n",
    "#eliminator --> specify models \n",
    "#calculates mean of pihats and chooses model accordingly, \n",
    "#when one of the model doesn't have a pihat, you can't do soft voting "
   ]
  },
  {
   "cell_type": "markdown",
   "id": "bfbe3e46",
   "metadata": {},
   "source": [
    "## What is the model performance of my voting classifier? "
   ]
  },
  {
   "cell_type": "code",
   "execution_count": 38,
   "id": "251e2a28",
   "metadata": {},
   "outputs": [
    {
     "name": "stdout",
     "output_type": "stream",
     "text": [
      "Test score for voting classifier is: 0.864\n"
     ]
    }
   ],
   "source": [
    "# S2: Apply Voting Classifier\n",
    "\n",
    "from sklearn.ensemble import VotingClassifier\n",
    "\n",
    "# define voting classifier\n",
    "voting_clf = VotingClassifier(\n",
    "    estimators = [('logistic',log_clf), ('kernal_svm',svm_clf), ('Gaussian_NB',nbg_clf)]  ,\n",
    "    voting = 'hard')\n",
    "\n",
    "# train the model\n",
    "voting_clf.fit(X_train, y_train)\n",
    "# Performance Measure\n",
    "print(\"Test score for voting classifier is:\",voting_clf.score(X_test, y_test) )\n",
    "#more models --> training will be more smooth \n"
   ]
  },
  {
   "cell_type": "markdown",
   "id": "8e466c77",
   "metadata": {},
   "source": [
    "## What is the model performance of each classifier by itself?"
   ]
  },
  {
   "cell_type": "code",
   "execution_count": 39,
   "id": "cca768b8",
   "metadata": {},
   "outputs": [
    {
     "name": "stdout",
     "output_type": "stream",
     "text": [
      "Test score for Logistic Regression: 0.864\n",
      "Test score for SVM: 0.896\n",
      "Test score for Gaussian Naive Bayes: 0.856\n"
     ]
    }
   ],
   "source": [
    "# Train and evaluate Logistic Regression\n",
    "log_clf.fit(X_train, y_train)\n",
    "logistic_score = log_clf.score(X_test, y_test)\n",
    "print(\"Test score for Logistic Regression:\", logistic_score)\n",
    "\n",
    "# Train and evaluate SVM\n",
    "svm_clf.fit(X_train, y_train)\n",
    "svm_score = svm_clf.score(X_test, y_test)\n",
    "print(\"Test score for SVM:\", svm_score)\n",
    "\n",
    "# Train and evaluate Gaussian Naive Bayes\n",
    "nbg_clf.fit(X_train, y_train)\n",
    "nbg_score = nbg_clf.score(X_test, y_test)\n",
    "print(\"Test score for Gaussian Naive Bayes:\", nbg_score)"
   ]
  },
  {
   "cell_type": "markdown",
   "id": "183999b6",
   "metadata": {},
   "source": [
    "### Extension: Using Loop for Automation\n",
    "To compare the accuracy, we can run each model manually and print the test score. However, we can also use a loop to automate this process."
   ]
  },
  {
   "cell_type": "code",
   "execution_count": 40,
   "id": "0c50c4e2",
   "metadata": {},
   "outputs": [
    {
     "name": "stdout",
     "output_type": "stream",
     "text": [
      "LogisticRegression 0.864\n",
      "GaussianNB 0.856\n",
      "SVC 0.896\n",
      "VotingClassifier 0.864\n"
     ]
    }
   ],
   "source": [
    "for clf in (log_clf, nbg_clf, svm_clf, voting_clf):\n",
    "    clf.fit(X_train, y_train)\n",
    "    print(clf.__class__.__name__, clf.score(X_test, y_test))\n",
    "    \n",
    "# The trick is to find model name automatically. This is realized using: \n",
    "## clf.__class__.__name__\n",
    "## Intuitively, it means: \n",
    "## for the current clf, find its model (__class__), then get its model name (__name__)\n",
    "## Object Oriented Programming for Python - Class"
   ]
  },
  {
   "cell_type": "markdown",
   "id": "88855e2b",
   "metadata": {},
   "source": [
    "### Lecture 9: Bagging Ensemble\n",
    "\n",
    "Bagging (Bootstrap Aggregating) is an ensemble technique that involves training the same model on multiple different resampled training sets. The idea is to introduce diversity into the models by training them on different subsets of the data and then aggregating their predictions for the final result.\n",
    "\n",
    "Bagging will apply **one same** model on multiple **different resampled** training sets. Suppose each time, we use $B$ records to train our model, and we want to train our model $K$ times. This case, we will have $K$ different prediction results, and we would like to combine these results for our final prediction. \n",
    "\n",
    "Based on the above-shown process, we need to specify: (1) the model to use, (2) how many records to take each time (i.e., $B$), and (3) how many times to train our model (i.e., $K$). In Python, it can be realized using syntax:\n",
    "\n",
    "**<center>sklearn.ensemble.BaggingClassifier()</center>**\n",
    "We need to specify: \n",
    "- estimator, the model to use (e.g., logistic regression, knn, decision tree, svm, etc.) This should be specified in the first element.\n",
    "- n_estimators, the number of times to run the model, i.e., $K$.\n",
    "    - increasing: increasing leads to more robust and stable model. it helps reduce overfitting by averaging out predictions of multiple models. \n",
    "    - However, there is a diminishing return, and at some point, further increasing n_estimators may not significantly improve performance but will increase computation time.\n",
    "- max_samples, the number of records to use to train the model, i.e., $B$.  size of each bootstrapped sample drawn from training data \n",
    "   - increasing leads to a greater diversity among the trees. On the other hand, if its too hifh values may reduce diversity and make the trees more similar. Setting max_samples to the size of the training set (or close to it) effectively disables bootstrapping, making each tree trained on the full dataset.\n",
    "   - A smaller value means each tree is trained on a smaller subset of the data, introducing more randomness. \n",
    "- bootstrap, whether sample with/without replacement. Default: True.\n",
    "    - bootstrap: This parameter determines whether to sample with or without replacement.\n",
    "    - True (default): Sampling is done with replacement, meaning that each data point can be sampled multiple times in a given subset.\n",
    "    - False: Sampling is done without replacement, ensuring that each data point is selected only once in a given subset.\n",
    "- random_state, for replication (resampling procedure)\n",
    "\n",
    "Model to Use (estimator):\n",
    "\n",
    "1. Specify the type of model you want to use. It could be any supervised learning algorithm, such as logistic regression, k-nearest neighbors (knn), decision tree, support vector machine (SVM), etc.\n",
    "\n",
    "2. Number of Models to Train (n_estimators): Determine how many times you want to run the model. This is denoted by N. Each run will result in a different prediction because of the use of bootstrapped samples.\n",
    "\n",
    "3. Sample Size for Each Training (max_samples): Specify the number of records to use for training the model each time. This is denoted by B. It represents the size of the bootstrapped sample.\n",
    "\n",
    "4. Sampling Method (bootstrap):Decide whether to sample with or without replacement. If bootstrap=True, it means sampling with replacement. If bootstrap=False, it means sampling without replacement.\n",
    "\n",
    "5. Random State (random_state): For replication purposes, set a random state to ensure that the resampling procedure is reproducible. This is important for obtaining consistent results when Bagging.\n",
    "\n",
    "**Note:**\n",
    "Bagging goes well with models with a worse scalability. For example, SVM is often used together with bagging. In this case, SVM should be trained on smaller (bootstrapped) samples.\n",
    "\n",
    "Diversity through Bootstrapping:\n",
    "\n",
    "The use of bootstrapped samples introduces diversity into the training process. Each bootstrapped sample is randomly drawn with replacement from the original dataset.\n",
    "This diversity helps improve the robustness and generalization of the model.\n",
    "Aggregation of Predictions:\n",
    "\n",
    "After training the decision tree 200 times on different bootstrapped samples, the final prediction for a given input is typically the majority vote (for classification) or the average (for regression) of the individual predictions.\n",
    "Effective with Models with Scalability Issues:\n",
    "\n",
    "Bagging is often used with models that have scalability issues, such as SVM. Training SVM on smaller bootstrapped samples can enhance its performance.\n",
    "\n",
    "**Practice:**\n",
    "############################################################################\n",
    "\n",
    "Suppose we want to train decision tree with default setting on multiple samples, then combine the results. Specifically, we want to train the model 200 times (i.e., N=200), each time with a bootstrapped sample size of 100 (i.e., B=100)."
   ]
  },
  {
   "cell_type": "code",
   "execution_count": 42,
   "id": "fb7002d6",
   "metadata": {},
   "outputs": [
    {
     "data": {
      "text/plain": [
       "0.904"
      ]
     },
     "execution_count": 42,
     "metadata": {},
     "output_type": "execute_result"
    }
   ],
   "source": [
    "#estimator- singular not plural- only one model \n",
    "#specify the number of records we are obtaining to train the model \n",
    "#k = how many predicted models will you get to make prediction \n",
    "from sklearn.ensemble import BaggingClassifier\n",
    "from sklearn.tree import DecisionTreeClassifier\n",
    "\n",
    "dt = DecisionTreeClassifier(random_state=42)\n",
    "\n",
    "bag_clf = BaggingClassifier(dt, n_estimators = 200, max_samples = 100, \n",
    "                            random_state=42)\n",
    "bag_clf.fit(X_train, y_train)\n",
    "bag_clf.score(X_test, y_test)"
   ]
  },
  {
   "cell_type": "code",
   "execution_count": 43,
   "id": "6a60f24f",
   "metadata": {},
   "outputs": [
    {
     "name": "stdout",
     "output_type": "stream",
     "text": [
      "Test score for Bagging with SVM: 0.888\n"
     ]
    }
   ],
   "source": [
    "#know how to use svm with bagging \n",
    "# Create an SVM model\n",
    "svm_model = SVC(kernel='rbf', random_state=42)\n",
    "\n",
    "# Create a BaggingClassifier with SVM as the base estimator\n",
    "bag_svm_clf = BaggingClassifier(svm_model, n_estimators=200, max_samples=100, \n",
    "                                random_state=42)\n",
    "\n",
    "# Fit the BaggingClassifier on the training data\n",
    "bag_svm_clf.fit(X_train, y_train)\n",
    "\n",
    "# Evaluate the performance on the test set\n",
    "score = bag_svm_clf.score(X_test, y_test)\n",
    "print(\"Test score for Bagging with SVM:\", score)"
   ]
  },
  {
   "cell_type": "markdown",
   "id": "8c1a2525",
   "metadata": {},
   "source": [
    "**Practice:**\n",
    "############################################################################\n",
    "- Now train the naive decision tree classifier. What is the accuracy for test set?"
   ]
  },
  {
   "cell_type": "code",
   "execution_count": 44,
   "id": "68f91ab4",
   "metadata": {},
   "outputs": [
    {
     "name": "stdout",
     "output_type": "stream",
     "text": [
      "Accuracy for a naive DT is: 0.824\n",
      "Bagging the naive trees, we have accuracy: 0.808\n"
     ]
    }
   ],
   "source": [
    "# Practice for you\n",
    "#naive - decision tree with depth 1, test performance? \n",
    "#do the same bagging, now estimator being decision tree with depth 1, what is the performance? \n",
    "\n",
    "dt_naive = DecisionTreeClassifier(max_depth = 1, random_state=42)\n",
    "dt_naive.fit(X_train, y_train)\n",
    "print(\"Accuracy for a naive DT is:\", dt_naive.score(X_test, y_test))\n",
    "\n",
    "bagnaive_clf = BaggingClassifier(dt_naive, max_samples = 100, n_estimators = 200, bootstrap = True,\n",
    "                            random_state=42)\n",
    "bagnaive_clf.fit(X_train, y_train)\n",
    "print(\"Bagging the naive trees, we have accuracy:\", bagnaive_clf.score(X_test, y_test))\n",
    "\n",
    "# Bagging does not guarantee performance improvement\n"
   ]
  },
  {
   "cell_type": "markdown",
   "id": "a227eed9",
   "metadata": {},
   "source": [
    "### Lecture 9: Random Forest\n",
    "Random Forest can be realized using: \n",
    "**<center>sklearn.ensemble.RandomForestClassifier</center>**\n",
    "\n",
    "Recall that Random Forest is an implementation of ensemble learning (bagging) on decision tree models. Thus, most (if not all) the parameters in bagging and decision tree are applicable. It builds multiple decision trees and merges their predictions to improve overall accuracy and reduce overfittingBelow, we emphasize a couple of parameters:\n",
    "\n",
    "- n_estimators: number of trees in the forest/number of times to run decision tree (how many times the decision tree model is trained) \n",
    "    - increase: leads to a more robust & stable model, helps reduce overfitting by averaging out multiple tree, but there is diminishing returns \n",
    "- max_samples: number of records to sample for each tree\n",
    "    - Influences the diversity of the trees. A smaller max_samples leads to greater diversity, as each tree is trained on a smaller subset, introducing more randomness. Larger values may reduce diversity.\n",
    "- max_features: number of features to choose (the $m$ in the lecture note)\n",
    "    - Controls the randomness at each split. Smaller values lead to more randomness and diversity among trees. It's common to set max_features to the square root of the total number of features.\n",
    "- bootstrap: True when sample with replacement\n",
    "    -  If True (default), it means sampling with replacement, allowing instances to be sampled multiple times. This is a key characteristic of bagging.\n",
    "\n",
    "Similar to DT, Random Forest can provide **.feature_importances_**. In this case, the numbers would be the mean of impurity improvement across different leaners. Higher importance indicates that the feature is more influential in making predictions.\n",
    "\n",
    "\n",
    "**Practice**\n",
    "############################################################################\n",
    "Train a Random Forest Classifier with 200 trees, each using a bootstrapped sample with 100 instances. Let random state be 42. What is the model's performance?"
   ]
  },
  {
   "cell_type": "code",
   "execution_count": 116,
   "id": "7df555e2",
   "metadata": {},
   "outputs": [
    {
     "name": "stdout",
     "output_type": "stream",
     "text": [
      "RandomForestClassifier(max_samples=100, n_estimators=200, random_state=42)\n",
      "0.965034965034965\n"
     ]
    }
   ],
   "source": [
    "#we do not need to specify ____, different than bagging \n",
    "from sklearn.ensemble import RandomForestClassifier\n",
    "#default max number of features\n",
    "rf = RandomForestClassifier(n_estimators = 200, max_samples = 100, random_state = 42) #(max_depth = 3) --> prepruning \n",
    "print(rf.fit(X_train, y_train))\n",
    "print(rf.score(X_test, y_test))\n",
    "\n",
    "#practically, we can do prepruning for each indvidual tree (are not prohibted to do prepreuning for random forest)\n",
    "#syntax wise use same pre-pruning parameter names in RFC input "
   ]
  },
  {
   "cell_type": "markdown",
   "id": "448bfa82",
   "metadata": {},
   "source": [
    "#DISCUSSION*********\n",
    "#The ensemble may not be effective in potentially improving model performance\n",
    "#because there might be a lack of diversity. Using bootstrap allows randomness in the model which helps \n",
    "#it's ability to  generalize better to test data. Using an ensemble without replacement may lead to\n",
    "#a risk of overfitting due to this lack of diversity. There is a lack of diversity because\n",
    "#each tree is being trained on the dataset without duplicates. "
   ]
  },
  {
   "cell_type": "code",
   "execution_count": 118,
   "id": "fee8b326",
   "metadata": {},
   "outputs": [
    {
     "name": "stdout",
     "output_type": "stream",
     "text": [
      "0.972027972027972\n"
     ]
    }
   ],
   "source": [
    "#QUESTION 4(c)\n",
    "rf2 = RandomForestClassifier(n_estimators=200, max_features=2, bootstrap=False, random_state=2) \n",
    "rf2.fit(X_train, y_train)\n",
    "print(rf2.score(X_test, y_test))\n",
    "#n rf2, you set bootstrap = False. This means that each tree in the forest is trained on the entire training dataset, and max_samples is ignored in this case"
   ]
  },
  {
   "cell_type": "markdown",
   "id": "69faa56f",
   "metadata": {},
   "source": [
    "### Lecture 9: Adaboost\n",
    "AdaBoost (Adaptive Boosting) is an ensemble learning method that focuses on a single base classifier and adapts to the weaknesses of that classifier. The key distinguishing feature of AdaBoost from bagging is the application of different weights to samples during the training process. The ensemble combines the results of individual weak learners using a weighted method.\n",
    "- less prone to overfitting \n",
    "\n",
    "The method is realized using syntax: \n",
    "**<center>sklearn.ensemble.AdaBoostClassifier</center>**\n",
    "- The first element should be the model we use.\n",
    "- n_estimators: number of times to run the model. Specifies the number of times the base classifier (e.g., Decision Tree) is trained.\n",
    "- learning_rate: the importance of each classifier. default is 1. Determines the contribution of each weak learner to the final combination. A smaller learning rate makes the model more robust but requires more weak learners.\n",
    "    - The learning rate acts as a regularization parameter, controlling the impact of each weak learner on the overall model. A smaller learning rate generally leads to a more robust model that generalizes better to unseen data.\n",
    "- random_state- Ensures reproducibility by fixing the randomization during the training process.\n",
    "\n",
    "- #usually see a trade off between number of estimators (n_estimators) and learning rate (learning_rate)\n",
    "- #higher number of estimators, significance of each model decreases \n",
    "- #more models trained --> each model is less important\n",
    "- #Adaboost works by combining multiple learner models to create a strong learner model. It focuses on \n",
    "- #instances that are incorrectly classified by the previous learner model by adding a higher weight to them. \n",
    "- #The accuracy score is higher for the Adaboost model because the model is adaptively combining the predictions of the correctly trained learners. \n",
    "\n",
    "**Trade-off:**\n",
    "\n",
    "Number of Estimators (n_estimators):\n",
    "\n",
    "Increasing the number of estimators implies adding more weak learners to the ensemble.\n",
    "As the number of estimators grows, the model becomes more expressive and can better fit the training data.\n",
    "However, there's a diminishing return effect, and adding too many weak learners may lead to overfitting the training data.\n",
    "Learning Rate (learning_rate):\n",
    "\n",
    "The learning rate controls the contribution of each weak learner to the overall model.\n",
    "A smaller learning rate makes each weak learner's contribution smaller, providing more robustness against overfitting.\n",
    "Conversely, a larger learning rate allows each weak learner to have a more significant impact on the final model.\n",
    "\n",
    "**Trade-off Relationship**:\n",
    "\n",
    "More Estimators, Smaller Learning Rate:\n",
    "\n",
    "- When you increase the number of estimators, you might consider reducing the learning rate.\n",
    "- This combination helps in preventing overfitting by having a larger number of weak learners (reducing the risk of overfitting) and reducing the impact of each learner (providing more robustness).\n",
    "\n",
    "Fewer Estimators, Larger Learning Rate:\n",
    "\n",
    "- If you opt for fewer estimators, you might use a larger learning rate to compensate for the limited number of weak learners.\n",
    "- This combination can make each weak learner more influential, potentially capturing more complex patterns in the data.\n",
    "\n",
    "\n",
    "**Practice**\n",
    "Suppose we apply Adaboost to naive DT classifier with depth = 1. Let learning rate be 0.5, random state be 42. What is the performance if we train 200 naive learners?\n",
    "\n",
    "- This means the individual trees in the ensemble are very simple, only making decisions based on a single feature.\n",
    "- AdaBoost is configured with a learning rate of 0.5, meaning each weak learner's contribution is scaled by this factor. A learning rate less than 1 often helps in preventing overfitting.\n",
    "- Train 200 naive learners. This implies that 200 weak learners (Decision Trees of depth 1 in this case) are sequentially trained and combined.\n",
    "- AdaBoost's weighted combination of weak learners aims to correct the errors made by previous weak learners. The focus on misclassified samples helps improve generalization and reduce overfitting. The learning rate controls the influence of each weak learner, preventing the model from fitting the training data too closely.\n",
    "- improve performance on challenging instances\n"
   ]
  },
  {
   "cell_type": "code",
   "execution_count": 47,
   "id": "68bf6827",
   "metadata": {},
   "outputs": [
    {
     "data": {
      "text/plain": [
       "0.896"
      ]
     },
     "execution_count": 47,
     "metadata": {},
     "output_type": "execute_result"
    }
   ],
   "source": [
    "from sklearn.ensemble import AdaBoostClassifier\n",
    "\n",
    "# Define base model\n",
    "dt1 = DecisionTreeClassifier(random_state = 42, max_depth = 1)\n",
    "\n",
    "# AdaBoost\n",
    "adaboost = AdaBoostClassifier(dt1, n_estimators = 200, learning_rate = 0.5, random_state = 42)\n",
    "#learning rate is usually invalid for adaboost scenario (conceptually)\n",
    "#usually see a trade off between number of estimators (n_estimators) and learning rate (learning_rate)\n",
    "#higher number of estimators, significance of each model decreases \n",
    "#more models trained --> each model is less important\n",
    "\n",
    "# Performance\n",
    "adaboost.fit(X_train, y_train)\n",
    "adaboost.score(X_test, y_test)"
   ]
  },
  {
   "cell_type": "markdown",
   "id": "6fa33cf2",
   "metadata": {},
   "source": [
    "### Adaboost with GridSearchCV"
   ]
  },
  {
   "cell_type": "code",
   "execution_count": 48,
   "id": "81aeb772",
   "metadata": {},
   "outputs": [
    {
     "name": "stdout",
     "output_type": "stream",
     "text": [
      "Best Parameters: {'learning_rate': 0.1, 'n_estimators': 200}\n",
      "Test accuracy with best parameters: 0.88\n"
     ]
    }
   ],
   "source": [
    "# Define base model\n",
    "dt1 = DecisionTreeClassifier(random_state=42, max_depth=1)\n",
    "\n",
    "# AdaBoost\n",
    "adaboost = AdaBoostClassifier(base_estimator=dt1, random_state=42)\n",
    "\n",
    "# Define parameter grid for GridSearchCV\n",
    "param_grid = {\n",
    "    'n_estimators': [50, 100, 150, 200],    # You can extend this range based on your needs\n",
    "    'learning_rate': [0.1, 0.5, 1.0]        # You can extend this range based on your needs\n",
    "}\n",
    "\n",
    "# Create GridSearchCV object\n",
    "grid_search = GridSearchCV(adaboost, param_grid, cv=5)  # Use cross-validation with 5 folds\n",
    "\n",
    "# Perform Grid Search\n",
    "grid_search.fit(X_train, y_train)\n",
    "\n",
    "# Get the best parameters from the grid search\n",
    "best_params = grid_search.best_params_\n",
    "print(\"Best Parameters:\", best_params)\n",
    "\n",
    "# Evaluate the model with the best parameters on the test set\n",
    "best_adaboost = grid_search.best_estimator_\n",
    "test_accuracy = best_adaboost.score(X_test, y_test)\n",
    "print(\"Test accuracy with best parameters:\", test_accuracy)"
   ]
  },
  {
   "cell_type": "markdown",
   "id": "6ca61ae8",
   "metadata": {},
   "source": [
    "# Lecture 10 Unsupervised Learning"
   ]
  },
  {
   "cell_type": "markdown",
   "id": "a61064b3",
   "metadata": {},
   "source": [
    "## 1. Clustering Models\n",
    "\n",
    "We will work on two clustering models: K-Means, and DBSCAN. Note that clustering models solve unsupervised learning problems, and there is no observed outcome variables. Therefore, there is no \"overfitting\" issue, and we do not need to split our data.\n",
    "-  partitioning data into distinct, non-overlapping groups or clusters. The algorithm aims to group similar data points together based on their features. \n",
    "- The algorithm doesn't require labeled data; it identifies patterns and groups based on the features of the data.\n",
    "\n",
    "### 1.1 KMeans\n",
    "As mentioned in class, K-Means works well when data has a round or oval shape. In below, we would first generate data with round shape, then use K-Means for clustering.\n",
    "\n",
    "For data generation, use: sklearn.datasets.make_blobs. \n",
    "\n",
    "For K-Means clustering, use syntax:\n",
    "**<center>sklearn.cluster.KMeans()</center>**\n",
    "- n_clusters: the number of clusters to use\n",
    "    - If you set it too low, you might underfit the data, combining distinct clusters into one. If you set it too high, you might overfit the data, creating clusters for noise or individual data points.\n",
    "- n_init: the number of k-means to run with different initial points. Default = 10\n",
    "    - The parameter n_init controls how many times the algorithm will be run with different initializations. The default is 10, meaning K-Means will be executed ten times, and the best result in terms of SSE (Sum of Squared Errors) will be chosen.\n",
    "    - Increasing n_init may improve the chance of finding a better overall clustering solution but will also increase computational cost.\n",
    "- random_state: the generation of initial points\n",
    "\n",
    "Similar to supervised learning methods, we use .fit to train our model, use .predict for prediction. Instead of predicting a \"y\", we are predicting a cluster label. We can even use .score to get performance measure. However, the performance measure is irrelevant to \"how well we predict\", but about \"how close the points are\". Specifically, the value is -SSE (negative value).\n",
    "\n",
    "Performance Measure:\n",
    "\n",
    "- The performance measure for K-Means is often the negative sum of squared errors (-SSE). It represents how close the data points are to their assigned cluster centroids.\n",
    "- K-Means aims to minimize SSE by optimizing the placement of cluster centroids.\n",
    "\n",
    "We can also use .cluster_centers_ to get the centroids. "
   ]
  },
  {
   "cell_type": "code",
   "execution_count": 49,
   "id": "cf891356",
   "metadata": {},
   "outputs": [
    {
     "data": {
      "text/plain": [
       "<matplotlib.collections.PathCollection at 0x7fd5ab334940>"
      ]
     },
     "execution_count": 49,
     "metadata": {},
     "output_type": "execute_result"
    },
    {
     "data": {
      "image/png": "[encoded data removed]",
      "text/plain": [
       "<Figure size 640x480 with 1 Axes>"
      ]
     },
     "metadata": {},
     "output_type": "display_data"
    }
   ],
   "source": [
    "#we are no longer predicting \"y\" we are instead predicting cluster labels \n",
    "#interpretting absolute value of SSE\n",
    "#no longer split our data, no longer have overfitting concern\n",
    "\n",
    "# S1.1: Data Generation\n",
    "from sklearn.datasets import make_blobs\n",
    "X, y = make_blobs(random_state=1)\n",
    "\n",
    "# S1.2: Plot Data\n",
    "plt.scatter(X[:,0], X[:,1])"
   ]
  },
  {
   "cell_type": "code",
   "execution_count": 54,
   "id": "6cc7931c",
   "metadata": {},
   "outputs": [
    {
     "name": "stdout",
     "output_type": "stream",
     "text": [
      "Predicted Labels: [1 0 0 0 2 2 2 0 1 1 0 0 2 1 2 2 2 1 0 0 2 0 2 1 0 2 2 1 1 2 1 1 2 1 0 2 0\n",
      " 0 0 2 2 0 1 0 0 2 1 1 1 1 0 2 2 2 1 2 0 0 1 1 0 2 2 0 0 2 1 2 1 0 0 0 2 1\n",
      " 1 0 2 2 1 0 1 0 0 2 1 1 1 1 0 1 2 1 1 0 0 2 2 1 2 1]\n",
      "Labels: [1 0 0 0 2 2 2 0 1 1 0 0 2 1 2 2 2 1 0 0 2 0 2 1 0 2 2 1 1 2 1 1 2 1 0 2 0\n",
      " 0 0 2 2 0 1 0 0 2 1 1 1 1 0 2 2 2 1 2 0 0 1 1 0 2 2 0 0 2 1 2 1 0 0 0 2 1\n",
      " 1 0 2 2 1 0 1 0 0 2 1 1 1 1 0 1 2 1 1 0 0 2 2 1 2 1]\n",
      "Performance Score: -156.28289251170003\n",
      "Cluster Centers: \n",
      " [[-10.04935243  -3.85954095]\n",
      " [ -1.4710815    4.33721882]\n",
      " [ -6.58196786  -8.17239339]]\n"
     ]
    }
   ],
   "source": [
    "# S2: K-Means Clustering\n",
    "from sklearn.cluster import KMeans\n",
    "\n",
    "kmeans =  KMeans(n_clusters = 3, random_state = 0)\n",
    "\n",
    "kmeans.fit(X)\n",
    "# Predict the class labels\n",
    "\n",
    "cls_predict = kmeans.predict(X)\n",
    "\n",
    "print(\"Predicted Labels:\", cls_predict)\n",
    "print(\"Performance Score:\", kmeans.score(X)) # -SSE\n",
    "print(\"Cluster Centers: \\n\", kmeans.cluster_centers_)  "
   ]
  },
  {
   "cell_type": "code",
   "execution_count": 52,
   "id": "a2a36a19",
   "metadata": {},
   "outputs": [
    {
     "data": {
      "text/plain": [
       "<matplotlib.collections.PathCollection at 0x7fd5ab606970>"
      ]
     },
     "execution_count": 52,
     "metadata": {},
     "output_type": "execute_result"
    },
    {
     "data": {
      "image/png": "[encoded data removed]",
      "text/plain": [
       "<Figure size 640x480 with 1 Axes>"
      ]
     },
     "metadata": {},
     "output_type": "display_data"
    }
   ],
   "source": [
    "#S3: Visualize our results:\n",
    "#how well are you doing the clustering\n",
    "plt.scatter(X[:, 0], X[:, 1])\n",
    "plt.scatter(X[:, 0], X[:, 1], c = cls_predict) # predicted label as colors\n",
    "\n",
    "# visualizing centroids\n",
    "#first two elements are x axis & y axis values\n",
    "plt.scatter(kmeans.cluster_centers_[:,0], kmeans.cluster_centers_[:, 1],  marker='^', c = 'r')"
   ]
  },
  {
   "cell_type": "markdown",
   "id": "8af3c982",
   "metadata": {},
   "source": [
    "### 1.2 DBSCAN\n",
    "DBSCAN works well for clutering datasets with arbitrary shapes. Thus, we will create a dataset with moon shape and check its performance.\n",
    "\n",
    "DBSCAN is realized using syntax:\n",
    "\n",
    "**<center>sklearn.cluster.DBSCAN</center>**\n",
    "- eps: the epsilon size. default is 0.5\n",
    "    - Epsilon defines the radius around a data point within which the algorithm looks for neighboring points.\n",
    "    - Smaller values of epsilon result in more tightly packed clusters, while larger values may merge clusters or consider distant points as part of the same cluster.\n",
    "    - Choosing an appropriate epsilon is critical for the performance of DBSCAN\n",
    "    - Larger epsilon values result in larger neighborhoods for points.\n",
    "    - Clusters become more inclusive, potentially merging smaller clusters into larger ones.\n",
    "    - May lead to the identification of fewer, larger clusters.\n",
    "    - smaller episol: More clusters may be identified, especially capturing finer details in the data.\n",
    "- min_samples: the MinPts. default is 5\n",
    "    - MinPts is the minimum number of data points required to form a dense region (core point).\n",
    "    - Increasing min_samples makes the algorithm more conservative, requiring denser regions for cluster formation.\n",
    "    - A rule of thumb is to set min_samples to at least twice the number of features in the dataset.\n",
    "    - increase: Results in more conservative clustering, identifying only dense and well-defined clusters. Outliers and less dense regions may be classified as noise.\n",
    "    - decrease: Allows smaller sets of points to form a dense region.. Can identify less dense and more spread-out clusters. May include outliers and noise in clusters.\n",
    "\n",
    "Instead of using .fit to train our model, we use **.fit_predict(X_INPUT)** to train and predict at the same time. The output would be the cluster labels.\n",
    "\n",
    "#### outliers\n",
    "Impact on Noise and Outliers:\n",
    "\n",
    "- Increasing epsilon or decreasing min_samples tends to make the algorithm more permissive, potentially classifying more points as noise.\n",
    "- Decreasing epsilon or increasing min_samples makes the algorithm more stringent, reducing the likelihood of noise affecting clusters.\n",
    "\n",
    "#### Choosing eps and min_samples\n",
    "DBSCAN is sensitive to the choice of parameters. A rule of thumb would be: \n",
    "- min_samples = 2* feature number;\n",
    "- eps: adjusted based on number of clusters obtained. \n",
    "    - If too many clusters => increase eps, \n",
    "    - If too few clusters => decrease eps.\n",
    "    \n",
    "#### Parameter Tuning:\n",
    "\n",
    "Tuning the parameters (eps and min_samples) is crucial for the success of DBSCAN. The right values depend on the density and distribution of the data.\n",
    "- If the algorithm identifies too many small clusters, consider increasing epsilon.\n",
    "- If the algorithm fails to find meaningful clusters, consider decreasing epsilon\n",
    "\n",
    "#### Rescaling Data Recap (I)\n",
    "One key point for DBSCAN is rescaling. As density is defined on a circle around a point, it is important to standardize the data, so that all variables have zero mean and unit variance (and in the same scale). Recall that standardization is realized using syntax:\n",
    "\n",
    "**<center>sklearn.preprocessing.StandardScaler</center>**\n",
    "\n",
    "Similar to all models, use .fit to train the model. Then use **.transform()** to get the scaled output.\n",
    "\n",
    "- Standardizing or rescaling the data is essential for DBSCAN because it relies on distance measures. Ensure that all features have zero mean and unit variance."
   ]
  },
  {
   "cell_type": "code",
   "execution_count": 55,
   "id": "02a72e42",
   "metadata": {},
   "outputs": [
    {
     "data": {
      "image/png": "[encoded data removed]",
      "text/plain": [
       "<Figure size 640x480 with 1 Axes>"
      ]
     },
     "metadata": {},
     "output_type": "display_data"
    }
   ],
   "source": [
    "# Data Generation\n",
    "from sklearn.datasets import make_moons\n",
    "X, y = make_moons(n_samples=200, noise=0.05, random_state=0)\n",
    "plt.scatter(X[:,0], X[:,1])\n",
    "plt.show()"
   ]
  },
  {
   "cell_type": "code",
   "execution_count": 56,
   "id": "dd484b33",
   "metadata": {},
   "outputs": [
    {
     "data": {
      "text/plain": [
       "(array([[ 0.36748451,  0.54576641],\n",
       "        [ 1.28731953, -1.2803031 ],\n",
       "        [-0.59397643,  0.04357482],\n",
       "        [-1.74182239, -0.66371706],\n",
       "        [ 1.45705144, -0.85667812],\n",
       "        [ 1.58953574, -0.59675854],\n",
       "        [ 0.54875768, -0.08552893],\n",
       "        [ 0.44914675, -1.50218876],\n",
       "        [ 0.46138047,  0.23124986],\n",
       "        [ 0.71117525, -1.59382202],\n",
       "        [-0.98693652,  1.16613579],\n",
       "        [-0.28618307, -0.9941549 ],\n",
       "        [ 1.51445888, -0.7760272 ],\n",
       "        [ 0.82589866, -1.33505302],\n",
       "        [-1.51451022,  0.79027655],\n",
       "        [ 0.55545785, -0.08853775],\n",
       "        [ 0.05104108,  1.284163  ],\n",
       "        [-0.17030547, -1.12065006],\n",
       "        [-0.1659644 ,  1.28843594],\n",
       "        [-1.46106881,  1.15527198],\n",
       "        [ 1.63987535, -0.48630812],\n",
       "        [ 0.41814803, -1.47618916],\n",
       "        [-0.34023715,  1.50810931],\n",
       "        [ 0.90980627, -1.26183242],\n",
       "        [-0.88905065,  1.56616629],\n",
       "        [-0.29208555, -0.66541512],\n",
       "        [ 1.55266276, -0.70888274],\n",
       "        [ 1.59187607, -0.4198694 ],\n",
       "        [-0.37934026, -0.68537412],\n",
       "        [-0.41055433,  1.30486945],\n",
       "        [ 0.45245353,  0.54782067],\n",
       "        [-0.83121845,  1.19250359],\n",
       "        [ 0.55790861, -1.45197365],\n",
       "        [-0.52095895, -0.11675381],\n",
       "        [ 0.30716417,  0.85080605],\n",
       "        [ 1.6228749 , -0.08190372],\n",
       "        [-0.06928845, -0.9769479 ],\n",
       "        [ 0.53390556, -0.3098887 ],\n",
       "        [-1.53710739,  0.55082779],\n",
       "        [-0.61686946,  0.21269717],\n",
       "        [ 0.06722244, -1.37166737],\n",
       "        [-1.07301083,  1.22994785],\n",
       "        [ 0.1798663 ,  0.93207608],\n",
       "        [-0.45169996, -0.37475023],\n",
       "        [ 1.20711239, -1.19987003],\n",
       "        [-0.99770134,  1.42372186],\n",
       "        [ 0.59723286, -0.12177446],\n",
       "        [-1.39470231,  0.81542495],\n",
       "        [-0.3844618 , -0.72910487],\n",
       "        [ 0.42201788, -1.4416005 ],\n",
       "        [-1.36939277,  1.11232543],\n",
       "        [-0.19338678, -0.90831485],\n",
       "        [ 1.70246706, -0.43294168],\n",
       "        [-1.6075826 , -0.39495558],\n",
       "        [ 0.62945176, -1.52413898],\n",
       "        [ 0.2947686 ,  0.81970571],\n",
       "        [ 0.06103803,  0.98069898],\n",
       "        [ 0.85342102, -1.4746636 ],\n",
       "        [-0.28369989,  1.39819439],\n",
       "        [-0.8076948 ,  1.5003761 ],\n",
       "        [-0.16648172, -1.09966597],\n",
       "        [-1.73548641, -0.18091935],\n",
       "        [ 1.47405817, -0.76308173],\n",
       "        [ 0.43337289,  0.56401501],\n",
       "        [ 0.69234549, -1.45756428],\n",
       "        [-1.79736765, -0.0317458 ],\n",
       "        [-0.75163854,  1.5450799 ],\n",
       "        [ 1.11190423, -1.28246737],\n",
       "        [-0.53486952,  1.47002273],\n",
       "        [-1.64406031,  0.41431106],\n",
       "        [ 0.18803279, -1.45437306],\n",
       "        [-1.70698904,  0.31276869],\n",
       "        [-0.03795297, -1.45496442],\n",
       "        [-0.72101613,  0.55149422],\n",
       "        [ 0.36618187, -1.37831796],\n",
       "        [-1.65738552,  0.25311339],\n",
       "        [-0.50877018, -0.13418436],\n",
       "        [ 0.49331323,  0.31939015],\n",
       "        [ 0.12667562,  1.07476157],\n",
       "        [ 0.26745617, -1.2647527 ],\n",
       "        [ 1.70147501, -0.25920716],\n",
       "        [-0.59313837,  1.46616216],\n",
       "        [ 0.16256503, -1.52204068],\n",
       "        [ 1.73220826,  0.39248908],\n",
       "        [-0.54301103, -0.02402429],\n",
       "        [-0.98124445,  1.56977967],\n",
       "        [ 0.5250457 , -0.42628235],\n",
       "        [-0.95873193,  1.43997721],\n",
       "        [ 0.11819183, -1.31660119],\n",
       "        [ 1.71362853,  0.28639383],\n",
       "        [-0.18954869,  1.38627589],\n",
       "        [ 0.5714598 ,  0.19935808],\n",
       "        [ 1.71163022,  0.02151113],\n",
       "        [-1.34365115,  1.03709293],\n",
       "        [ 1.73349232,  0.22869548],\n",
       "        [ 1.47590836, -0.7436576 ],\n",
       "        [ 1.42219895, -0.97237669],\n",
       "        [-0.10327175, -1.02588116],\n",
       "        [-1.7455429 , -0.01791216],\n",
       "        [-0.49598905, -0.35371632],\n",
       "        [ 0.92287472, -1.68759683],\n",
       "        [ 1.69534093,  0.11481832],\n",
       "        [-0.53253859,  1.67553699],\n",
       "        [ 0.61305514, -0.55929686],\n",
       "        [-1.60279532,  0.11003256],\n",
       "        [-0.4770109 ,  0.0791968 ],\n",
       "        [-1.70312332, -0.3002826 ],\n",
       "        [-1.11329651,  1.43662121],\n",
       "        [ 1.20463085, -1.22005159],\n",
       "        [-0.30189965,  1.30507097],\n",
       "        [-1.24049229,  1.11607738],\n",
       "        [-0.52656853,  1.56178399],\n",
       "        [-0.59186855,  1.65656249],\n",
       "        [-1.54843032,  0.2972693 ],\n",
       "        [ 0.49316295,  0.2526724 ],\n",
       "        [ 1.07383133, -1.52674461],\n",
       "        [ 0.12590421,  0.83067513],\n",
       "        [ 1.66064862, -0.23368084],\n",
       "        [ 0.09563647, -1.31850642],\n",
       "        [ 0.28301401,  0.52214424],\n",
       "        [ 0.42984932,  0.5850786 ],\n",
       "        [-1.38463036,  0.64942711],\n",
       "        [-0.60492802,  0.17061921],\n",
       "        [-0.60382074,  1.50569384],\n",
       "        [-0.64200381,  0.34380326],\n",
       "        [-1.47844436,  0.87371275],\n",
       "        [ 0.4870012 , -0.42641163],\n",
       "        [-0.36543386, -0.41900095],\n",
       "        [ 0.97843121, -1.30934266],\n",
       "        [ 1.70637232,  0.5201212 ],\n",
       "        [ 0.57885331,  0.0392324 ],\n",
       "        [-1.19199393,  1.03380883],\n",
       "        [-1.7132458 ,  0.44573854],\n",
       "        [-0.30102709, -0.82248081],\n",
       "        [ 0.82358091, -1.33862344],\n",
       "        [ 1.26715249, -0.87431703],\n",
       "        [ 0.75941869, -1.32943852],\n",
       "        [-1.72738436, -0.07308707],\n",
       "        [ 1.74628216,  0.50827077],\n",
       "        [ 0.44961808,  0.27944676],\n",
       "        [-0.45289238, -0.53534151],\n",
       "        [-0.58382363,  0.44246714],\n",
       "        [-0.0582972 ,  1.40528009],\n",
       "        [-0.97905972,  1.4806992 ],\n",
       "        [-1.07257691,  1.27924766],\n",
       "        [ 0.59525046, -0.37543783],\n",
       "        [-0.30449677, -0.4875367 ],\n",
       "        [ 0.98031202, -1.41273149],\n",
       "        [-0.27791153,  1.55637833],\n",
       "        [-0.57630346, -0.00611837],\n",
       "        [-0.0243162 , -1.26096838],\n",
       "        [ 1.35858663, -1.21532775],\n",
       "        [ 0.40056749,  0.41339387],\n",
       "        [-0.17700919,  1.32461773],\n",
       "        [ 0.10432044, -1.2214745 ],\n",
       "        [-0.77399147,  1.44671559],\n",
       "        [ 0.8743859 , -1.47106172],\n",
       "        [-0.18476378, -0.87599205],\n",
       "        [ 0.03421815,  1.41095332],\n",
       "        [ 0.167408  ,  1.06337303],\n",
       "        [-0.38865468, -0.41550621],\n",
       "        [ 0.70589673, -1.5369498 ],\n",
       "        [ 0.12301489,  1.18577905],\n",
       "        [ 1.13115319, -1.17373441],\n",
       "        [-0.11305523, -1.25789256],\n",
       "        [ 1.34905508, -0.69985583],\n",
       "        [-0.02405492,  1.22198434],\n",
       "        [ 0.24042439, -1.36657466],\n",
       "        [ 1.22490245, -1.21705625],\n",
       "        [ 0.50896391, -1.67583024],\n",
       "        [ 0.1348244 ,  1.18727623],\n",
       "        [-1.79871005, -0.4568315 ],\n",
       "        [-1.61709553,  0.55512421],\n",
       "        [-1.42798084,  0.53886447],\n",
       "        [-0.40106824, -0.45069997],\n",
       "        [ 0.51296957, -1.41898909],\n",
       "        [ 1.5469388 ,  0.31154987],\n",
       "        [-1.33623582,  0.88853071],\n",
       "        [-1.41421082,  0.70351206],\n",
       "        [ 0.12044026,  0.95874018],\n",
       "        [ 1.12186738, -1.27135166],\n",
       "        [-1.58785286,  0.51943394],\n",
       "        [ 1.64333253, -0.14219812],\n",
       "        [ 1.4802115 , -1.06736254],\n",
       "        [ 1.66900816,  0.02740453],\n",
       "        [-0.18558001,  1.47538963],\n",
       "        [-0.76328162,  1.29610598],\n",
       "        [ 0.31452227, -1.55918246],\n",
       "        [-1.58717024,  0.23243697],\n",
       "        [-1.29102533,  1.09112656],\n",
       "        [-1.63657297,  0.27413534],\n",
       "        [-0.08260286,  1.37839519],\n",
       "        [ 0.35808699,  0.57484367],\n",
       "        [ 0.50882709,  0.03827987],\n",
       "        [-0.58803642,  0.24607458],\n",
       "        [-1.18487133,  1.231699  ],\n",
       "        [ 1.59044067, -0.01592328],\n",
       "        [-0.36794876, -0.52554993],\n",
       "        [-0.42704874,  1.53075207],\n",
       "        [ 1.29068005, -0.96319993]]),\n",
       " array([[ 0.81680544,  0.5216447 ],\n",
       "        [ 1.61859642, -0.37982927],\n",
       "        [-0.02126953,  0.27372826],\n",
       "        [-1.02181041, -0.07543984],\n",
       "        [ 1.76654633, -0.17069874],\n",
       "        [ 1.8820287 , -0.04238449],\n",
       "        [ 0.97481551,  0.20999374],\n",
       "        [ 0.88798782, -0.48936735],\n",
       "        [ 0.89865156,  0.36637762],\n",
       "        [ 1.11638974, -0.53460385],\n",
       "        [-0.36380036,  0.82790185],\n",
       "        [ 0.24702417, -0.23856676],\n",
       "        [ 1.81658658, -0.13088387],\n",
       "        [ 1.2163905 , -0.40685761],\n",
       "        [-0.8236696 ,  0.64235178],\n",
       "        [ 0.98065583,  0.20850838],\n",
       "        [ 0.54097175,  0.88616823],\n",
       "        [ 0.348031  , -0.30101351],\n",
       "        [ 0.35181497,  0.88827765],\n",
       "        [-0.77708642,  0.82253872],\n",
       "        [ 1.92590813,  0.01214146],\n",
       "        [ 0.86096723, -0.47653216],\n",
       "        [ 0.19990695,  0.99672359],\n",
       "        [ 1.2895301 , -0.37071087],\n",
       "        [-0.27847636,  1.02538452],\n",
       "        [ 0.24187916, -0.07627812],\n",
       "        [ 1.84988768, -0.09773674],\n",
       "        [ 1.88406869,  0.0449402 ],\n",
       "        [ 0.165822  , -0.08613126],\n",
       "        [ 0.13861369,  0.89639036],\n",
       "        [ 0.89087024,  0.52265882],\n",
       "        [-0.22806587,  0.84091882],\n",
       "        [ 0.98279208, -0.46457771],\n",
       "        [ 0.04237749,  0.19457898],\n",
       "        [ 0.76422612,  0.67223332],\n",
       "        [ 1.91108938,  0.21178339],\n",
       "        [ 0.43608432, -0.23007221],\n",
       "        [ 0.96186938,  0.09923426],\n",
       "        [-0.84336684,  0.52414334],\n",
       "        [-0.04122466,  0.35721873],\n",
       "        [ 0.55507653, -0.42493298],\n",
       "        [-0.4388286 ,  0.85940389],\n",
       "        [ 0.6532646 ,  0.71235382],\n",
       "        [ 0.10274835,  0.06721414],\n",
       "        [ 1.5486824 , -0.34012196],\n",
       "        [-0.37318371,  0.95506411],\n",
       "        [ 1.01706978,  0.19210044],\n",
       "        [-0.71923685,  0.65476676],\n",
       "        [ 0.16135772, -0.10771978],\n",
       "        [ 0.86434045, -0.4594568 ],\n",
       "        [-0.69717533,  0.80133734],\n",
       "        [ 0.32791175, -0.19619019],\n",
       "        [ 1.98046734,  0.03848682],\n",
       "        [-0.90479784,  0.05723938],\n",
       "        [ 1.04515397, -0.50020349],\n",
       "        [ 0.7534213 ,  0.65688005],\n",
       "        [ 0.54968577,  0.73635744],\n",
       "        [ 1.24038086, -0.47577903],\n",
       "        [ 0.24918868,  0.94246199],\n",
       "        [-0.20756105,  0.99290594],\n",
       "        [ 0.35136403, -0.29065432],\n",
       "        [-1.01628753,  0.16290244],\n",
       "        [ 1.78137056, -0.1244931 ],\n",
       "        [ 0.87423825,  0.53065346],\n",
       "        [ 1.09997644, -0.46733763],\n",
       "        [-1.07022744,  0.2365448 ],\n",
       "        [-0.15869858,  1.01497482],\n",
       "        [ 1.46569247, -0.3808977 ],\n",
       "        [ 0.03025209,  0.97792142],\n",
       "        [-0.9365943 ,  0.45674926],\n",
       "        [ 0.66038307, -0.46576222],\n",
       "        [-0.99144728,  0.40662094],\n",
       "        [ 0.46339847, -0.46605416],\n",
       "        [-0.132006  ,  0.52447234],\n",
       "        [ 0.81566997, -0.42821617],\n",
       "        [-0.94820947,  0.37717096],\n",
       "        [ 0.05300205,  0.18597406],\n",
       "        [ 0.92648634,  0.40988975],\n",
       "        [ 0.60689997,  0.78279323],\n",
       "        [ 0.72961391, -0.37215252],\n",
       "        [ 1.9796026 ,  0.12425417],\n",
       "        [-0.02053902,  0.97601558],\n",
       "        [ 0.63818364, -0.49916763],\n",
       "        [ 2.00639179,  0.44597642],\n",
       "        [ 0.02315539,  0.24035667],\n",
       "        [-0.35883877,  1.02716833],\n",
       "        [ 0.95414653,  0.04177433],\n",
       "        [-0.33921532,  0.96308888],\n",
       "        [ 0.59950492, -0.39774852],\n",
       "        [ 1.99019644,  0.39360049],\n",
       "        [ 0.33125729,  0.9365782 ],\n",
       "        [ 0.99460422,  0.35063363],\n",
       "        [ 1.98845457,  0.2628361 ],\n",
       "        [-0.67473718,  0.76419738],\n",
       "        [ 2.00751107,  0.3651166 ],\n",
       "        [ 1.78298331, -0.11490401],\n",
       "        [ 1.73616653, -0.22781554],\n",
       "        [ 0.40646216, -0.25422904],\n",
       "        [-1.02505346,  0.24337404],\n",
       "        [ 0.06414296,  0.07759793],\n",
       "        [ 1.30092145, -0.58089757],\n",
       "        [ 1.97425572,  0.30889897],\n",
       "        [ 0.03228388,  1.07937745],\n",
       "        [ 1.03086156, -0.02389082],\n",
       "        [-0.90062492,  0.30653639],\n",
       "        [ 0.08068561,  0.29131373],\n",
       "        [-0.98807765,  0.1039765 ],\n",
       "        [-0.47394435,  0.96143212],\n",
       "        [ 1.54651932, -0.35008497],\n",
       "        [ 0.23332453,  0.89648984],\n",
       "        [-0.58481687,  0.80318956],\n",
       "        [ 0.0374878 ,  1.02322111],\n",
       "        [-0.01943215,  1.07001032],\n",
       "        [-0.85323667,  0.39896937],\n",
       "        [ 0.92635535,  0.37695326],\n",
       "        [ 1.43250553, -0.50148981],\n",
       "        [ 0.60622756,  0.66229531],\n",
       "        [ 1.94401554,  0.13685573],\n",
       "        [ 0.57984414, -0.39868907],\n",
       "        [ 0.74317519,  0.50998316],\n",
       "        [ 0.87116686,  0.54105191],\n",
       "        [-0.71045745,  0.57281877],\n",
       "        [-0.03081568,  0.33644614],\n",
       "        [-0.0298505 ,  0.99553114],\n",
       "        [-0.06313347,  0.42194174],\n",
       "        [-0.79223214,  0.68354165],\n",
       "        [ 0.92098434,  0.04171051],\n",
       "        [ 0.17794377,  0.04536893],\n",
       "        [ 1.34934828, -0.3941652 ],\n",
       "        [ 1.98387143,  0.50898445],\n",
       "        [ 1.00104892,  0.27158454],\n",
       "        [-0.5425424 ,  0.76257612],\n",
       "        [-0.9969011 ,  0.47226403],\n",
       "        [ 0.23408511, -0.15381658],\n",
       "        [ 1.21437019, -0.40862022],\n",
       "        [ 1.60101745, -0.17940652],\n",
       "        [ 1.15844202, -0.40408591],\n",
       "        [-1.00922523,  0.2161359 ],\n",
       "        [ 2.01865957,  0.50313426],\n",
       "        [ 0.88839866,  0.39017093],\n",
       "        [ 0.10170896, -0.01206481],\n",
       "        [-0.01241966,  0.47064905],\n",
       "        [ 0.44566504,  0.94595998],\n",
       "        [-0.3569344 ,  0.98319206],\n",
       "        [-0.43845037,  0.88374167],\n",
       "        [ 1.01534178,  0.06687469],\n",
       "        [ 0.2310607 ,  0.01153495],\n",
       "        [ 1.35098772, -0.44520507],\n",
       "        [ 0.25423421,  1.0205525 ],\n",
       "        [-0.00586456,  0.24919627],\n",
       "        [ 0.4752852 , -0.37028432],\n",
       "        [ 1.68071768, -0.34775296],\n",
       "        [ 0.84564282,  0.45629647],\n",
       "        [ 0.34218757,  0.90613948],\n",
       "        [ 0.58741368, -0.35078742],\n",
       "        [-0.17818292,  0.96641541],\n",
       "        [ 1.25865528, -0.4740009 ],\n",
       "        [ 0.33542814, -0.18023343],\n",
       "        [ 0.52630774,  0.94876068],\n",
       "        [ 0.6424051 ,  0.77717105],\n",
       "        [ 0.15770292,  0.04709417],\n",
       "        [ 1.11178863, -0.5065278 ],\n",
       "        [ 0.60370903,  0.83759912],\n",
       "        [ 1.48247118, -0.32721961],\n",
       "        [ 0.39793421, -0.36876588],\n",
       "        [ 1.67240934, -0.09328043],\n",
       "        [ 0.47551295,  0.85547255],\n",
       "        [ 0.70605116, -0.42241887],\n",
       "        [ 1.56418943, -0.34860626],\n",
       "        [ 0.94012854, -0.57508877],\n",
       "        [ 0.61400301,  0.83833823],\n",
       "        [-1.07139757,  0.02669316],\n",
       "        [-0.91308996,  0.52626435],\n",
       "        [-0.74824469,  0.51823742],\n",
       "        [ 0.14688241,  0.0297201 ],\n",
       "        [ 0.94362014, -0.44829425],\n",
       "        [ 1.84489829,  0.40601924],\n",
       "        [-0.66827347,  0.69085682],\n",
       "        [-0.7362418 ,  0.59951884],\n",
       "        [ 0.60146482,  0.72551706],\n",
       "        [ 1.47437703, -0.37541022],\n",
       "        [-0.88760005,  0.50864517],\n",
       "        [ 1.92892164,  0.18201791],\n",
       "        [ 1.78673422, -0.27470711],\n",
       "        [ 1.95130228,  0.26574549],\n",
       "        [ 0.33471666,  0.98057089],\n",
       "        [-0.16884749,  0.89206411],\n",
       "        [ 0.77063994, -0.51750338],\n",
       "        [-0.88700503,  0.36696366],\n",
       "        [-0.62886492,  0.79087211],\n",
       "        [-0.93006783,  0.38754885],\n",
       "        [ 0.42447858,  0.93268774],\n",
       "        [ 0.80861392,  0.53599924],\n",
       "        [ 0.94000928,  0.27111431],\n",
       "        [-0.01609181,  0.37369612],\n",
       "        [-0.53633385,  0.86026837],\n",
       "        [ 1.88281749,  0.24435589],\n",
       "        [ 0.17575161, -0.007231  ],\n",
       "        [ 0.12423604,  1.00790161],\n",
       "        [ 1.62152568, -0.22328525]]))"
      ]
     },
     "execution_count": 56,
     "metadata": {},
     "output_type": "execute_result"
    }
   ],
   "source": [
    "# S1: Preprocessing\n",
    "#2d * 2 = 4 --> min_samples calculation \n",
    "#if too few clusters --> focusing on local pattern\n",
    "#esp large, fewed clusters, larger circles, more points in a circle, fewer clusters\n",
    "#DB requires scaling because density is defined on the circle, assumping all points are under the same scale\n",
    "from sklearn.preprocessing import StandardScaler #MinMaxScalar (look at minmax)\n",
    "scaler = StandardScaler() #fit_transform (not recommended - technically feasible)\n",
    "scaler.fit(X)             #particularily true when working on supervised learning \n",
    "\n",
    "#write fit & transform separately \n",
    "X_scaled = scaler.transform(X)\n",
    "\n",
    "#before and after transfer (scaling)\n",
    "np.mean(X), np.mean(X_scaled)\n",
    "np.var(X), np.var(X_scaled)\n",
    "X_scaled, X\n",
    "\n",
    "# fit_transform is technically feasible, but not recommended to use\n",
    "                            # Particularly in supervised learning problems."
   ]
  },
  {
   "cell_type": "code",
   "execution_count": 60,
   "id": "2987716e",
   "metadata": {},
   "outputs": [
    {
     "name": "stdout",
     "output_type": "stream",
     "text": [
      "[0 1 1 0 1 1 0 1 0 1 0 1 1 1 0 0 0 1 0 0 1 1 0 1 0 1 1 1 1 0 0 0 1 1 0 1 1\n",
      " 0 0 1 1 0 0 1 1 0 0 0 1 1 0 1 1 0 1 0 0 1 0 0 1 0 1 0 1 0 0 1 0 0 1 0 1 1\n",
      " 1 0 1 0 0 1 1 0 1 1 1 0 0 0 1 1 0 0 1 0 1 1 1 1 0 1 1 1 0 0 0 1 0 0 1 0 0\n",
      " 0 0 0 0 1 0 1 1 0 0 0 1 0 1 0 0 1 1 1 0 0 0 1 1 1 1 0 1 0 1 1 0 0 0 0 1 1\n",
      " 0 1 1 1 0 0 1 0 1 1 0 0 1 1 0 1 1 1 0 1 1 1 0 0 0 0 1 1 1 0 0 0 1 0 1 1 1\n",
      " 0 0 1 0 0 0 0 0 0 1 0 1 1 0 1]\n"
     ]
    },
    {
     "data": {
      "text/plain": [
       "1"
      ]
     },
     "execution_count": 60,
     "metadata": {},
     "output_type": "execute_result"
    }
   ],
   "source": [
    "# S2: Apply DBSCAN\n",
    "from sklearn.cluster import DBSCAN\n",
    "\n",
    "#both esp & min_samples are default\n",
    "dbscan = DBSCAN(eps=0.5, min_samples=5)\n",
    "#dbscan = DBSCAN(eps=0.1, min_samples=5) --> 0.1 more clusters & more restrictive\n",
    "#-1 is not a cluster label, -1 is noise / outliers ****\n",
    "#find max cluster label \n",
    "\n",
    "clusters = dbscan.fit_predict(X_scaled)\n",
    "\n",
    "print(clusters) #2 clusters\n",
    "print(\"number of unique clusters: \", np.max(clusters) #7 clusters with 0.1\n"
   ]
  },
  {
   "cell_type": "code",
   "execution_count": 61,
   "id": "68744243",
   "metadata": {},
   "outputs": [
    {
     "data": {
      "text/plain": [
       "<matplotlib.collections.PathCollection at 0x7fd58807fd00>"
      ]
     },
     "execution_count": 61,
     "metadata": {},
     "output_type": "execute_result"
    },
    {
     "data": {
      "image/png": "[encoded data removed]",
      "text/plain": [
       "<Figure size 640x480 with 1 Axes>"
      ]
     },
     "metadata": {},
     "output_type": "display_data"
    }
   ],
   "source": [
    "# S3: plot the cluster assignments\n",
    "plt.scatter(X_scaled[:, 0], X_scaled[:, 1], c=clusters)\n",
    "\n",
    "#lots of clusters with 0.1 --> mis-specified epsilon "
   ]
  },
  {
   "cell_type": "markdown",
   "id": "57ec72bc",
   "metadata": {},
   "source": [
    "## 2. PCA\n",
    "PCA is a dimension reduction tool. It transfers original $X$ to a set of $X_{new}$. Based on our specific needs, only a subset of $X_{new}$ would be kept, and the dimension would be reduced accordingly.\n",
    "\n",
    "PCA can be realized using syntax:\n",
    "**<center>sklearn.decomposition.PCA</center>**\n",
    "\n",
    "- **n_components:** can be integer or float. \n",
    "    - If integer, then n_components is the number of components to keep; If an integer is specified, it represents the number of principal components to keep.\n",
    "    - If float, then n_components is the percentage of variance explained. In this case, PCA will select the smallest number of components that explain the specified proportion of the variance.\n",
    "- copy: whether to keep the original dataset. Default is True (recommended setting). If False, then the new variables will overwrite the original variable.\n",
    "    - This parameter determines whether to keep a copy of the original dataset. It is usually recommended to keep the original data unchanged (default is True) as PCA modifies the input data\n",
    "- whiten: bool. Default is False. If True, then new variables have variance = 1.\n",
    "    - When set to True, the transformed data has a unit variance, which means that each component's variance will be 1.\n",
    "- random_state: technical reasons\n",
    "\n",
    "We can use **.fit_transform(X)** to both train the model, and produce the new variables (with dimension reduction) directly. To transfer the new data back to the original data, use **.inverse_transform(Xnew)**.\n",
    "\n",
    "### PCA Attributes\n",
    "After applying .fit_transform(), we can obtain the corresponding attributes:\n",
    "- **.components_:** It shows how the new variables are generated. Recall that the new variable is a linear transfer or the original variables, the output of .components_ is the coefficients of the linear transfer. contains the principal axes in feature space. These components represent the directions of maximum variance in the original data.\n",
    "- **.explained_variance_ratio_:** It shows the percentage of variance explained by each new variable. This attribute shows the percentage of variance explained by each of the selected components. It helps in understanding how much information is retained by each component.\n",
    "\n",
    "\n",
    "### Practice\n",
    "Suppose we have a dataset with three dimensions. The data points follow a ring-shape (on the x, y plane), but a bit tilted (on the z axis). We would like to reduce the dimension to 2 using PCA.\n",
    "- After the transfer, what is the proportion of variance in the original dataset included?\n",
    "- Suppose I want to keep more than 95% of the information, is the transfer proper?\n",
    "- Can you write down the relationship between the new Xs and the original Xs?"
   ]
  },
  {
   "cell_type": "code",
   "execution_count": 62,
   "id": "18bf6e02",
   "metadata": {},
   "outputs": [
    {
     "data": {
      "image/png": "[encoded data removed]",
      "text/plain": [
       "<Figure size 640x480 with 1 Axes>"
      ]
     },
     "metadata": {},
     "output_type": "display_data"
    }
   ],
   "source": [
    "# S0 Data Generation - simulated data \n",
    "np.random.seed(4)\n",
    "m = 60\n",
    "w1, w2 = 0.1, 0.3\n",
    "noise = 0.1\n",
    "\n",
    "## Prep for 3D data generation\n",
    "X = np.empty((m, 3))\n",
    "\n",
    "## The \"Ring\"\n",
    "angles = np.random.rand(m) * 3 * np.pi / 2 - 0.5\n",
    "X[:, 0] = np.cos(angles) + np.sin(angles)/2 + noise * np.random.randn(m) / 2\n",
    "X[:, 1] = np.sin(angles) * 0.7 + noise * np.random.randn(m) / 2\n",
    "\n",
    "## The \"Tilt\"\n",
    "X[:, 2] = X[:, 0] * w1 + X[:, 1] * w2 + noise * np.random.randn(m)\n",
    "\n",
    "# Visualize the data\n",
    "#tilted ring, lift one side a little bit\n",
    "from mpl_toolkits.mplot3d import Axes3D\n",
    "fig = plt.figure()\n",
    "ax = fig.add_subplot(111, projection='3d')\n",
    "ax.scatter(X[:, 0], X[:, 1], X[:, 2])\n",
    "plt.show()"
   ]
  },
  {
   "cell_type": "code",
   "execution_count": 65,
   "id": "2a6e5afb",
   "metadata": {
    "scrolled": true
   },
   "outputs": [
    {
     "name": "stdout",
     "output_type": "stream",
     "text": [
      "Before transfer, the dimension is: 3 \n",
      " After transfer, the dimension is: 2\n",
      "[[ 1.43052231  1.14420516]\n",
      " [-0.0906973  -0.95937567]\n",
      " [ 1.3323881   0.9815019 ]\n",
      " [ 1.0122842  -0.83944409]\n",
      " [ 0.82764388 -0.69096907]\n",
      " [-1.25180887  0.54955798]\n",
      " [ 1.44256537  1.27241112]\n",
      " [-0.50931826  1.84238108]\n",
      " [-1.23955886 -0.12152024]\n",
      " [-0.75012385 -0.77929062]\n",
      " [ 1.18412978 -0.30583707]\n",
      " [-1.2007511   0.8483179 ]\n",
      " [ 1.28949241  0.39647292]\n",
      " [ 1.31536685  0.99226925]\n",
      " [-1.13540589  1.07224594]\n",
      " [ 0.31176013 -0.93540911]\n",
      " [-0.51715963  1.8959882 ]\n",
      " [-0.90347868 -0.73086809]\n",
      " [-0.75859799  1.78209033]\n",
      " [ 1.48126236  1.02462931]\n",
      " [-0.7511274  -0.88958759]\n",
      " [ 1.42127564  1.52434839]\n",
      " [ 1.17937868 -0.23738545]\n",
      " [ 1.42875838  0.42731911]\n",
      " [-1.24443808  1.05106922]\n",
      " [-0.80829996  1.76635559]\n",
      " [ 0.20161565 -1.18613059]\n",
      " [-1.16723598  0.91790273]\n",
      " [ 1.07175566 -0.62104596]\n",
      " [-0.91808211 -0.9196238 ]\n",
      " [-0.22884548 -0.95598503]\n",
      " [ 1.52138487  1.15367153]\n",
      " [-0.15415547 -1.0134039 ]\n",
      " [-0.93026042  1.49924101]\n",
      " [-1.02943452  0.86681384]\n",
      " [-0.07598651 -1.15558802]\n",
      " [-0.15797549 -1.1398346 ]\n",
      " [ 0.42344123 -0.74310446]\n",
      " [-0.82886946 -0.63757932]\n",
      " [ 0.59286379 -1.26807367]\n",
      " [-0.97647202 -0.82175567]\n",
      " [ 0.37636066 -1.28795347]\n",
      " [ 1.1274692  -0.49890915]\n",
      " [-1.18474079  0.88933691]\n",
      " [-0.99155745 -0.4912947 ]\n",
      " [-0.34524233 -1.19416172]\n",
      " [ 0.7218845  -0.89354244]\n",
      " [-1.2794174   0.31625387]\n",
      " [-0.04348361 -1.33374805]\n",
      " [ 0.46912229 -0.86315   ]\n",
      " [ 1.50096507  0.52888027]\n",
      " [-1.05380539 -0.50127   ]\n",
      " [ 0.45651907 -0.92896116]\n",
      " [-1.26364298  0.65655662]\n",
      " [-0.36175912 -0.7558014 ]\n",
      " [-1.16372869  0.94317329]\n",
      " [ 1.40719997  0.95331325]\n",
      " [-0.75684595 -0.87750828]\n",
      " [ 1.31937695 -0.09922629]\n",
      " [-0.77447993 -0.61896803]]\n"
     ]
    }
   ],
   "source": [
    "# S1: Apply PCA\n",
    "#reduce dimensions to 2\n",
    "from sklearn.decomposition import PCA\n",
    "\n",
    "pca2 = PCA(n_components = 2, random_state = 0, whiten = True)\n",
    "\n",
    "X2D = pca2.fit_transform(X) #throw in original X\n",
    "\n",
    "print(\"Before transfer, the dimension is:\", X.shape[1], \"\\n\",\n",
    "      \"After transfer, the dimension is:\", X2D.shape[1])\n",
    "\n",
    "print(X2D)"
   ]
  },
  {
   "cell_type": "code",
   "execution_count": 66,
   "id": "50c6bf83",
   "metadata": {},
   "outputs": [
    {
     "data": {
      "text/plain": [
       "array([0.84248607, 0.14631839])"
      ]
     },
     "execution_count": 66,
     "metadata": {},
     "output_type": "execute_result"
    }
   ],
   "source": [
    "# S2: Finding the \"explained variance\", or the information kept after transfer\n",
    "\n",
    "#how much variance is explained for each component after transfer\n",
    "pca2.explained_variance_ratio_ #2 values, 2 components, order matters, earlier it appears, smaller component numberm the more important it is\n",
    "#(one for each component)\n",
    "#sequence matters "
   ]
  },
  {
   "cell_type": "code",
   "execution_count": 72,
   "id": "6f01cb02",
   "metadata": {},
   "outputs": [
    {
     "name": "stdout",
     "output_type": "stream",
     "text": [
      "0.988804464429311\n",
      "0.011195535570688975\n"
     ]
    },
    {
     "data": {
      "text/plain": [
       "0.988804464429311"
      ]
     },
     "execution_count": 72,
     "metadata": {},
     "output_type": "execute_result"
    }
   ],
   "source": [
    "#EXAM\n",
    "##suppose instead of keeping dimension to 2, keep atleast 95% of total information, without running additional code, or running the model again\n",
    "#how many components should I keep? \n",
    "#0.82+0.14 = 0.98 which is greater than 0.95\n",
    "#keep 1 dimension, PC1 has 84.2% of the information, need additional dimensions\n",
    "#check PC1 + PC2\n",
    "#check info with 2 components \n",
    "print(np.sum(pca2.explained_variance_ratio_)) #is greater than 95% which means it satisfied the requirements\n",
    "\n",
    "#how much information is lost\n",
    "print(1 - np.sum(pca2.explained_variance_ratio_))\n",
    "\n",
    "#shows importance of components\n",
    "\n",
    "## Suppose want to keep at least 95% of total info. W/o running model again, how many components \n",
    "## should I keep? \n",
    "\n",
    "## keep 1 dimension, PC1 has 84.2% of info. need additional dimensions\n",
    "## check info with 2 components:\n",
    "np.sum(pca2.explained_variance_ratio_)\n",
    "\n",
    "## 98.88>95. Satisfies the requirement => keep 2 dimensions"
   ]
  },
  {
   "cell_type": "markdown",
   "id": "da029c1f",
   "metadata": {},
   "source": [
    "- ach row corresponds to a principal component (PC).\n",
    "- Each column corresponds to the original features or dimensions of the dataset.\n",
    "- The values in the array are the coefficients (weights) of the linear combination of the original features that make up each principal component.\n",
    "- These coefficients represent the directions in the original feature space along which the data varies the most (for PC1) and the second most (for PC2)."
   ]
  },
  {
   "cell_type": "code",
   "execution_count": 67,
   "id": "9ad1b8a6",
   "metadata": {},
   "outputs": [
    {
     "data": {
      "text/plain": [
       "array([[-0.93636116, -0.29854881, -0.18465208],\n",
       "       [ 0.34027485, -0.90119108, -0.2684542 ]])"
      ]
     },
     "execution_count": 67,
     "metadata": {},
     "output_type": "execute_result"
    }
   ],
   "source": [
    "# S3: Finding the transfer\n",
    "#components are nothing but the linear transfer of your original variables & stores your coefficients \n",
    "#still find alphas and betas --> stored in components \n",
    "pca2.components_ # 3 columns, input X has dimension  = 3\n",
    "# 2 rows, keeping 2 PCs\n",
    "#3 columns, input x has dimension of 3\n",
    "#2 rows- keeping 2 components  "
   ]
  },
  {
   "cell_type": "code",
   "execution_count": 55,
   "id": "63cc90ef",
   "metadata": {},
   "outputs": [],
   "source": [
    "# Suppose the original variables are X1, X2, X3, correspondingly\n",
    "## Then: \n",
    "## X1_new = -0.936X1 -0.299X2 - 0.185X3\n",
    "## X2_new = 0.340X1 - -0.901X2 - 0.268X3"
   ]
  },
  {
   "cell_type": "markdown",
   "id": "6f3ad40a",
   "metadata": {},
   "source": [
    "### Nearest Neighbor Classification with PCA\n",
    "Using KNN as an example, let's see how PCA would influence the classifiers' performance. \n",
    "\n",
    "For simplification, we do not seek the best k, instead, let k=1. We will start by a classifier without PCA."
   ]
  },
  {
   "cell_type": "code",
   "execution_count": 78,
   "id": "0d95e831",
   "metadata": {},
   "outputs": [],
   "source": [
    "# Load the Data\n",
    "## For the first time, the code may take several minutes to run\n",
    "#gray scale no RGB\n",
    "from sklearn.datasets import fetch_lfw_people\n",
    "people = fetch_lfw_people(min_faces_per_person=20, resize=0.7)\n",
    "#min faces per person- specifying people with atleast 20 pictures\n",
    "#resize- original dimensionality is too high, bring down the dimension by a little bit "
   ]
  },
  {
   "cell_type": "code",
   "execution_count": 79,
   "id": "f5c2cdbc",
   "metadata": {},
   "outputs": [
    {
     "data": {
      "text/plain": [
       "array([ 39,  35,  21,  36,  20,  77,  42,  24,  29,  21, 236,  31, 121,\n",
       "        22, 530, 109,  44,  26,  30,  22,  39,  71,  20,  28,  52,  55,\n",
       "        21,  42,  21,  24,  20,  53,  31,  23,  28,  60,  32,  41,  22,\n",
       "        41,  48,  29,  33,  20,  22,  37,  20,  22,  30,  27,  32,  26,\n",
       "        23,  52,  33,  23,  25,  33, 144,  32,  49,  24])"
      ]
     },
     "execution_count": 79,
     "metadata": {},
     "output_type": "execute_result"
    }
   ],
   "source": [
    "counts=np.bincount(people.target)\n",
    "counts\n",
    "#is in accordance to original requirement\n",
    "#number of picture per a person "
   ]
  },
  {
   "cell_type": "code",
   "execution_count": 80,
   "id": "579a49be",
   "metadata": {},
   "outputs": [],
   "source": [
    "# Data for Analysis\n",
    "X = people.data\n",
    "y = people.target\n",
    "\n",
    "from sklearn.model_selection import train_test_split\n",
    "\n",
    "# split the data in training and test set\n",
    "X_train, X_test, y_train, y_test = train_test_split(X, y, stratify=y, random_state=0)\n",
    "\n",
    "#stratify: guarentee proportion of y labels (ys in y train and y test) is consistent with general y, if a person has 20% of pictures, then training should also have"
   ]
  },
  {
   "cell_type": "code",
   "execution_count": 81,
   "id": "035a8f34",
   "metadata": {},
   "outputs": [
    {
     "name": "stdout",
     "output_type": "stream",
     "text": [
      "Test set score of 1-nn is: 0.3253968253968254\n"
     ]
    }
   ],
   "source": [
    "from sklearn.neighbors import KNeighborsClassifier\n",
    "#more columns than number of rows??\n",
    "# build a KNeighborsClassifier with using one neighbor:\n",
    "knn = KNeighborsClassifier(n_neighbors=1)\n",
    "knn.fit(X_train, y_train)\n",
    "\n",
    "#without PCA, Naive Model\n",
    "print(\"Test set score of 1-nn is:\", knn.score(X_test, y_test))"
   ]
  },
  {
   "cell_type": "markdown",
   "id": "e76074eb",
   "metadata": {},
   "source": [
    "### Scaling Data (II)\n",
    "\n",
    "We may consider scaling the data to seek performance improvement. Then the questions would be: which scaler to use? Standard or minmax? Does my data contain outliers? Is it meaningful to keep a certain range of my transferred variable?\n",
    "\n",
    "For minmax scaler, use:\n",
    "\n",
    "**<center>sklearn.preprocessing.MinMaxScaler</center>**\n",
    "\n",
    "Use .fit to train and use .transform to get the scaled the data."
   ]
  },
  {
   "cell_type": "code",
   "execution_count": 82,
   "id": "74664c8c",
   "metadata": {},
   "outputs": [],
   "source": [
    "from sklearn.preprocessing import MinMaxScaler\n",
    "minmax = MinMaxScaler(feature_range=(0,1)) #range [0,1] which is default\n",
    "#fall in a sharp region of 0 to 1, after scaling, finds between 0 and 1 which is the default\n",
    "#equivalent to MinMaxScalar()\n",
    "\n",
    "#writing fit & transform separately....why? \n",
    "# Train our scaler\n",
    "minmax.fit(X_train) #min and max for X_train \n",
    "\n",
    "#using same minmax, scaling using x_train for both\n",
    "\n",
    "# Get scaled variables\n",
    "X_train_scaled = minmax.transform(X_train)\n",
    "X_test_scaled = minmax.transform(X_test)\n",
    "# X_train_scaled\n",
    "\n",
    "#WRONG\n",
    "#minmax.fit_transform(X_train) #scaling using minmax from x_train\n",
    "#minmax.fit_transform(X_test) #scaling using minmax from x_test which is wrong \n",
    "\n",
    "# Below is Wrong\n",
    "# minmax.fit_transform(X_train) # scaling using min and max from X_train\n",
    "# minmax.fit_transform(X_test)  # scaling using min and max from X_test"
   ]
  },
  {
   "cell_type": "code",
   "execution_count": 83,
   "id": "76a4ec5b",
   "metadata": {},
   "outputs": [],
   "source": [
    "# We can also do the scaling manually. The result might differ slightly\n",
    "X_manual_train = X_train/255\n",
    "# X_manual_train"
   ]
  },
  {
   "cell_type": "code",
   "execution_count": 84,
   "id": "cdb66f56",
   "metadata": {},
   "outputs": [
    {
     "name": "stdout",
     "output_type": "stream",
     "text": [
      "Test set score of 1-nn is: 0.33994708994708994\n"
     ]
    }
   ],
   "source": [
    "from sklearn.neighbors import KNeighborsClassifier\n",
    "knn = KNeighborsClassifier(n_neighbors=1)\n",
    "knn.fit(X_train_scaled, y_train) #after scaling, training on scaled axis\n",
    "print(\"Test set score of 1-nn is:\", knn.score(X_test_scaled, y_test))\n",
    "#improved 32 to 34, marginal improvement"
   ]
  },
  {
   "cell_type": "markdown",
   "id": "ad06971c",
   "metadata": {},
   "source": [
    "### PCA\n",
    "Now let's try PCA. We would like to reduce the dimension to 100. Given the training sample size be around 2000, we consider this dimension proper. Given the 100 new variables, what would be the performance of the knn classifier?"
   ]
  },
  {
   "cell_type": "code",
   "execution_count": 89,
   "id": "d7c74c25",
   "metadata": {
    "scrolled": true
   },
   "outputs": [
    {
     "name": "stdout",
     "output_type": "stream",
     "text": [
      "X_train_pca.shape: (2267, 100)\n"
     ]
    }
   ],
   "source": [
    "from sklearn.decomposition import PCA\n",
    "pca = PCA(n_components=100,  whiten=True, random_state=0) #bring dimension down 100\n",
    "#whiten to make sure scale has a variance of 1\n",
    "\n",
    "pca.fit(X_train)\n",
    "\n",
    "X_train_pca = pca.transform(X_train)\n",
    "X_test_pca = pca.transform(X_test)\n",
    "\n",
    "print(\"X_train_pca.shape:\", X_train_pca.shape)\n",
    "\n",
    "#375: This is the number of samples or data points in your training dataset. \n",
    "#Each row in the transformed data corresponds to a sample from the original dataset.\n",
    "\n",
    "#2: This is the number of principal components you chose to retain after performing PCA. The transformed data now has only two features (or dimensions) instead of the original number of features."
   ]
  },
  {
   "cell_type": "code",
   "execution_count": 90,
   "id": "1eea3149",
   "metadata": {},
   "outputs": [
    {
     "name": "stdout",
     "output_type": "stream",
     "text": [
      "Test set accuracy:  0.45105820105820105\n"
     ]
    }
   ],
   "source": [
    "knn = KNeighborsClassifier(n_neighbors=1)\n",
    "knn.fit(X_train_pca, y_train)\n",
    "print(\"Test set accuracy: \", knn.score(X_test_pca, y_test))\n",
    "#performance is still low, but improved from 34% to 45% \n",
    "#throw away 5400 columns? "
   ]
  },
  {
   "cell_type": "code",
   "execution_count": 91,
   "id": "8c3076ac",
   "metadata": {},
   "outputs": [
    {
     "name": "stdout",
     "output_type": "stream",
     "text": [
      "0.89834344\n",
      "[[-0.00476362 -0.00513477 -0.00544772 ... -0.00543634 -0.00532049\n",
      "  -0.00492963]\n",
      " [ 0.01327512  0.01306853  0.01297683 ... -0.02262183 -0.02181469\n",
      "  -0.02068427]\n",
      " [ 0.02930908  0.02965276  0.03030199 ...  0.01828211  0.017093\n",
      "   0.01590577]\n",
      " ...\n",
      " [-0.02024545 -0.02206665 -0.02153568 ... -0.02762445 -0.02206719\n",
      "  -0.01464693]\n",
      " [ 0.0344951   0.03083446  0.02465328 ... -0.00295632 -0.00553183\n",
      "  -0.004524  ]\n",
      " [-0.01149235 -0.00711852 -0.00114776 ... -0.01889203 -0.02221774\n",
      "  -0.0268353 ]]\n"
     ]
    }
   ],
   "source": [
    "print(np.sum(pca.explained_variance_ratio_))\n",
    "#100 values because 100 components\n",
    "#kept 90% of data\n",
    "\n",
    "print(pca.components_) \n",
    "#100 records, 5500 columns to get transfer \n",
    "#for each row, the 5500 values are the grayscale for each grids \n",
    "#instead of considering it as a matrix, consider it: for each row, the 5500 values are the grrayscales for each grid \n",
    "#each value is telling you how you are going to color your little grids \n",
    "#each component has a meaning "
   ]
  },
  {
   "cell_type": "code",
   "execution_count": null,
   "id": "5915dc8c",
   "metadata": {},
   "outputs": [],
   "source": []
  }
 ],
 "metadata": {
  "kernelspec": {
   "display_name": "Python 3 (ipykernel)",
   "language": "python",
   "name": "python3"
  },
  "language_info": {
   "codemirror_mode": {
    "name": "ipython",
    "version": 3
   },
   "file_extension": ".py",
   "mimetype": "text/x-python",
   "name": "python",
   "nbconvert_exporter": "python",
   "pygments_lexer": "ipython3",
   "version": "3.9.13"
  }
 },
 "nbformat": 4,
 "nbformat_minor": 5
}
