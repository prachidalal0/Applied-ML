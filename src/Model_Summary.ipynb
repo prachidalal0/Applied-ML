{
 "cells": [
  {
   "cell_type": "markdown",
   "metadata": {},
   "source": [
    "# Exam 1\n",
    "## Applied Machine Learning (BUAN 6341)\n"
   ]
  },
  {
   "cell_type": "markdown",
   "metadata": {},
   "source": [
    "Deliverables:\n",
    "\n",
    "- Write down your answers to MCQ in the answer sheet.\n",
    "- Write down your codes, printed results, and corresponding discussions in the cells below the problems.\n",
    "    - You will find several cells under each problem. You can use one, some, or all cells based on your preference.\n",
    "    - If you need more cells to check temporary results, add a cell using the \"+\" button or shortcut \"esc + b\". You do NOT need to remove these cells upon submission.\n",
    "- Include TWO files (.ipynb, and .docx) in a zipped folder and submit to eLearning."
   ]
  },
  {
   "cell_type": "code",
   "execution_count": 91,
   "metadata": {},
   "outputs": [],
   "source": [
    "NAME = \"Prachi Dalal\""
   ]
  },
  {
   "cell_type": "code",
   "execution_count": 92,
   "metadata": {},
   "outputs": [],
   "source": [
    "%matplotlib inline \n",
    "import numpy as np\n",
    "import pandas as pd\n",
    "import sklearn\n",
    "import matplotlib.pyplot as plt\n",
    "import seaborn as sns\n",
    "\n",
    "import warnings\n",
    "warnings.filterwarnings('ignore')"
   ]
  },
  {
   "cell_type": "markdown",
   "metadata": {},
   "source": [
    "### Section 2.1. Regression Models\n",
    "\n",
    "In this section, we are going to use the same bike-sharing dataset in Assignment 1. Below is a brief description of the dataset (also same as Assignment 1).\n",
    "\n",
    "##### The Dataset\n",
    "\n",
    "We will be using the daily version of the Capital Bikeshare System dataset from the UCI Machine Learning Repository. This data set contains information about the daily count of bike rental checkouts in Washington, D.C.’s bikeshare program between 2011 and 2012. It also includes information about the weather and seasonal/temporal features for that day (like whether it was a weekday).\n",
    "- **day:** Day of the record (relative to day 1:2011-01-01)\n",
    "- **season:** Season (1:spring, 2:summer, 3:fall, 4:winter)\n",
    "- **weekday:** Day of the week (0=Sunday, 6=Saturday)\n",
    "- **workingday:** If day is neither weekend nor holiday is 1, otherwise is 0.\n",
    "- **weathersit:**<br>\n",
    "    - 1: Clear, Few clouds, Partly cloudy, Partly cloudy\n",
    "    - 2: Mist + Cloudy, Mist + Broken clouds, Mist + Few clouds, Mist\n",
    "    - 3: Light Snow, Light Rain + Thunderstorm + Scattered clouds, Light Rain + Scattered\n",
    "clouds\n",
    "- **temp:** Normalized temperature in Celcius\n",
    "- **windspeed:** Normalized wind speed\n",
    "- **casual:** Count of checkouts by casual/non-registered users\n",
    "- **registered:** Count of checkouts by registered users\n",
    "- **cnt:** Total checkouts\n",
    "\n",
    "#### Data Prep\n",
    "\n",
    "Run the cells below to load the split the data. We will use features ('weekday', 'season','workingday', 'temp', 'windspeed', 'weathersit') to predict the checkout counts. We are interested in predicting the total checkout counts (i.e., 'cnt').\n"
   ]
  },
  {
   "cell_type": "code",
   "execution_count": 93,
   "metadata": {},
   "outputs": [
    {
     "name": "stdout",
     "output_type": "stream",
     "text": [
      "['day' 'season' 'weekday' 'workingday' 'weathersit' 'temp' 'windspeed'\n",
      " 'casual' 'registered' 'cnt']\n"
     ]
    },
    {
     "data": {
      "text/html": [
       "<div>\n",
       "<style scoped>\n",
       "    .dataframe tbody tr th:only-of-type {\n",
       "        vertical-align: middle;\n",
       "    }\n",
       "\n",
       "    .dataframe tbody tr th {\n",
       "        vertical-align: top;\n",
       "    }\n",
       "\n",
       "    .dataframe thead th {\n",
       "        text-align: right;\n",
       "    }\n",
       "</style>\n",
       "<table border=\"1\" class=\"dataframe\">\n",
       "  <thead>\n",
       "    <tr style=\"text-align: right;\">\n",
       "      <th></th>\n",
       "      <th>day</th>\n",
       "      <th>season</th>\n",
       "      <th>weekday</th>\n",
       "      <th>workingday</th>\n",
       "      <th>weathersit</th>\n",
       "      <th>temp</th>\n",
       "      <th>windspeed</th>\n",
       "      <th>casual</th>\n",
       "      <th>registered</th>\n",
       "      <th>cnt</th>\n",
       "    </tr>\n",
       "  </thead>\n",
       "  <tbody>\n",
       "    <tr>\n",
       "      <th>0</th>\n",
       "      <td>1</td>\n",
       "      <td>1</td>\n",
       "      <td>6</td>\n",
       "      <td>0</td>\n",
       "      <td>2</td>\n",
       "      <td>0.344167</td>\n",
       "      <td>0.160446</td>\n",
       "      <td>331</td>\n",
       "      <td>654</td>\n",
       "      <td>985</td>\n",
       "    </tr>\n",
       "    <tr>\n",
       "      <th>1</th>\n",
       "      <td>2</td>\n",
       "      <td>1</td>\n",
       "      <td>0</td>\n",
       "      <td>0</td>\n",
       "      <td>2</td>\n",
       "      <td>0.363478</td>\n",
       "      <td>0.248539</td>\n",
       "      <td>131</td>\n",
       "      <td>670</td>\n",
       "      <td>801</td>\n",
       "    </tr>\n",
       "    <tr>\n",
       "      <th>2</th>\n",
       "      <td>3</td>\n",
       "      <td>1</td>\n",
       "      <td>1</td>\n",
       "      <td>1</td>\n",
       "      <td>1</td>\n",
       "      <td>0.196364</td>\n",
       "      <td>0.248309</td>\n",
       "      <td>120</td>\n",
       "      <td>1229</td>\n",
       "      <td>1349</td>\n",
       "    </tr>\n",
       "    <tr>\n",
       "      <th>3</th>\n",
       "      <td>4</td>\n",
       "      <td>1</td>\n",
       "      <td>2</td>\n",
       "      <td>1</td>\n",
       "      <td>1</td>\n",
       "      <td>0.200000</td>\n",
       "      <td>0.160296</td>\n",
       "      <td>108</td>\n",
       "      <td>1454</td>\n",
       "      <td>1562</td>\n",
       "    </tr>\n",
       "    <tr>\n",
       "      <th>4</th>\n",
       "      <td>5</td>\n",
       "      <td>1</td>\n",
       "      <td>3</td>\n",
       "      <td>1</td>\n",
       "      <td>1</td>\n",
       "      <td>0.226957</td>\n",
       "      <td>0.186900</td>\n",
       "      <td>82</td>\n",
       "      <td>1518</td>\n",
       "      <td>1600</td>\n",
       "    </tr>\n",
       "  </tbody>\n",
       "</table>\n",
       "</div>"
      ],
      "text/plain": [
       "   day  season  weekday  workingday  weathersit      temp  windspeed  casual  \\\n",
       "0    1       1        6           0           2  0.344167   0.160446     331   \n",
       "1    2       1        0           0           2  0.363478   0.248539     131   \n",
       "2    3       1        1           1           1  0.196364   0.248309     120   \n",
       "3    4       1        2           1           1  0.200000   0.160296     108   \n",
       "4    5       1        3           1           1  0.226957   0.186900      82   \n",
       "\n",
       "   registered   cnt  \n",
       "0         654   985  \n",
       "1         670   801  \n",
       "2        1229  1349  \n",
       "3        1454  1562  \n",
       "4        1518  1600  "
      ]
     },
     "execution_count": 93,
     "metadata": {},
     "output_type": "execute_result"
    }
   ],
   "source": [
    "import pandas as pd\n",
    "day = pd.read_csv(\"day.csv\")\n",
    "print(day.columns.values) # to find variable names\n",
    "day.head()"
   ]
  },
  {
   "cell_type": "code",
   "execution_count": 94,
   "metadata": {},
   "outputs": [],
   "source": [
    "var = ['weekday', 'season','workingday', 'temp', 'windspeed', 'weathersit']\n",
    "X = day[var]\n",
    "y = day['cnt']\n",
    "\n",
    "from sklearn.model_selection import train_test_split\n",
    "X_train, X_test, y_train, y_test = train_test_split(X, y, test_size=0.25, random_state=42)"
   ]
  },
  {
   "cell_type": "markdown",
   "metadata": {},
   "source": [
    "**Problem 1: Linear Regression (10 pts)**\n",
    "\n",
    "Train a Linear regression model using the training set. \n",
    "\n",
    "- We would like to use MSE as the performance measure. What is the MSE for the training and the test set?  Which value should be reported to evaluate the model's performance? Explain briefly.\n",
    "- Report ONLY the coefficients for variable \"temp\" and \"weathersit\". Match the coefficient with the variable properly. How would you interpret the coefficients for the two variables? *(Note: You need only discuss the positive/negative relationship between the X and Y. You do not need to interpret the explicit magnitude.)*\n",
    "    - Do you think the results make sense? Briefly explain.\n",
    "    - Do you think we are coding the two variables (i.e., temp and weathersit) properly? Which one(s) do you think is improper? Do you have suggestions for improvement? (Discussion Only. Code not required).\n"
   ]
  },
  {
   "cell_type": "code",
   "execution_count": 95,
   "metadata": {},
   "outputs": [],
   "source": [
    "#import \n",
    "from sklearn.linear_model import LinearRegression\n",
    "model = LinearRegression()"
   ]
  },
  {
   "cell_type": "code",
   "execution_count": 96,
   "metadata": {},
   "outputs": [
    {
     "data": {
      "text/plain": [
       "LinearRegression()"
      ]
     },
     "execution_count": 96,
     "metadata": {},
     "output_type": "execute_result"
    }
   ],
   "source": [
    "#train model\n",
    "model.fit(X_train, y_train)"
   ]
  },
  {
   "cell_type": "code",
   "execution_count": 97,
   "metadata": {},
   "outputs": [],
   "source": [
    "#(1) y_pred_train\n",
    "y_pred_train = model.predict(X_train)\n",
    "\n",
    "#(2) y_pred_test\n",
    "y_pred_test = model.predict(X_test)"
   ]
  },
  {
   "cell_type": "code",
   "execution_count": 99,
   "metadata": {},
   "outputs": [
    {
     "name": "stdout",
     "output_type": "stream",
     "text": [
      "MSE of training: 1852849.4373569074\n",
      "MSE of test: 1816812.3742340647\n"
     ]
    }
   ],
   "source": [
    "#performance evaluation \n",
    "#\"What is the MSE for the training and the test set?\"\n",
    "#test\n",
    "etest = y_test - y_pred_test # error\n",
    "MSE_test = np.mean(etest**2)\n",
    "\n",
    "#training \n",
    "etrain = y_train - y_pred_train \n",
    "MSE_train = np.mean(etrain**2)\n",
    "print(\"MSE of training:\", MSE_train)\n",
    "print(\"MSE of test:\", MSE_test)\n",
    "\n",
    "#The MSE value for the test set should be reported because it is an unbiased measure since it was not used during parameter\n",
    "#estimation / training "
   ]
  },
  {
   "cell_type": "code",
   "execution_count": 100,
   "metadata": {},
   "outputs": [
    {
     "name": "stdout",
     "output_type": "stream",
     "text": [
      "coefficients:\n",
      "temperature: 5245.485671894189\n",
      "weathersit -800.6094377679341\n"
     ]
    }
   ],
   "source": [
    "#Report ONLY the coefficients for variable \"temp\" and \"weathersit\". Match the coefficient with the variable properly. \n",
    "np.set_printoptions(precision=4, suppress=True)\n",
    "var = ['weekday', 'season','workingday', 'temp', 'windspeed', 'weathersit']\n",
    "print(\"coefficients:\")\n",
    "print(\"temperature:\", model.coef_[3])\n",
    "print(\"weathersit\", model.coef_[5])\n",
    "\n",
    "#How would you interpret the coefficients for the two variables? (Note: You need only discuss the positive/negative \n",
    "#relationship between the X and Y. You do not need to interpret the explicit magnitude.)\n",
    "#the temperature variable has a positive relationship with the dependent variable y. As temperature increases, the number of bike rentals increases. \n",
    "#the weathersit variable has a negative relationship with the dependent variable y. As weathersit increases, the number of bike rentals descreases. \n",
    "\n",
    "#Do you think the results make sense? Briefly explain.\n",
    "#Yes these results make sense because in general, people want to bike when the temperature is hotter. It also makes sense that as weathersit increases, bike rentals descrease because the highest category of weathersit is bad weather. \n",
    "\n",
    "#Do you think we are coding the two variables (i.e., temp and weathersit) properly? Which one(s) do you think is \n",
    "#improper? Do you have suggestions for improvement? \n",
    "#it is a possibility that we are not coding weathersit properly. Since it is a categorical variable (1,2,3), \n",
    "#we may need to normalize the data to ensure all the variables are on the same scale. \n",
    "#We can use min/max scalar to ensure all the variables are on the same scale and the model is measuring them equally. \n"
   ]
  },
  {
   "cell_type": "markdown",
   "metadata": {},
   "source": [
    "**Problem 2: LASSO Regression (12 pts)**\n",
    "\n",
    "Train a LASSO regression model with grid search and 5-fold cross validation. The potential choices of lambda (i.e., hyperparameters) are: 0.001, 0.01, 0.1, 1, 10, 100.  \n",
    "\n",
    "- What is the hyperparameter chosen? \n",
    "- Report the coefficient and intercept of the best model chosen. \n",
    "- Based on the current coefficient estimates, without training additional models, answer questions below.\n",
    "    - Are there any variables that are not helpful in predicting the total checkout count? If yes, what are they? Explain briefly.\n",
    "    - If we set lambda to 0.0001, are we able to exclude any variables? If we set lambda to 1000, are we able to exclude any variables? Explain briefly.\n",
    "- We would like to use R-squared as the performance measure. What is the R-squared value for the test set?  What is the mean validation R-squared value of the best model? \n",
    "- The two measures (i.e., mean validation R-squared value and test R-squared value) are used for different purposes. Briefly explain what the two measures are used for correspondingly."
   ]
  },
  {
   "cell_type": "code",
   "execution_count": 32,
   "metadata": {},
   "outputs": [],
   "source": [
    "#import\n",
    "from sklearn.linear_model import Lasso\n",
    "from sklearn.model_selection import GridSearchCV"
   ]
  },
  {
   "cell_type": "code",
   "execution_count": 33,
   "metadata": {},
   "outputs": [],
   "source": [
    "# define grid of parameters\n",
    "lasso_params = { 'alpha' :  [0.001, 0.01, 0.1, 1, 10, 100] }"
   ]
  },
  {
   "cell_type": "code",
   "execution_count": 34,
   "metadata": {},
   "outputs": [],
   "source": [
    "#define gridsearch estimation function \n",
    "lasso = Lasso()\n",
    "lasso_grid = GridSearchCV(lasso, lasso_params, cv = 5)"
   ]
  },
  {
   "cell_type": "code",
   "execution_count": 35,
   "metadata": {},
   "outputs": [
    {
     "data": {
      "text/plain": [
       "GridSearchCV(cv=5, estimator=Lasso(),\n",
       "             param_grid={'alpha': [0.001, 0.01, 0.1, 1, 10, 100]})"
      ]
     },
     "execution_count": 35,
     "metadata": {},
     "output_type": "execute_result"
    }
   ],
   "source": [
    "#train data \n",
    "lasso_grid.fit(X_train, y_train)"
   ]
  },
  {
   "cell_type": "code",
   "execution_count": 36,
   "metadata": {},
   "outputs": [
    {
     "name": "stdout",
     "output_type": "stream",
     "text": [
      "{'alpha': 1}\n"
     ]
    }
   ],
   "source": [
    "#\"What is the hyperparameter chosen?\" - alpha = 1\n",
    "#best hyperparameter\n",
    "print(lasso_grid.best_params_)"
   ]
  },
  {
   "cell_type": "code",
   "execution_count": 37,
   "metadata": {},
   "outputs": [
    {
     "name": "stdout",
     "output_type": "stream",
     "text": [
      "coefficient of best model: [   76.5378   415.7713   128.731   5222.2339 -1824.4194  -799.342 ]\n",
      "intercept of best model 2066.023470990603\n"
     ]
    }
   ],
   "source": [
    "#Report the coefficient and intercept of the best model chosen.\n",
    "print(\"coefficient of best model:\", lasso_grid.best_estimator_.coef_)\n",
    "print(\"intercept of best model\", lasso_grid.best_estimator_.intercept_)"
   ]
  },
  {
   "cell_type": "code",
   "execution_count": null,
   "metadata": {},
   "outputs": [],
   "source": [
    "#Are there any variables that are not helpful in predicting the total checkout count? \n",
    "#If yes, what are they? Explain briefly.\n",
    "var = ['weekday', 'season','workingday', 'temp', 'windspeed', 'weathersit']\n",
    "#LASSO punishes variables by making their coefficients 0. Since none of these coefficients are close to 0, \n",
    "#we can say they are all helpful in predicting the total checkout count"
   ]
  },
  {
   "cell_type": "code",
   "execution_count": 103,
   "metadata": {},
   "outputs": [
    {
     "name": "stdout",
     "output_type": "stream",
     "text": [
      "alpha = 0.001: [   76.774    412.6659   132.2063  5245.4624 -1995.5644  -800.6082] 2093.381363143727\n",
      "alpha = 1000: [ 0.  0.  0.  0. -0. -0.] 4574.998175182482\n"
     ]
    }
   ],
   "source": [
    "#If we set lambda to 0.0001, are we able to exclude any variables?\n",
    "#If we set lambda to 1000, are we able to exclude any variables? Explain briefly.\n",
    "from sklearn.linear_model import Lasso\n",
    "\n",
    "lasso_base1 = Lasso(alpha = 0.001)\n",
    "lasso_base1.fit(X_train, y_train)\n",
    "y_pred_test = lasso_base1.predict(X_test)\n",
    "print(\"alpha = 0.001:\", lasso_base1.coef_, lasso_base1.intercept_) \n",
    "\n",
    "lasso_base2 = Lasso(alpha = 1000)\n",
    "lasso_base2.fit(X_train, y_train)\n",
    "y_pred_test = lasso_base2.predict(X_test)\n",
    "print(\"alpha = 1000:\", lasso_base2.coef_, lasso_base2.intercept_) \n",
    "\n",
    "#Yes. In the first model with alpha = 0.001, none of the coefficients are close to 0 so we cannot exclude any of them\n",
    "#In the second model, however, we can exclude all of the variables. In LASSO regression, as alpha reaches infinity, the coefficients get set to 0 since it is a more conservative model \n"
   ]
  },
  {
   "cell_type": "code",
   "execution_count": 104,
   "metadata": {},
   "outputs": [
    {
     "name": "stdout",
     "output_type": "stream",
     "text": [
      "0.5273339521987706\n"
     ]
    },
    {
     "data": {
      "text/plain": [
       "0.4761310883810908"
      ]
     },
     "execution_count": 104,
     "metadata": {},
     "output_type": "execute_result"
    }
   ],
   "source": [
    "#We would like to use R-squared as the performance measure. \n",
    "#What is the R-squared value for the test set? \n",
    "print(lasso_grid.score(X_test, y_test))\n",
    "\n",
    "#What is the mean validation R-squared value of the best model?\n",
    "np.max(lasso_grid.cv_results_['mean_test_score'])"
   ]
  },
  {
   "cell_type": "code",
   "execution_count": 105,
   "metadata": {},
   "outputs": [],
   "source": [
    "#The two measures (i.e., mean validation R-squared value and test R-squared value) are used for different purposes. Briefly explain what the\n",
    "#two measures are used for correspondingly.\n",
    "#the test R^2 value is the unbiased performance measure for the test set.\n",
    "#On the other hand, the mean validation R-sqaured value for the best model is the performance measure based on which \"best\" hyperparamer is chosen (R2)"
   ]
  },
  {
   "cell_type": "markdown",
   "metadata": {},
   "source": [
    "**Problem 3: Ridge Regression Extended (12 pts)**\n",
    "\n",
    "Train a Ridge regression model, ridge50, using the training set with lambda = 50. Then Train another Ridge regression model, ridge5, using the training set with lambda = 5.\n",
    "\n",
    "- Report the coefficients and the intercept of the two Ridge regressions. \n",
    "- Compare the coefficients and intercept of the two Ridge regression. What pattern do you expect when comparing the coefficients and intercept of the two models?\n",
    "    - Is the comparison of the two intercepts and all coefficients consistent with your expectation? \n",
    "    - Do you have any guesses on why the pattern is/is not consistent with your expectation?\n",
    "- Now, obtain the sum of the squared value of the coefficients for (1) the ridge50 model, and (2) the ridge5 model. Then add the squared value of the intercept of the corresponding models. Here, you have obtained two summed values.\n",
    "    - Report and compare the two values, what do you find? \n",
    "    - Based on the practice so far, as well as the penalty term applied to the objective function, can you briefly explain what coefficient pattern is explicitly expected when comparing a Ridge regression with different lambdas?\n"
   ]
  },
  {
   "cell_type": "code",
   "execution_count": 106,
   "metadata": {},
   "outputs": [
    {
     "name": "stdout",
     "output_type": "stream",
     "text": [
      "coefficients: [  77.6418  616.0391  163.959  1317.6573 -178.9279 -750.325 ]\n",
      "intercept: 3115.1364365160916\n"
     ]
    }
   ],
   "source": [
    "from sklearn.linear_model import Ridge\n",
    "ridge50 = Ridge(alpha = 50)\n",
    "ridge50.fit(X_train, y_train)\n",
    "y_pred_test = ridge50.predict(X_test)\n",
    "\n",
    "print(\"coefficients (50):\", ridge50.coef_)\n",
    "print(\"intercept:\",  ridge50.intercept_)"
   ]
  },
  {
   "cell_type": "code",
   "execution_count": 109,
   "metadata": {},
   "outputs": [
    {
     "name": "stdout",
     "output_type": "stream",
     "text": [
      "coefficients (5): [  77.3541  495.8282  161.8522 4022.3383 -863.8155 -837.4364]\n",
      "intercept: 2314.03990678701\n"
     ]
    }
   ],
   "source": [
    "ridge5 = Ridge(alpha = 5)\n",
    "ridge5.fit(X_train, y_train)\n",
    "y_pred_test = ridge5.predict(X_test)\n",
    "\n",
    "print(\"coefficients (5):\", ridge5.coef_)\n",
    "print(\"intercept:\",  ridge5.intercept_)"
   ]
  },
  {
   "cell_type": "code",
   "execution_count": 110,
   "metadata": {},
   "outputs": [],
   "source": [
    "#Compare the coefficients and intercept of the two Ridge regression. \n",
    "#What pattern do you expect when comparing the coefficients and intercept of the two models?\n",
    "# I expect to see lower coefficients for a higher alpha because since the model is being more conservative, the coefficients that aren't as relevant get smaller and have a lower impact. \n",
    "\n",
    "#Is the comparison of the two intercepts and all coefficients consistent \n",
    "#with your expectation?\n",
    "#yes, although majority of the coefficients (when alpha is 5) are lower than the coefficients when alpha is 50, the last two coefficients decreased significantly, having an overall effect on the model. \n",
    "#this shows that increases alpha increases how strict the model is, and will lower the coefficient's impact as a result. \n",
    "\n",
    "#Do you have any guesses on why the pattern is/is \n",
    "#not consistent with your expectation?\n",
    "#When the coefficients of the variables decrease, it causes them to have less of an impact on the dependent variable. Alpha acts as the shinkage penalty so the higher the alpha, the higher the penalty the coefficients get. "
   ]
  },
  {
   "cell_type": "code",
   "execution_count": null,
   "metadata": {},
   "outputs": [],
   "source": [
    "#Now, obtain the sum of the squared value of the coefficients for (1) the ridge50 model, and (2) the ridge5 model. Then add the squared value of the intercept of the corresponding models. \n",
    "#Here, you have obtained two summed values.\n",
    "\n",
    "\n",
    "#Report and compare the two values, what do you find?\n",
    "#Based on the practice so far, as well as the penalty term applied to the objective function, can you briefly explain what coefficient pattern is explicitly expected when comparing a Ridge regression with different lambdas?\n",
    "\n",
    "\n",
    "\n"
   ]
  },
  {
   "cell_type": "code",
   "execution_count": null,
   "metadata": {},
   "outputs": [],
   "source": []
  },
  {
   "cell_type": "code",
   "execution_count": null,
   "metadata": {},
   "outputs": [],
   "source": []
  },
  {
   "cell_type": "markdown",
   "metadata": {},
   "source": [
    "### Section 2.2 Classification\n",
    "\n",
    "In this section, we would like to study the taste preference of red wine. You need to train different classification models and answer corresponding questions.\n",
    "\n",
    "#### Data and Setting\n",
    "\n",
    "We consider *vinho verde*, a unique product from the Minho (northwest) region of Portugal. Testers are invited to taste the wine and rate the wine quality. The detailed information of wine can be found in “wine.csv”. Variables are listed below. (You can skip the variable description as they are mostly area-specific terminologies).\n",
    "\n",
    "\n",
    "- Fixed acidity (g(tartaric acid)/dm3)\n",
    "- Volatile acidity (g(acetic acid)/dm3)\n",
    "- Citric acid (g/dm3)\n",
    "- Residual sugar (g/dm3)\n",
    "- Chlorides (g(sodium chloride)/dm3)\n",
    "- Free sulfur dioxide (mg/dm3)\n",
    "- Total sulfur dioxide (mg/dm3)\n",
    "- Density (g/cm3)\n",
    "- pH\n",
    "- Sulphates (g(potassium sulphate)/dm3)\n",
    "- Alcohol (vol.%)\n",
    "- Quality: wine quality rated by tester\n",
    "\n",
    "#### Data Preparation\n",
    "We use all other variables to predict the wine quality (Quality). Use the code below to load and split the data."
   ]
  },
  {
   "cell_type": "code",
   "execution_count": 117,
   "metadata": {},
   "outputs": [
    {
     "name": "stdout",
     "output_type": "stream",
     "text": [
      "['fixedacidity' 'volatileacidity' 'citricacid' 'residualsugar' 'chlorides'\n",
      " 'freesulfurdioxide' 'totalsulfurdioxide' 'density' 'ph' 'sulphates'\n",
      " 'alcohol' 'quality']\n"
     ]
    },
    {
     "data": {
      "text/html": [
       "<div>\n",
       "<style scoped>\n",
       "    .dataframe tbody tr th:only-of-type {\n",
       "        vertical-align: middle;\n",
       "    }\n",
       "\n",
       "    .dataframe tbody tr th {\n",
       "        vertical-align: top;\n",
       "    }\n",
       "\n",
       "    .dataframe thead th {\n",
       "        text-align: right;\n",
       "    }\n",
       "</style>\n",
       "<table border=\"1\" class=\"dataframe\">\n",
       "  <thead>\n",
       "    <tr style=\"text-align: right;\">\n",
       "      <th></th>\n",
       "      <th>fixedacidity</th>\n",
       "      <th>volatileacidity</th>\n",
       "      <th>citricacid</th>\n",
       "      <th>residualsugar</th>\n",
       "      <th>chlorides</th>\n",
       "      <th>freesulfurdioxide</th>\n",
       "      <th>totalsulfurdioxide</th>\n",
       "      <th>density</th>\n",
       "      <th>ph</th>\n",
       "      <th>sulphates</th>\n",
       "      <th>alcohol</th>\n",
       "      <th>quality</th>\n",
       "    </tr>\n",
       "  </thead>\n",
       "  <tbody>\n",
       "    <tr>\n",
       "      <th>0</th>\n",
       "      <td>7.4</td>\n",
       "      <td>0.70</td>\n",
       "      <td>0.00</td>\n",
       "      <td>1.9</td>\n",
       "      <td>0.076</td>\n",
       "      <td>11.0</td>\n",
       "      <td>34.0</td>\n",
       "      <td>0.9978</td>\n",
       "      <td>3.51</td>\n",
       "      <td>0.56</td>\n",
       "      <td>9.4</td>\n",
       "      <td>0</td>\n",
       "    </tr>\n",
       "    <tr>\n",
       "      <th>1</th>\n",
       "      <td>7.8</td>\n",
       "      <td>0.88</td>\n",
       "      <td>0.00</td>\n",
       "      <td>2.6</td>\n",
       "      <td>0.098</td>\n",
       "      <td>25.0</td>\n",
       "      <td>67.0</td>\n",
       "      <td>0.9968</td>\n",
       "      <td>3.20</td>\n",
       "      <td>0.68</td>\n",
       "      <td>9.8</td>\n",
       "      <td>0</td>\n",
       "    </tr>\n",
       "    <tr>\n",
       "      <th>2</th>\n",
       "      <td>7.8</td>\n",
       "      <td>0.76</td>\n",
       "      <td>0.04</td>\n",
       "      <td>2.3</td>\n",
       "      <td>0.092</td>\n",
       "      <td>15.0</td>\n",
       "      <td>54.0</td>\n",
       "      <td>0.9970</td>\n",
       "      <td>3.26</td>\n",
       "      <td>0.65</td>\n",
       "      <td>9.8</td>\n",
       "      <td>0</td>\n",
       "    </tr>\n",
       "    <tr>\n",
       "      <th>3</th>\n",
       "      <td>11.2</td>\n",
       "      <td>0.28</td>\n",
       "      <td>0.56</td>\n",
       "      <td>1.9</td>\n",
       "      <td>0.075</td>\n",
       "      <td>17.0</td>\n",
       "      <td>60.0</td>\n",
       "      <td>0.9980</td>\n",
       "      <td>3.16</td>\n",
       "      <td>0.58</td>\n",
       "      <td>9.8</td>\n",
       "      <td>1</td>\n",
       "    </tr>\n",
       "    <tr>\n",
       "      <th>4</th>\n",
       "      <td>7.4</td>\n",
       "      <td>0.70</td>\n",
       "      <td>0.00</td>\n",
       "      <td>1.9</td>\n",
       "      <td>0.076</td>\n",
       "      <td>11.0</td>\n",
       "      <td>34.0</td>\n",
       "      <td>0.9978</td>\n",
       "      <td>3.51</td>\n",
       "      <td>0.56</td>\n",
       "      <td>9.4</td>\n",
       "      <td>0</td>\n",
       "    </tr>\n",
       "  </tbody>\n",
       "</table>\n",
       "</div>"
      ],
      "text/plain": [
       "   fixedacidity  volatileacidity  citricacid  residualsugar  chlorides  \\\n",
       "0           7.4             0.70        0.00            1.9      0.076   \n",
       "1           7.8             0.88        0.00            2.6      0.098   \n",
       "2           7.8             0.76        0.04            2.3      0.092   \n",
       "3          11.2             0.28        0.56            1.9      0.075   \n",
       "4           7.4             0.70        0.00            1.9      0.076   \n",
       "\n",
       "   freesulfurdioxide  totalsulfurdioxide  density    ph  sulphates  alcohol  \\\n",
       "0               11.0                34.0   0.9978  3.51       0.56      9.4   \n",
       "1               25.0                67.0   0.9968  3.20       0.68      9.8   \n",
       "2               15.0                54.0   0.9970  3.26       0.65      9.8   \n",
       "3               17.0                60.0   0.9980  3.16       0.58      9.8   \n",
       "4               11.0                34.0   0.9978  3.51       0.56      9.4   \n",
       "\n",
       "   quality  \n",
       "0        0  \n",
       "1        0  \n",
       "2        0  \n",
       "3        1  \n",
       "4        0  "
      ]
     },
     "execution_count": 117,
     "metadata": {},
     "output_type": "execute_result"
    }
   ],
   "source": [
    "import pandas as pd\n",
    "wine = pd.read_csv(\"wine.csv\")\n",
    "print(wine.columns.values) # to find variable names\n",
    "wine.head()"
   ]
  },
  {
   "cell_type": "code",
   "execution_count": 112,
   "metadata": {},
   "outputs": [],
   "source": [
    "var = ['fixedacidity','volatileacidity','citricacid','residualsugar','chlorides','freesulfurdioxide',\\\n",
    "     'totalsulfurdioxide','density', 'ph','sulphates', 'alcohol']\n",
    "X = wine[var]\n",
    "y = wine['quality']\n",
    "from sklearn.model_selection import train_test_split\n",
    "X_train, X_test, y_train, y_test = train_test_split(X, y, test_size=0.25, random_state=999)"
   ]
  },
  {
   "cell_type": "markdown",
   "metadata": {},
   "source": [
    "Run the cell below to obtain summary statistics of the data."
   ]
  },
  {
   "cell_type": "code",
   "execution_count": 113,
   "metadata": {},
   "outputs": [
    {
     "data": {
      "text/html": [
       "<div>\n",
       "<style scoped>\n",
       "    .dataframe tbody tr th:only-of-type {\n",
       "        vertical-align: middle;\n",
       "    }\n",
       "\n",
       "    .dataframe tbody tr th {\n",
       "        vertical-align: top;\n",
       "    }\n",
       "\n",
       "    .dataframe thead th {\n",
       "        text-align: right;\n",
       "    }\n",
       "</style>\n",
       "<table border=\"1\" class=\"dataframe\">\n",
       "  <thead>\n",
       "    <tr style=\"text-align: right;\">\n",
       "      <th></th>\n",
       "      <th>fixedacidity</th>\n",
       "      <th>volatileacidity</th>\n",
       "      <th>citricacid</th>\n",
       "      <th>residualsugar</th>\n",
       "      <th>chlorides</th>\n",
       "      <th>freesulfurdioxide</th>\n",
       "      <th>totalsulfurdioxide</th>\n",
       "      <th>density</th>\n",
       "      <th>ph</th>\n",
       "      <th>sulphates</th>\n",
       "      <th>alcohol</th>\n",
       "      <th>quality</th>\n",
       "    </tr>\n",
       "  </thead>\n",
       "  <tbody>\n",
       "    <tr>\n",
       "      <th>count</th>\n",
       "      <td>1599.000000</td>\n",
       "      <td>1599.000000</td>\n",
       "      <td>1599.000000</td>\n",
       "      <td>1599.000000</td>\n",
       "      <td>1599.000000</td>\n",
       "      <td>1599.000000</td>\n",
       "      <td>1599.000000</td>\n",
       "      <td>1599.000000</td>\n",
       "      <td>1599.000000</td>\n",
       "      <td>1599.000000</td>\n",
       "      <td>1599.000000</td>\n",
       "      <td>1599.000000</td>\n",
       "    </tr>\n",
       "    <tr>\n",
       "      <th>mean</th>\n",
       "      <td>8.319637</td>\n",
       "      <td>0.527821</td>\n",
       "      <td>0.270976</td>\n",
       "      <td>2.538805</td>\n",
       "      <td>0.087467</td>\n",
       "      <td>15.874922</td>\n",
       "      <td>46.467792</td>\n",
       "      <td>0.996747</td>\n",
       "      <td>3.311113</td>\n",
       "      <td>0.658149</td>\n",
       "      <td>10.422983</td>\n",
       "      <td>0.534709</td>\n",
       "    </tr>\n",
       "    <tr>\n",
       "      <th>std</th>\n",
       "      <td>1.741096</td>\n",
       "      <td>0.179060</td>\n",
       "      <td>0.194801</td>\n",
       "      <td>1.409928</td>\n",
       "      <td>0.047065</td>\n",
       "      <td>10.460157</td>\n",
       "      <td>32.895324</td>\n",
       "      <td>0.001887</td>\n",
       "      <td>0.154386</td>\n",
       "      <td>0.169507</td>\n",
       "      <td>1.065668</td>\n",
       "      <td>0.498950</td>\n",
       "    </tr>\n",
       "    <tr>\n",
       "      <th>min</th>\n",
       "      <td>4.600000</td>\n",
       "      <td>0.120000</td>\n",
       "      <td>0.000000</td>\n",
       "      <td>0.900000</td>\n",
       "      <td>0.012000</td>\n",
       "      <td>1.000000</td>\n",
       "      <td>6.000000</td>\n",
       "      <td>0.990070</td>\n",
       "      <td>2.740000</td>\n",
       "      <td>0.330000</td>\n",
       "      <td>8.400000</td>\n",
       "      <td>0.000000</td>\n",
       "    </tr>\n",
       "    <tr>\n",
       "      <th>25%</th>\n",
       "      <td>7.100000</td>\n",
       "      <td>0.390000</td>\n",
       "      <td>0.090000</td>\n",
       "      <td>1.900000</td>\n",
       "      <td>0.070000</td>\n",
       "      <td>7.000000</td>\n",
       "      <td>22.000000</td>\n",
       "      <td>0.995600</td>\n",
       "      <td>3.210000</td>\n",
       "      <td>0.550000</td>\n",
       "      <td>9.500000</td>\n",
       "      <td>0.000000</td>\n",
       "    </tr>\n",
       "    <tr>\n",
       "      <th>50%</th>\n",
       "      <td>7.900000</td>\n",
       "      <td>0.520000</td>\n",
       "      <td>0.260000</td>\n",
       "      <td>2.200000</td>\n",
       "      <td>0.079000</td>\n",
       "      <td>14.000000</td>\n",
       "      <td>38.000000</td>\n",
       "      <td>0.996750</td>\n",
       "      <td>3.310000</td>\n",
       "      <td>0.620000</td>\n",
       "      <td>10.200000</td>\n",
       "      <td>1.000000</td>\n",
       "    </tr>\n",
       "    <tr>\n",
       "      <th>75%</th>\n",
       "      <td>9.200000</td>\n",
       "      <td>0.640000</td>\n",
       "      <td>0.420000</td>\n",
       "      <td>2.600000</td>\n",
       "      <td>0.090000</td>\n",
       "      <td>21.000000</td>\n",
       "      <td>62.000000</td>\n",
       "      <td>0.997835</td>\n",
       "      <td>3.400000</td>\n",
       "      <td>0.730000</td>\n",
       "      <td>11.100000</td>\n",
       "      <td>1.000000</td>\n",
       "    </tr>\n",
       "    <tr>\n",
       "      <th>max</th>\n",
       "      <td>15.900000</td>\n",
       "      <td>1.580000</td>\n",
       "      <td>1.000000</td>\n",
       "      <td>15.500000</td>\n",
       "      <td>0.611000</td>\n",
       "      <td>72.000000</td>\n",
       "      <td>289.000000</td>\n",
       "      <td>1.003690</td>\n",
       "      <td>4.010000</td>\n",
       "      <td>2.000000</td>\n",
       "      <td>14.900000</td>\n",
       "      <td>1.000000</td>\n",
       "    </tr>\n",
       "  </tbody>\n",
       "</table>\n",
       "</div>"
      ],
      "text/plain": [
       "       fixedacidity  volatileacidity   citricacid  residualsugar    chlorides  \\\n",
       "count   1599.000000      1599.000000  1599.000000    1599.000000  1599.000000   \n",
       "mean       8.319637         0.527821     0.270976       2.538805     0.087467   \n",
       "std        1.741096         0.179060     0.194801       1.409928     0.047065   \n",
       "min        4.600000         0.120000     0.000000       0.900000     0.012000   \n",
       "25%        7.100000         0.390000     0.090000       1.900000     0.070000   \n",
       "50%        7.900000         0.520000     0.260000       2.200000     0.079000   \n",
       "75%        9.200000         0.640000     0.420000       2.600000     0.090000   \n",
       "max       15.900000         1.580000     1.000000      15.500000     0.611000   \n",
       "\n",
       "       freesulfurdioxide  totalsulfurdioxide      density           ph  \\\n",
       "count        1599.000000         1599.000000  1599.000000  1599.000000   \n",
       "mean           15.874922           46.467792     0.996747     3.311113   \n",
       "std            10.460157           32.895324     0.001887     0.154386   \n",
       "min             1.000000            6.000000     0.990070     2.740000   \n",
       "25%             7.000000           22.000000     0.995600     3.210000   \n",
       "50%            14.000000           38.000000     0.996750     3.310000   \n",
       "75%            21.000000           62.000000     0.997835     3.400000   \n",
       "max            72.000000          289.000000     1.003690     4.010000   \n",
       "\n",
       "         sulphates      alcohol      quality  \n",
       "count  1599.000000  1599.000000  1599.000000  \n",
       "mean      0.658149    10.422983     0.534709  \n",
       "std       0.169507     1.065668     0.498950  \n",
       "min       0.330000     8.400000     0.000000  \n",
       "25%       0.550000     9.500000     0.000000  \n",
       "50%       0.620000    10.200000     1.000000  \n",
       "75%       0.730000    11.100000     1.000000  \n",
       "max       2.000000    14.900000     1.000000  "
      ]
     },
     "execution_count": 113,
     "metadata": {},
     "output_type": "execute_result"
    }
   ],
   "source": [
    "wine.describe()"
   ]
  },
  {
   "cell_type": "markdown",
   "metadata": {},
   "source": [
    "**Problem 1: K-NN (12 pts)**\n",
    "\n",
    "Train a K-Nearest Neighbor (k-NN) model with grid search and 10-fold cross-validation. Let the distance measure be Euclidean distance. Let the potential choices of be all odd numbers between 3 and 21 (inclusive). Training the model may take a couple of seconds.\n",
    "\n",
    "- What is the chosen k? What is the mean validation accuracy when the best k is chosen? \n",
    "- Suppose we have another wine, and we observe its features: **“7; 0.27; 0.36; 20.7; 0.045; 45; 170; 1.001; 3; 0.45; 8.8”**  (Input values are in the same order of the X variables, i.e., 'fixedacidity' = 7, volatileacidity = 0.27, etc.). \n",
    "    - Predict its quality using the selected k-NN model.\n",
    "    - Report ONLY the distances of the k Nearest Neighbors.\n",
    "    - Given the new sample, how many of its k Nearest Neighbors have the label of y = 1? "
   ]
  },
  {
   "cell_type": "code",
   "execution_count": 114,
   "metadata": {},
   "outputs": [
    {
     "data": {
      "text/plain": [
       "GridSearchCV(cv=10, estimator=KNeighborsClassifier(),\n",
       "             param_grid={'n_neighbors': range(3, 21, 2)})"
      ]
     },
     "execution_count": 114,
     "metadata": {},
     "output_type": "execute_result"
    }
   ],
   "source": [
    "from sklearn.model_selection import GridSearchCV\n",
    "from sklearn.neighbors import KNeighborsClassifier\n",
    "\n",
    "# define function\n",
    "knn = KNeighborsClassifier()\n",
    "\n",
    "# define a list of parameters: odd numbers 3-25 inclusive\n",
    "param_knn = {'n_neighbors': range(3, 21, 2)}  # exactly the same as the input variable name. \n",
    "# range(i, j, s): integers from i to j, exclude j, increase by s\n",
    "\n",
    "#apply grid search\n",
    "grid_knn = GridSearchCV(knn, param_knn, cv = 10)\n",
    "grid_knn.fit(X_train, y_train)"
   ]
  },
  {
   "cell_type": "code",
   "execution_count": 115,
   "metadata": {},
   "outputs": [
    {
     "name": "stdout",
     "output_type": "stream",
     "text": [
      "{'n_neighbors': 13}\n",
      "0.671421568627451\n"
     ]
    }
   ],
   "source": [
    "# the best hyperparameter chosen:\n",
    "print(\"chosen K: \", grid_knn.best_params_)\n",
    "\n",
    "print(\"mean validation accuracy: \", grid_knn.best_score_)"
   ]
  },
  {
   "cell_type": "code",
   "execution_count": 144,
   "metadata": {},
   "outputs": [],
   "source": [
    "X_new = [[7, 0.27, 0.36, 20.7, 0.045, 45, 170, 1.001, 3, 0.45, 8.8]]\n",
    "value = grid_knn.predict(X_new)\n",
    "#Predict its quality using the selected k-NN model\n",
    "#the quality would be array([0]) "
   ]
  },
  {
   "cell_type": "code",
   "execution_count": 124,
   "metadata": {},
   "outputs": [
    {
     "name": "stdout",
     "output_type": "stream",
     "text": [
      "distances (array([[26.4273, 28.3978, 29.7637, 31.0445, 31.7933, 32.8302, 34.205 ,\n",
      "        36.5136, 36.9853, 37.0005, 38.1209, 38.7989, 39.4244]]), array([[ 165,  545,  643,  343,  920,  778, 1013,  518,  682,  494,   24,\n",
      "        1123,   11]]))\n"
     ]
    }
   ],
   "source": [
    "#Report ONLY the distances of the k Nearest Neighbors.\n",
    "print(\"distances\", grid_knn.best_estimator_.kneighbors(X_new))\n",
    "\n",
    "#Given the new sample, how many of its k Nearest Neighbors have the label of y = 1?\n"
   ]
  },
  {
   "cell_type": "code",
   "execution_count": null,
   "metadata": {},
   "outputs": [],
   "source": []
  },
  {
   "cell_type": "code",
   "execution_count": null,
   "metadata": {},
   "outputs": [],
   "source": []
  },
  {
   "cell_type": "code",
   "execution_count": null,
   "metadata": {},
   "outputs": [],
   "source": []
  },
  {
   "cell_type": "markdown",
   "metadata": {},
   "source": [
    "**Problem 2: Logistic regression with regularization (8 pts)**\n",
    "\n",
    "Train a logistic regression model with l2 regularization. \n",
    "- Report the coefficient values for fixedacidity and citricacid. (Hint: check code for data preparation step to find the order of variables.)\n",
    "- Obtain and report the True Positive Rate (TPR) and False Positive Rate (FPR) of the test set. \n",
    "- Suppose that we manually set the probability to 0.8. How would you expect the TPR change? How would you expect FPR change? Explain briefly."
   ]
  },
  {
   "cell_type": "code",
   "execution_count": 71,
   "metadata": {},
   "outputs": [],
   "source": [
    "from sklearn.linear_model import LogisticRegression\n",
    "#By default, l2 regularization is applied"
   ]
  },
  {
   "cell_type": "code",
   "execution_count": 78,
   "metadata": {},
   "outputs": [
    {
     "data": {
      "text/plain": [
       "LogisticRegression()"
      ]
     },
     "execution_count": 78,
     "metadata": {},
     "output_type": "execute_result"
    }
   ],
   "source": [
    "logreg = LogisticRegression()\n",
    "logreg.fit(X_train, y_train)"
   ]
  },
  {
   "cell_type": "code",
   "execution_count": 142,
   "metadata": {},
   "outputs": [
    {
     "name": "stdout",
     "output_type": "stream",
     "text": [
      "[[ 0.0016 -2.8923 -1.0658  0.0825 -0.9158  0.0255 -0.0204 -0.8692 -1.7845\n",
      "   2.0023  0.8651]]\n"
     ]
    }
   ],
   "source": [
    "print(logreg.coef_)"
   ]
  },
  {
   "cell_type": "code",
   "execution_count": 143,
   "metadata": {},
   "outputs": [
    {
     "name": "stdout",
     "output_type": "stream",
     "text": [
      "fixedacidity: [ 0.0016 -2.8923 -1.0658  0.0825 -0.9158  0.0255 -0.0204 -0.8692 -1.7845\n",
      "  2.0023  0.8651]\n"
     ]
    },
    {
     "ename": "IndexError",
     "evalue": "index 2 is out of bounds for axis 0 with size 1",
     "output_type": "error",
     "traceback": [
      "\u001b[0;31m---------------------------------------------------------------------------\u001b[0m",
      "\u001b[0;31mIndexError\u001b[0m                                Traceback (most recent call last)",
      "\u001b[0;32m/var/folders/6y/8nbtlwpn2lv05l3yxc5kznnr0000gn/T/ipykernel_18594/999313854.py\u001b[0m in \u001b[0;36m<module>\u001b[0;34m\u001b[0m\n\u001b[1;32m      3\u001b[0m      'totalsulfurdioxide','density', 'ph','sulphates', 'alcohol']\n\u001b[1;32m      4\u001b[0m \u001b[0mprint\u001b[0m\u001b[0;34m(\u001b[0m\u001b[0;34m\"fixedacidity:\"\u001b[0m\u001b[0;34m,\u001b[0m \u001b[0mlogreg\u001b[0m\u001b[0;34m.\u001b[0m\u001b[0mcoef_\u001b[0m\u001b[0;34m[\u001b[0m\u001b[0;36m0\u001b[0m\u001b[0;34m]\u001b[0m\u001b[0;34m)\u001b[0m\u001b[0;34m\u001b[0m\u001b[0;34m\u001b[0m\u001b[0m\n\u001b[0;32m----> 5\u001b[0;31m \u001b[0mprint\u001b[0m\u001b[0;34m(\u001b[0m\u001b[0;34m\"citricacid:\"\u001b[0m\u001b[0;34m,\u001b[0m \u001b[0mlogreg\u001b[0m\u001b[0;34m.\u001b[0m\u001b[0mcoef_\u001b[0m\u001b[0;34m[\u001b[0m\u001b[0;36m2\u001b[0m\u001b[0;34m]\u001b[0m\u001b[0;34m)\u001b[0m\u001b[0;34m\u001b[0m\u001b[0;34m\u001b[0m\u001b[0m\n\u001b[0m",
      "\u001b[0;31mIndexError\u001b[0m: index 2 is out of bounds for axis 0 with size 1"
     ]
    }
   ],
   "source": [
    "#Report the coefficient values for fixedacidity and citricacid\n",
    "var = ['fixedacidity','volatileacidity','citricacid','residualsugar','chlorides','freesulfurdioxide',\\\n",
    "     'totalsulfurdioxide','density', 'ph','sulphates', 'alcohol']\n",
    "print(\"fixedacidity:\", logreg.coef_[0])\n",
    "print(\"citricacid:\", logreg.coef_[2])"
   ]
  },
  {
   "cell_type": "code",
   "execution_count": 129,
   "metadata": {},
   "outputs": [],
   "source": [
    "#Obtain and report the True Positive Rate (TPR) and False Positive Rate (FPR) of the test set.\n",
    "y_pred_test = logreg.predict(X_test)\n",
    "from sklearn.metrics import confusion_matrix\n",
    "my_matrix = confusion_matrix(y_test, y_pred_test)"
   ]
  },
  {
   "cell_type": "code",
   "execution_count": 133,
   "metadata": {},
   "outputs": [
    {
     "name": "stdout",
     "output_type": "stream",
     "text": [
      "TPR:  0.7465437788018433\n",
      "FPR:  0.32786885245901637\n"
     ]
    }
   ],
   "source": [
    "TP = my_matrix[1,1]\n",
    "TN = my_matrix[0,0]\n",
    "FP = my_matrix[0,1]\n",
    "FN = my_matrix[1,0]\n",
    "\n",
    "print(\"TPR: \", TP / (TP + FN))\n",
    "print(\"FPR: \", FP / (TN + FP))\n",
    "\n",
    "#from sklearn.metrics import precision_score, recall_score, accuracy_score, f1_score\n",
    "#print('Recall score:', recall_score(y_test, y_pred_test))"
   ]
  },
  {
   "cell_type": "code",
   "execution_count": null,
   "metadata": {},
   "outputs": [],
   "source": [
    "#Suppose that we manually set the probability to 0.8. How would you expect the TPR change? How would you expect FPR change? Explain briefly.\n",
    "#if we manually set the proability to 0.8, that means all observations with a probability less than 0.8 will be classed as 0. The model will\n",
    "#be more conservativte, meaning it will classify more observations to 0. This will cause the TPR to decrease since there will be a lower ability\n",
    "# to correctly identify all positive instances out of actual positive instances. This will also cause FPR to decrease because out of all the actual\n",
    "#negatives, the model will correctly predict more as negative. "
   ]
  },
  {
   "cell_type": "markdown",
   "metadata": {},
   "source": [
    "**Problem 3: Performance Measure (14 pts)**\n",
    "\n",
    "Now, let’s use roc curves to visualize the performance of the previous models, and compare with a naive model.\n",
    "\n",
    "- We define the naive model be: predicting all records as y_pred = 1, regardless of their predictors. What would be its accuracy for the test set? \n",
    "- Generate roc curve of the logistic regression model using test set.  \n",
    "- In the same figure, generate roc curve of the optimal kNN model using the test set. \n",
    "    - *Hint 1: By including the visualization syntax in two consecutive lines, you will obtain overlaied figure).* \n",
    "    - *Hint 2: In KNN, you will use the same syntax as in logistic regression to obtain the predicted probability, i.e., pi-hat*\n",
    "- In the same figure, generate roc curve of the naive model. Label axis accordingly. \n",
    "    - *Hint: you should be able to complete this task using syntax learned in class. You may want to check Lecture 1's Coding File*\n",
    "- Based on the figure, which model has a better performance? Based on the comparison, are we able to conclude which model is better? Do you have any concerns when conducting this comparison?"
   ]
  },
  {
   "cell_type": "code",
   "execution_count": 89,
   "metadata": {},
   "outputs": [
    {
     "name": "stdout",
     "output_type": "stream",
     "text": [
      "[0.4575]\n",
      "[0.5425]\n"
     ]
    }
   ],
   "source": [
    "#What would be its accuracy for the test set?\n",
    "Acc_Zeros = np.sum(0 == y_test)/y_test.shape \n",
    "print(Acc_Zeros)\n",
    "\n",
    "Acc_Ones = np.sum(1 == y_test)/y_test.shape \n",
    "print(Acc_Ones)\n"
   ]
  },
  {
   "cell_type": "code",
   "execution_count": 140,
   "metadata": {},
   "outputs": [
    {
     "data": {
      "text/plain": [
       "Text(0, 0.5, 'TPR')"
      ]
     },
     "execution_count": 140,
     "metadata": {},
     "output_type": "execute_result"
    },
    {
     "data": {
      "image/png": "[encoded data removed]",
      "text/plain": [
       "<Figure size 640x480 with 1 Axes>"
      ]
     },
     "metadata": {},
     "output_type": "display_data"
    }
   ],
   "source": [
    "#Generate roc curve of the logistic regression model using test set.\n",
    "from sklearn.metrics import roc_curve\n",
    "pred_prob = logreg.predict_proba(X_test)[:,1] #prob_y=1\n",
    "logreg.predict_proba(X_test)[ : , 1 ]\n",
    "FPR, TPR, threshold = roc_curve(y_test, pred_prob)\n",
    "plt.plot(FPR, TPR)\n",
    "plt.xlabel(\"FPR\")\n",
    "plt.ylabel(\"TPR\")\n",
    "\n",
    "#In the same figure, generate roc curve of the optimal kNN model using the test set\n",
    "from sklearn.metrics import roc_curve\n",
    "pred_prob = grid_knn.predict_proba(X_test)[:,1] #prob_y=1\n",
    "grid_knn.predict_proba(X_test)[ : , 1 ]\n",
    "FPR, TPR, threshold = roc_curve(y_test, pred_prob)\n",
    "plt.plot(FPR, TPR)\n",
    "plt.xlabel(\"FPR\")\n",
    "plt.ylabel(\"TPR\")\n",
    "\n",
    "#In the same figure, generate roc curve of the naive model. Label axis accordingly\n",
    "from sklearn.metrics import roc_curve\n",
    "pred_prob = logreg.predict_proba(X_train)[:,1] #prob_y=1\n",
    "logreg.predict_proba(X_train)[ : , 1 ]\n",
    "FPR, TPR, threshold = roc_curve(y_train, pred_prob)\n",
    "plt.plot(FPR, TPR)\n",
    "plt.xlabel(\"FPR\")\n",
    "plt.ylabel(\"TPR\")"
   ]
  },
  {
   "cell_type": "code",
   "execution_count": 141,
   "metadata": {},
   "outputs": [],
   "source": [
    "#Based on the figure, which model has a better performance? Based on the comparison, are we able to conclude which model is better? \n",
    "#Do you have any concerns when conducting this comparison?\n",
    "#based on the figure, the ROC curve generated by the naive model has the best performance. This is because the naive model is based on the training data \n",
    "#which is not an unbiased performance measure. My concerns when making this comparison is that using the training data is biased because it is\n",
    "#the same data that is used to estimate the parameters "
   ]
  },
  {
   "cell_type": "code",
   "execution_count": 1,
   "metadata": {},
   "outputs": [
    {
     "name": "stdout",
     "output_type": "stream",
     "text": [
      "7\n"
     ]
    }
   ],
   "source": [
    "def great(a, b):\n",
    "    while a != 0 and b != 0:\n",
    "        if a > b:\n",
    "            a = a - b\n",
    "        else:\n",
    "            b = b - a\n",
    "    return max(a, b)\n",
    "\n",
    "result = great(21, 35)\n",
    "print(result)"
   ]
  },
  {
   "cell_type": "code",
   "execution_count": 2,
   "metadata": {},
   "outputs": [
    {
     "name": "stdout",
     "output_type": "stream",
     "text": [
      "34\n"
     ]
    }
   ],
   "source": [
    "j = 1\n",
    "k = 2\n",
    "\n",
    "for i in range(3):\n",
    "    j += k\n",
    "    k += j\n",
    "\n",
    "print(k)\n"
   ]
  },
  {
   "cell_type": "code",
   "execution_count": 6,
   "metadata": {},
   "outputs": [
    {
     "name": "stdout",
     "output_type": "stream",
     "text": [
      "a\n",
      "adef\n"
     ]
    }
   ],
   "source": [
    "strings = [\"a\", \"bc\", \"def\", \"ghij\"]\n",
    "output = \"\"\n",
    "for x in strings:\n",
    "    if len(x) % 2 == 0: \n",
    "        continue\n",
    "    output += x\n",
    "    print(output)"
   ]
  },
  {
   "cell_type": "code",
   "execution_count": null,
   "metadata": {
    "collapsed": true
   },
   "outputs": [],
   "source": [
    "output"
   ]
  }
 ],
 "metadata": {
  "kernelspec": {
   "display_name": "Python 3 (ipykernel)",
   "language": "python",
   "name": "python3"
  },
  "language_info": {
   "codemirror_mode": {
    "name": "ipython",
    "version": 3
   },
   "file_extension": ".py",
   "mimetype": "text/x-python",
   "name": "python",
   "nbconvert_exporter": "python",
   "pygments_lexer": "ipython3",
   "version": "3.9.13"
  }
 },
 "nbformat": 4,
 "nbformat_minor": 2
}
